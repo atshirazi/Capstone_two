{
 "cells": [
  {
   "cell_type": "code",
   "execution_count": 3335,
   "metadata": {},
   "outputs": [],
   "source": [
    "import pandas as pd\n",
    "import os\n",
    "import numpy as np\n",
    "import datetime as dt\n",
    "import seaborn as sns\n",
    "import matplotlib.pyplot as plt\n",
    "import pandas_profiling\n",
    "from pandas_profiling.utils.cache import cache_file\n",
    "import matplotlib.pyplot as plt\n",
    "from sklearn.linear_model import LogisticRegression\n",
    "from sklearn.metrics import confusion_matrix, classification_report\n",
    "from sklearn.model_selection import train_test_split\n",
    "from sklearn.cluster import KMeans\n",
    "from sklearn.neighbors import KNeighborsClassifier\n",
    "from sklearn.metrics import roc_curve\n",
    "from sklearn.metrics import roc_auc_score\n",
    "from sklearn import preprocessing\n",
    "import statsmodels.api as sm\n",
    "from statsmodels.formula.api import ols\n",
    "from scipy.stats import chisquare\n",
    "from scipy.stats import chi2_contingency\n",
    "from sklearn.metrics import accuracy_score\n",
    "from sklearn.model_selection import KFold\n",
    "from sklearn.model_selection import cross_val_score\n",
    "from sklearn.model_selection import GridSearchCV\n",
    "from sklearn.linear_model import Lasso\n",
    "from sklearn.linear_model import Ridge\n",
    "from scipy.stats import randint\n",
    "from sklearn.tree import DecisionTreeClassifier\n",
    "from sklearn.model_selection import RandomizedSearchCV\n",
    "from sklearn.svm import SVC\n",
    "from sklearn.preprocessing import scale\n",
    "from sklearn.preprocessing import StandardScaler\n",
    "from sklearn.pipeline import Pipeline\n",
    "from sklearn.metrics import precision_recall_curve\n",
    "import math\n",
    "from sklearn.metrics import f1_score\n",
    "\n",
    "#print(os.getcwd())\n",
    "path=\"/Users/atousachaharsoughshirazi/Capstone_two/data\"\n",
    "os.chdir(path)\n",
    "file=\"bank-additional-full.csv\"\n",
    "df=pd.read_csv(file, sep=';', header=0)\n"
   ]
  },
  {
   "cell_type": "markdown",
   "metadata": {},
   "source": [
    "# 1) Data wrangling"
   ]
  },
  {
   "cell_type": "code",
   "execution_count": 3252,
   "metadata": {},
   "outputs": [
    {
     "data": {
      "text/html": [
       "<div>\n",
       "<style scoped>\n",
       "    .dataframe tbody tr th:only-of-type {\n",
       "        vertical-align: middle;\n",
       "    }\n",
       "\n",
       "    .dataframe tbody tr th {\n",
       "        vertical-align: top;\n",
       "    }\n",
       "\n",
       "    .dataframe thead th {\n",
       "        text-align: right;\n",
       "    }\n",
       "</style>\n",
       "<table border=\"1\" class=\"dataframe\">\n",
       "  <thead>\n",
       "    <tr style=\"text-align: right;\">\n",
       "      <th></th>\n",
       "      <th>age</th>\n",
       "      <th>job</th>\n",
       "      <th>marital</th>\n",
       "      <th>education</th>\n",
       "      <th>default</th>\n",
       "      <th>housing</th>\n",
       "      <th>loan</th>\n",
       "      <th>contact</th>\n",
       "      <th>month</th>\n",
       "      <th>day_of_week</th>\n",
       "      <th>...</th>\n",
       "      <th>campaign</th>\n",
       "      <th>pdays</th>\n",
       "      <th>previous</th>\n",
       "      <th>poutcome</th>\n",
       "      <th>emp.var.rate</th>\n",
       "      <th>cons.price.idx</th>\n",
       "      <th>cons.conf.idx</th>\n",
       "      <th>euribor3m</th>\n",
       "      <th>nr.employed</th>\n",
       "      <th>y</th>\n",
       "    </tr>\n",
       "  </thead>\n",
       "  <tbody>\n",
       "    <tr>\n",
       "      <th>0</th>\n",
       "      <td>56</td>\n",
       "      <td>housemaid</td>\n",
       "      <td>married</td>\n",
       "      <td>basic.4y</td>\n",
       "      <td>no</td>\n",
       "      <td>no</td>\n",
       "      <td>no</td>\n",
       "      <td>telephone</td>\n",
       "      <td>may</td>\n",
       "      <td>mon</td>\n",
       "      <td>...</td>\n",
       "      <td>1</td>\n",
       "      <td>999</td>\n",
       "      <td>0</td>\n",
       "      <td>nonexistent</td>\n",
       "      <td>1.1</td>\n",
       "      <td>93.994</td>\n",
       "      <td>-36.4</td>\n",
       "      <td>4.857</td>\n",
       "      <td>5191.0</td>\n",
       "      <td>no</td>\n",
       "    </tr>\n",
       "    <tr>\n",
       "      <th>1</th>\n",
       "      <td>57</td>\n",
       "      <td>services</td>\n",
       "      <td>married</td>\n",
       "      <td>high.school</td>\n",
       "      <td>unknown</td>\n",
       "      <td>no</td>\n",
       "      <td>no</td>\n",
       "      <td>telephone</td>\n",
       "      <td>may</td>\n",
       "      <td>mon</td>\n",
       "      <td>...</td>\n",
       "      <td>1</td>\n",
       "      <td>999</td>\n",
       "      <td>0</td>\n",
       "      <td>nonexistent</td>\n",
       "      <td>1.1</td>\n",
       "      <td>93.994</td>\n",
       "      <td>-36.4</td>\n",
       "      <td>4.857</td>\n",
       "      <td>5191.0</td>\n",
       "      <td>no</td>\n",
       "    </tr>\n",
       "    <tr>\n",
       "      <th>2</th>\n",
       "      <td>37</td>\n",
       "      <td>services</td>\n",
       "      <td>married</td>\n",
       "      <td>high.school</td>\n",
       "      <td>no</td>\n",
       "      <td>yes</td>\n",
       "      <td>no</td>\n",
       "      <td>telephone</td>\n",
       "      <td>may</td>\n",
       "      <td>mon</td>\n",
       "      <td>...</td>\n",
       "      <td>1</td>\n",
       "      <td>999</td>\n",
       "      <td>0</td>\n",
       "      <td>nonexistent</td>\n",
       "      <td>1.1</td>\n",
       "      <td>93.994</td>\n",
       "      <td>-36.4</td>\n",
       "      <td>4.857</td>\n",
       "      <td>5191.0</td>\n",
       "      <td>no</td>\n",
       "    </tr>\n",
       "    <tr>\n",
       "      <th>3</th>\n",
       "      <td>40</td>\n",
       "      <td>admin.</td>\n",
       "      <td>married</td>\n",
       "      <td>basic.6y</td>\n",
       "      <td>no</td>\n",
       "      <td>no</td>\n",
       "      <td>no</td>\n",
       "      <td>telephone</td>\n",
       "      <td>may</td>\n",
       "      <td>mon</td>\n",
       "      <td>...</td>\n",
       "      <td>1</td>\n",
       "      <td>999</td>\n",
       "      <td>0</td>\n",
       "      <td>nonexistent</td>\n",
       "      <td>1.1</td>\n",
       "      <td>93.994</td>\n",
       "      <td>-36.4</td>\n",
       "      <td>4.857</td>\n",
       "      <td>5191.0</td>\n",
       "      <td>no</td>\n",
       "    </tr>\n",
       "    <tr>\n",
       "      <th>4</th>\n",
       "      <td>56</td>\n",
       "      <td>services</td>\n",
       "      <td>married</td>\n",
       "      <td>high.school</td>\n",
       "      <td>no</td>\n",
       "      <td>no</td>\n",
       "      <td>yes</td>\n",
       "      <td>telephone</td>\n",
       "      <td>may</td>\n",
       "      <td>mon</td>\n",
       "      <td>...</td>\n",
       "      <td>1</td>\n",
       "      <td>999</td>\n",
       "      <td>0</td>\n",
       "      <td>nonexistent</td>\n",
       "      <td>1.1</td>\n",
       "      <td>93.994</td>\n",
       "      <td>-36.4</td>\n",
       "      <td>4.857</td>\n",
       "      <td>5191.0</td>\n",
       "      <td>no</td>\n",
       "    </tr>\n",
       "  </tbody>\n",
       "</table>\n",
       "<p>5 rows × 21 columns</p>\n",
       "</div>"
      ],
      "text/plain": [
       "   age        job  marital    education  default housing loan    contact  \\\n",
       "0   56  housemaid  married     basic.4y       no      no   no  telephone   \n",
       "1   57   services  married  high.school  unknown      no   no  telephone   \n",
       "2   37   services  married  high.school       no     yes   no  telephone   \n",
       "3   40     admin.  married     basic.6y       no      no   no  telephone   \n",
       "4   56   services  married  high.school       no      no  yes  telephone   \n",
       "\n",
       "  month day_of_week  ...  campaign  pdays  previous     poutcome emp.var.rate  \\\n",
       "0   may         mon  ...         1    999         0  nonexistent          1.1   \n",
       "1   may         mon  ...         1    999         0  nonexistent          1.1   \n",
       "2   may         mon  ...         1    999         0  nonexistent          1.1   \n",
       "3   may         mon  ...         1    999         0  nonexistent          1.1   \n",
       "4   may         mon  ...         1    999         0  nonexistent          1.1   \n",
       "\n",
       "   cons.price.idx  cons.conf.idx  euribor3m  nr.employed   y  \n",
       "0          93.994          -36.4      4.857       5191.0  no  \n",
       "1          93.994          -36.4      4.857       5191.0  no  \n",
       "2          93.994          -36.4      4.857       5191.0  no  \n",
       "3          93.994          -36.4      4.857       5191.0  no  \n",
       "4          93.994          -36.4      4.857       5191.0  no  \n",
       "\n",
       "[5 rows x 21 columns]"
      ]
     },
     "execution_count": 3252,
     "metadata": {},
     "output_type": "execute_result"
    }
   ],
   "source": [
    "df.head()"
   ]
  },
  {
   "cell_type": "code",
   "execution_count": 3253,
   "metadata": {},
   "outputs": [
    {
     "data": {
      "text/plain": [
       "(41188, 21)"
      ]
     },
     "execution_count": 3253,
     "metadata": {},
     "output_type": "execute_result"
    }
   ],
   "source": [
    "df.shape"
   ]
  },
  {
   "cell_type": "code",
   "execution_count": 3254,
   "metadata": {},
   "outputs": [
    {
     "name": "stdout",
     "output_type": "stream",
     "text": [
      "<class 'pandas.core.frame.DataFrame'>\n",
      "RangeIndex: 41188 entries, 0 to 41187\n",
      "Data columns (total 21 columns):\n",
      " #   Column          Non-Null Count  Dtype  \n",
      "---  ------          --------------  -----  \n",
      " 0   age             41188 non-null  int64  \n",
      " 1   job             41188 non-null  object \n",
      " 2   marital         41188 non-null  object \n",
      " 3   education       41188 non-null  object \n",
      " 4   default         41188 non-null  object \n",
      " 5   housing         41188 non-null  object \n",
      " 6   loan            41188 non-null  object \n",
      " 7   contact         41188 non-null  object \n",
      " 8   month           41188 non-null  object \n",
      " 9   day_of_week     41188 non-null  object \n",
      " 10  duration        41188 non-null  int64  \n",
      " 11  campaign        41188 non-null  int64  \n",
      " 12  pdays           41188 non-null  int64  \n",
      " 13  previous        41188 non-null  int64  \n",
      " 14  poutcome        41188 non-null  object \n",
      " 15  emp.var.rate    41188 non-null  float64\n",
      " 16  cons.price.idx  41188 non-null  float64\n",
      " 17  cons.conf.idx   41188 non-null  float64\n",
      " 18  euribor3m       41188 non-null  float64\n",
      " 19  nr.employed     41188 non-null  float64\n",
      " 20  y               41188 non-null  object \n",
      "dtypes: float64(5), int64(5), object(11)\n",
      "memory usage: 6.6+ MB\n"
     ]
    }
   ],
   "source": [
    "#There is no null value in the data set but some are 'unknown'\n",
    "df.info()"
   ]
  },
  {
   "cell_type": "code",
   "execution_count": 3255,
   "metadata": {},
   "outputs": [],
   "source": [
    "#convert integers to float\n",
    "df['age']=df['age'].astype(float)\n",
    "df['previous']=df['previous'].astype(float)\n",
    "df['duration']=df['duration'].astype(float)\n",
    "df['campaign']=df['campaign'].astype(float)\n",
    "df['pdays']=df['pdays'].astype(float)"
   ]
  },
  {
   "cell_type": "code",
   "execution_count": 3256,
   "metadata": {},
   "outputs": [
    {
     "name": "stdout",
     "output_type": "stream",
     "text": [
      "age 78\n",
      "job 12\n",
      "marital 4\n",
      "education 8\n",
      "default 3\n",
      "housing 3\n",
      "loan 3\n",
      "contact 2\n",
      "month 10\n",
      "day_of_week 5\n",
      "duration 1544\n",
      "campaign 42\n",
      "pdays 27\n",
      "previous 8\n",
      "poutcome 3\n",
      "emp.var.rate 10\n",
      "cons.price.idx 26\n",
      "cons.conf.idx 26\n",
      "euribor3m 316\n",
      "nr.employed 11\n",
      "y 2\n"
     ]
    }
   ],
   "source": [
    "#number of unique values in each column\n",
    "column_list = df.columns.values.tolist()\n",
    "for column_name in column_list:\n",
    "    print(column_name, df[column_name].nunique())"
   ]
  },
  {
   "cell_type": "markdown",
   "metadata": {},
   "source": [
    "### Column descriptions\n",
    "\n",
    "#### Client info:\n",
    "\n",
    " 1. age (numeric)\n",
    " 2. job : type of job (categorical: 'admin.','blue collar', 'entrepreneur',  'housemaid', 'management', 'retired', 'selfemployed','services','student','technician','unemployed','unknown')\n",
    " 3. marital : marital status (categorical: 'divorced','married','single','unknown'; note: 'divorced' means  divorced or widowed)\n",
    " 4. education (categorical: 'basic.4y','basic.6y','basic.9y','high.school','illiterate','professional.course', 'university.degree','unknown')\n",
    " 5. default: has credit in default? (categorical: 'no','yes','unknown')\n",
    " 6. housing: has a housing loan? (categorical: 'no','yes','unknown')\n",
    " 7. loan: has personal loan? (categorical: 'no','yes','unknown')\n",
    " \n",
    "#### Related with the last contact of the current campaign:\n",
    " \n",
    " 8. contact: contact communication type (categorical: 'cellular','telephone') \n",
    " 9. month: last contact month of year (categorical: 'jan', 'feb', 'mar', ..., 'nov', 'dec')\n",
    " 10. day_of_week: last contact day of the week (categorical: 'mon','tue','wed','thu','fri')\n",
    " 11. duration: last contact duration, in seconds (numeric). Important note: this attribute highly affects the output target (e.g., if duration=0 then y='no'). Yet, the duration is not known before a call is performed. Also, after the end of the call y is obviously known. Thus, this input should only be included for benchmark purposes and should be discarded if the intention is to have a realistic predictive model. *This feature will be dropped in the EDA section.*\n",
    " \n",
    "#### Other attributes:\n",
    " \n",
    " 12. campaign: number of contacts performed during this campaign and for this client (numeric, includes last contact)\n",
    " 13. pdays: number of days that passed by after the client was last contacted from a previous campaign. It is numeric; 999 means client was not previously contacted. 39673 cases of 999 are present. I replaced the '999' value with '-1'. After replacement the range of this variable is [-1, 27]."
   ]
  },
  {
   "cell_type": "code",
   "execution_count": 3257,
   "metadata": {},
   "outputs": [],
   "source": [
    "df['pdays']=df['pdays'].replace(999, -1)"
   ]
  },
  {
   "cell_type": "markdown",
   "metadata": {},
   "source": [
    "'pdays' column analysis: There are 35563 rows where ‘previous’ is 0, meaning that the client was not previously contacted. This automatically is associated with ‘pdays’=999 and ‘poutcome’=nonexistent. I confirmed that on the data. However, there are 39673 rows that have ‘pdays’=999. That shows that there are 4110 rows with pdays=999 (meaning that the customer was not previously contacted) but these rows have a ‘poutcome’ of either failure or success. That means for 4110 rows either the duration of the call was not recorded and they labeled them to 999 by mistake or the client has subscribed/not subscribed without being contacted by phone."
   ]
  },
  {
   "cell_type": "code",
   "execution_count": 3258,
   "metadata": {},
   "outputs": [
    {
     "data": {
      "text/plain": [
       "0.0    35563\n",
       "1.0     3696\n",
       "2.0      349\n",
       "3.0       50\n",
       "4.0       12\n",
       "5.0        2\n",
       "6.0        1\n",
       "Name: previous, dtype: int64"
      ]
     },
     "execution_count": 3258,
     "metadata": {},
     "output_type": "execute_result"
    }
   ],
   "source": [
    "dft=df[df['pdays']==-1]\n",
    "dft['previous'].value_counts()"
   ]
  },
  {
   "cell_type": "markdown",
   "metadata": {},
   "source": [
    " 14. previous: number of contacts performed before this campaign and for this client (numeric)\n",
    " 15. poutcome: outcome of the previous marketing campaign (categorical: 'failure','nonexistent','success')\n",
    " \n",
    "#### Social and economic context attributes:\n",
    " \n",
    " 16. emp.var.rate: employment variation rate - quarterly indicator (numeric)\n",
    " 17. cons.price.idx: consumer price index - monthly indicator (numeric). For every 'cons.price.idx' there is a unique  'cons.conf.idx'. So it is safe to drop one of these columns (analysis below). *This feature will be dropped in the EDA section.*\n",
    " 18. cons.conf.idx: consumer confidence index - monthly indicator (numeric) "
   ]
  },
  {
   "cell_type": "code",
   "execution_count": 3259,
   "metadata": {},
   "outputs": [
    {
     "data": {
      "text/plain": [
       "93.994    7763\n",
       "93.918    6685\n",
       "92.893    5794\n",
       "93.444    5175\n",
       "94.465    4374\n",
       "93.200    3616\n",
       "93.075    2458\n",
       "92.201     770\n",
       "92.963     715\n",
       "92.431     447\n",
       "92.649     357\n",
       "94.215     311\n",
       "94.199     303\n",
       "92.843     282\n",
       "92.379     267\n",
       "93.369     264\n",
       "94.027     233\n",
       "94.055     229\n",
       "93.876     212\n",
       "94.601     204\n",
       "92.469     178\n",
       "93.749     174\n",
       "92.713     172\n",
       "94.767     128\n",
       "93.798      67\n",
       "92.756      10\n",
       "Name: cons.price.idx, dtype: int64"
      ]
     },
     "execution_count": 3259,
     "metadata": {},
     "output_type": "execute_result"
    }
   ],
   "source": [
    "df['cons.price.idx' ].value_counts()"
   ]
  },
  {
   "cell_type": "code",
   "execution_count": 3260,
   "metadata": {},
   "outputs": [
    {
     "data": {
      "text/plain": [
       "-36.4    7763\n",
       "-42.7    6685\n",
       "-46.2    5794\n",
       "-36.1    5175\n",
       "-41.8    4374\n",
       "-42.0    3616\n",
       "-47.1    2458\n",
       "-31.4     770\n",
       "-40.8     715\n",
       "-26.9     447\n",
       "-30.1     357\n",
       "-40.3     311\n",
       "-37.5     303\n",
       "-50.0     282\n",
       "-29.8     267\n",
       "-34.8     264\n",
       "-38.3     233\n",
       "-39.8     229\n",
       "-40.0     212\n",
       "-49.5     204\n",
       "-33.6     178\n",
       "-34.6     174\n",
       "-33.0     172\n",
       "-50.8     128\n",
       "-40.4      67\n",
       "-45.9      10\n",
       "Name: cons.conf.idx, dtype: int64"
      ]
     },
     "execution_count": 3260,
     "metadata": {},
     "output_type": "execute_result"
    }
   ],
   "source": [
    "df['cons.conf.idx'].value_counts()"
   ]
  },
  {
   "cell_type": "markdown",
   "metadata": {},
   "source": [
    "19. euribor3m: euribor 3 month rate - daily indicator (numeric)\n",
    "20. nr.employed: number of employees - quarterly indicator (numeric). For every 'nr.employed' there is a unique 'emp.var.rate'. So it is safe to drop one of these columns (analysis below). *This feature will be dropped in the EDA section.*"
   ]
  },
  {
   "cell_type": "code",
   "execution_count": 3261,
   "metadata": {},
   "outputs": [
    {
     "data": {
      "text/plain": [
       " 1.4    16234\n",
       "-1.8     9184\n",
       " 1.1     7763\n",
       "-0.1     3683\n",
       "-2.9     1663\n",
       "-3.4     1071\n",
       "-1.7      773\n",
       "-1.1      635\n",
       "-3.0      172\n",
       "-0.2       10\n",
       "Name: emp.var.rate, dtype: int64"
      ]
     },
     "execution_count": 3261,
     "metadata": {},
     "output_type": "execute_result"
    }
   ],
   "source": [
    "df['emp.var.rate'].value_counts()"
   ]
  },
  {
   "cell_type": "code",
   "execution_count": 3262,
   "metadata": {},
   "outputs": [
    {
     "data": {
      "text/plain": [
       "5228.1    16234\n",
       "5099.1     8534\n",
       "5191.0     7763\n",
       "5195.8     3683\n",
       "5076.2     1663\n",
       "5017.5     1071\n",
       "4991.6      773\n",
       "5008.7      650\n",
       "4963.6      635\n",
       "5023.5      172\n",
       "5176.3       10\n",
       "Name: nr.employed, dtype: int64"
      ]
     },
     "execution_count": 3262,
     "metadata": {},
     "output_type": "execute_result"
    }
   ],
   "source": [
    "df['nr.employed'].value_counts()"
   ]
  },
  {
   "cell_type": "markdown",
   "metadata": {},
   "source": [
    "### Missing values\n",
    "The result of exploring the columns with value_counts():\n",
    "\n",
    "* There is no null value in the dataset but some are 'unknown' \n",
    "* jobs: 330 are unknown\n",
    "* marital status: 80 are unknown\n",
    "* education: 1731 are unknown\n",
    "* default: 8597 are unknown. In this column there are only 3 'yes' values, the rest are either 'no' or unknown. (Drop?)\n",
    "* housing: 990 are unknown\n",
    "* loan: 990 are unknown (the same rows as the housing unknowns)\n",
    "* all other columns have no unknown values\n",
    "\n"
   ]
  },
  {
   "cell_type": "code",
   "execution_count": 3263,
   "metadata": {},
   "outputs": [
    {
     "name": "stdout",
     "output_type": "stream",
     "text": [
      "age : \n",
      " 31.0    1947\n",
      "32.0    1846\n",
      "33.0    1833\n",
      "36.0    1780\n",
      "35.0    1759\n",
      "        ... \n",
      "91.0       2\n",
      "89.0       2\n",
      "87.0       1\n",
      "95.0       1\n",
      "94.0       1\n",
      "Name: age, Length: 78, dtype: int64\n",
      "job : \n",
      " admin.           10422\n",
      "blue-collar       9254\n",
      "technician        6743\n",
      "services          3969\n",
      "management        2924\n",
      "retired           1720\n",
      "entrepreneur      1456\n",
      "self-employed     1421\n",
      "housemaid         1060\n",
      "unemployed        1014\n",
      "student            875\n",
      "unknown            330\n",
      "Name: job, dtype: int64\n",
      "marital : \n",
      " married     24928\n",
      "single      11568\n",
      "divorced     4612\n",
      "unknown        80\n",
      "Name: marital, dtype: int64\n",
      "education : \n",
      " university.degree      12168\n",
      "high.school             9515\n",
      "basic.9y                6045\n",
      "professional.course     5243\n",
      "basic.4y                4176\n",
      "basic.6y                2292\n",
      "unknown                 1731\n",
      "illiterate                18\n",
      "Name: education, dtype: int64\n",
      "default : \n",
      " no         32588\n",
      "unknown     8597\n",
      "yes            3\n",
      "Name: default, dtype: int64\n",
      "housing : \n",
      " yes        21576\n",
      "no         18622\n",
      "unknown      990\n",
      "Name: housing, dtype: int64\n",
      "loan : \n",
      " no         33950\n",
      "yes         6248\n",
      "unknown      990\n",
      "Name: loan, dtype: int64\n",
      "contact : \n",
      " cellular     26144\n",
      "telephone    15044\n",
      "Name: contact, dtype: int64\n",
      "month : \n",
      " may    13769\n",
      "jul     7174\n",
      "aug     6178\n",
      "jun     5318\n",
      "nov     4101\n",
      "apr     2632\n",
      "oct      718\n",
      "sep      570\n",
      "mar      546\n",
      "dec      182\n",
      "Name: month, dtype: int64\n",
      "day_of_week : \n",
      " thu    8623\n",
      "mon    8514\n",
      "wed    8134\n",
      "tue    8090\n",
      "fri    7827\n",
      "Name: day_of_week, dtype: int64\n",
      "duration : \n",
      " 90.0      170\n",
      "85.0      170\n",
      "136.0     168\n",
      "73.0      167\n",
      "124.0     164\n",
      "         ... \n",
      "1606.0      1\n",
      "1342.0      1\n",
      "1555.0      1\n",
      "1569.0      1\n",
      "1816.0      1\n",
      "Name: duration, Length: 1544, dtype: int64\n",
      "campaign : \n",
      " 1.0     17642\n",
      "2.0     10570\n",
      "3.0      5341\n",
      "4.0      2651\n",
      "5.0      1599\n",
      "6.0       979\n",
      "7.0       629\n",
      "8.0       400\n",
      "9.0       283\n",
      "10.0      225\n",
      "11.0      177\n",
      "12.0      125\n",
      "13.0       92\n",
      "14.0       69\n",
      "17.0       58\n",
      "16.0       51\n",
      "15.0       51\n",
      "18.0       33\n",
      "20.0       30\n",
      "19.0       26\n",
      "21.0       24\n",
      "22.0       17\n",
      "23.0       16\n",
      "24.0       15\n",
      "27.0       11\n",
      "29.0       10\n",
      "25.0        8\n",
      "26.0        8\n",
      "28.0        8\n",
      "31.0        7\n",
      "30.0        7\n",
      "35.0        5\n",
      "33.0        4\n",
      "32.0        4\n",
      "34.0        3\n",
      "43.0        2\n",
      "42.0        2\n",
      "40.0        2\n",
      "41.0        1\n",
      "39.0        1\n",
      "56.0        1\n",
      "37.0        1\n",
      "Name: campaign, dtype: int64\n",
      "pdays : \n",
      " -1.0     39673\n",
      " 3.0       439\n",
      " 6.0       412\n",
      " 4.0       118\n",
      " 9.0        64\n",
      " 2.0        61\n",
      " 7.0        60\n",
      " 12.0       58\n",
      " 10.0       52\n",
      " 5.0        46\n",
      " 13.0       36\n",
      " 11.0       28\n",
      " 1.0        26\n",
      " 15.0       24\n",
      " 14.0       20\n",
      " 8.0        18\n",
      " 0.0        15\n",
      " 16.0       11\n",
      " 17.0        8\n",
      " 18.0        7\n",
      " 19.0        3\n",
      " 22.0        3\n",
      " 21.0        2\n",
      " 27.0        1\n",
      " 25.0        1\n",
      " 20.0        1\n",
      " 26.0        1\n",
      "Name: pdays, dtype: int64\n",
      "previous : \n",
      " 0.0    35563\n",
      "1.0     4561\n",
      "2.0      754\n",
      "3.0      216\n",
      "4.0       70\n",
      "5.0       18\n",
      "6.0        5\n",
      "7.0        1\n",
      "Name: previous, dtype: int64\n",
      "poutcome : \n",
      " nonexistent    35563\n",
      "failure         4252\n",
      "success         1373\n",
      "Name: poutcome, dtype: int64\n",
      "emp.var.rate : \n",
      "  1.4    16234\n",
      "-1.8     9184\n",
      " 1.1     7763\n",
      "-0.1     3683\n",
      "-2.9     1663\n",
      "-3.4     1071\n",
      "-1.7      773\n",
      "-1.1      635\n",
      "-3.0      172\n",
      "-0.2       10\n",
      "Name: emp.var.rate, dtype: int64\n",
      "cons.price.idx : \n",
      " 93.994    7763\n",
      "93.918    6685\n",
      "92.893    5794\n",
      "93.444    5175\n",
      "94.465    4374\n",
      "93.200    3616\n",
      "93.075    2458\n",
      "92.201     770\n",
      "92.963     715\n",
      "92.431     447\n",
      "92.649     357\n",
      "94.215     311\n",
      "94.199     303\n",
      "92.843     282\n",
      "92.379     267\n",
      "93.369     264\n",
      "94.027     233\n",
      "94.055     229\n",
      "93.876     212\n",
      "94.601     204\n",
      "92.469     178\n",
      "93.749     174\n",
      "92.713     172\n",
      "94.767     128\n",
      "93.798      67\n",
      "92.756      10\n",
      "Name: cons.price.idx, dtype: int64\n",
      "cons.conf.idx : \n",
      " -36.4    7763\n",
      "-42.7    6685\n",
      "-46.2    5794\n",
      "-36.1    5175\n",
      "-41.8    4374\n",
      "-42.0    3616\n",
      "-47.1    2458\n",
      "-31.4     770\n",
      "-40.8     715\n",
      "-26.9     447\n",
      "-30.1     357\n",
      "-40.3     311\n",
      "-37.5     303\n",
      "-50.0     282\n",
      "-29.8     267\n",
      "-34.8     264\n",
      "-38.3     233\n",
      "-39.8     229\n",
      "-40.0     212\n",
      "-49.5     204\n",
      "-33.6     178\n",
      "-34.6     174\n",
      "-33.0     172\n",
      "-50.8     128\n",
      "-40.4      67\n",
      "-45.9      10\n",
      "Name: cons.conf.idx, dtype: int64\n",
      "euribor3m : \n",
      " 4.857    2868\n",
      "4.962    2613\n",
      "4.963    2487\n",
      "4.961    1902\n",
      "4.856    1210\n",
      "         ... \n",
      "1.045       1\n",
      "0.956       1\n",
      "0.933       1\n",
      "3.282       1\n",
      "0.996       1\n",
      "Name: euribor3m, Length: 316, dtype: int64\n",
      "nr.employed : \n",
      " 5228.1    16234\n",
      "5099.1     8534\n",
      "5191.0     7763\n",
      "5195.8     3683\n",
      "5076.2     1663\n",
      "5017.5     1071\n",
      "4991.6      773\n",
      "5008.7      650\n",
      "4963.6      635\n",
      "5023.5      172\n",
      "5176.3       10\n",
      "Name: nr.employed, dtype: int64\n",
      "y : \n",
      " no     36548\n",
      "yes     4640\n",
      "Name: y, dtype: int64\n"
     ]
    }
   ],
   "source": [
    "column_list = df.columns.values.tolist()\n",
    "for column_name in column_list:\n",
    "    print(column_name,': \\n', \n",
    "          df[column_name].value_counts())"
   ]
  },
  {
   "cell_type": "code",
   "execution_count": 3264,
   "metadata": {},
   "outputs": [
    {
     "data": {
      "text/plain": [
       "unknown    990\n",
       "Name: loan, dtype: int64"
      ]
     },
     "execution_count": 3264,
     "metadata": {},
     "output_type": "execute_result"
    }
   ],
   "source": [
    "dft=df[df['housing']=='unknown']\n",
    "dft['loan'].value_counts()"
   ]
  },
  {
   "cell_type": "markdown",
   "metadata": {},
   "source": [
    "### Duplicates"
   ]
  },
  {
   "cell_type": "code",
   "execution_count": 3265,
   "metadata": {},
   "outputs": [
    {
     "data": {
      "text/plain": [
       "(41176, 21)"
      ]
     },
     "execution_count": 3265,
     "metadata": {},
     "output_type": "execute_result"
    }
   ],
   "source": [
    "#There are 12 duplicate rows as can be seen from the analysis below and the profile report.\n",
    "duplicateRowsDF = df[df.duplicated(keep=False)]\n",
    "duplicateRowsDF\n",
    "df=df.drop_duplicates(keep='first',ignore_index=True)\n",
    "df.shape"
   ]
  },
  {
   "cell_type": "code",
   "execution_count": 3266,
   "metadata": {},
   "outputs": [],
   "source": [
    "#report=df.profile_report(sort='None', html={'style':{'full_width': True}}, progress_bar=False)\n",
    "#report"
   ]
  },
  {
   "cell_type": "markdown",
   "metadata": {},
   "source": []
  },
  {
   "cell_type": "markdown",
   "metadata": {},
   "source": [
    "### Adding the 'year' column\n",
    "\n",
    "We are trying to predict the outcome on column 'y', 'yes' means that the client subscribed to the loan and 'no' means that it didn't. According to the chart below there were more unsuccessful outcomes.\n",
    "However, this result is for the years 2008-2010 combined. In order to see the effect of the contact month or year on the outcome we need to groupby the outcomes for each year and/or month. Thus, I need to add a 'year' column with values 2008, 2009 and 2010 for appropriate rows.\n",
    "\n",
    "* Year 2008 starts on May (beginning of the dataset row 0) and ends on December.\n",
    "* Year 2009 starts on March and ends on December.\n",
    "* Year 2010 starts on March and ends on November(the last row of the dataset).\n",
    "\n",
    "In the box below I find the ending index for each month. \n",
    "For the purpose of adding a 'year' column I only need to know which row December ends but it was interesting to find\n",
    "the ending index for each month."
   ]
  },
  {
   "cell_type": "code",
   "execution_count": 3267,
   "metadata": {},
   "outputs": [
    {
     "name": "stdout",
     "output_type": "stream",
     "text": [
      "may [7761, 30421, 36213, 39556]\n",
      "jun [12135, 36214, 36928, 39768]\n",
      "jul [18816, 36929, 37105, 39997]\n",
      "aug [23989, 37106, 37875, 40308]\n",
      "oct [24056, 38143, 38588, 40844]\n",
      "nov [27671, 38589, 38945, 41048]\n",
      "dec [27681, 38946]\n",
      "mar [27963, 39118]\n",
      "apr [30420, 39382]\n",
      "sep [38142, 40541]\n"
     ]
    }
   ],
   "source": [
    "month=list(df.month.unique())\n",
    "for i in month:\n",
    "    i_index=df[df['month']==i].index\n",
    "    i_startindex=[]\n",
    "    for j in range(len(i_index)-1):\n",
    "        if (i_index[j+1]-i_index[j])>1:\n",
    "            i_startindex.append(i_index[j])\n",
    "            i_startindex.append(i_index[j+1])\n",
    "       \n",
    "    print(i, i_startindex)\n",
    "    "
   ]
  },
  {
   "cell_type": "markdown",
   "metadata": {},
   "source": [
    "In order to add a 'year' column, I first added a column with values equal to 'month', then replaced them with proper values for the year. \n",
    "There may be a better way to do this, I will check out other ways to add a column!\n",
    "Some months are missing for example year 2008 does not have any contacts for months of Jan-Apr and Sep. Year 2009 has contacts for March-December months, and year 2010 has March-November. By checking the head of the dataframe we can see that the 'year' has been added.\n"
   ]
  },
  {
   "cell_type": "code",
   "execution_count": 3268,
   "metadata": {},
   "outputs": [
    {
     "data": {
      "text/html": [
       "<div>\n",
       "<style scoped>\n",
       "    .dataframe tbody tr th:only-of-type {\n",
       "        vertical-align: middle;\n",
       "    }\n",
       "\n",
       "    .dataframe tbody tr th {\n",
       "        vertical-align: top;\n",
       "    }\n",
       "\n",
       "    .dataframe thead th {\n",
       "        text-align: right;\n",
       "    }\n",
       "</style>\n",
       "<table border=\"1\" class=\"dataframe\">\n",
       "  <thead>\n",
       "    <tr style=\"text-align: right;\">\n",
       "      <th></th>\n",
       "      <th>age</th>\n",
       "      <th>job</th>\n",
       "      <th>marital</th>\n",
       "      <th>education</th>\n",
       "      <th>default</th>\n",
       "      <th>housing</th>\n",
       "      <th>loan</th>\n",
       "      <th>contact</th>\n",
       "      <th>month</th>\n",
       "      <th>day_of_week</th>\n",
       "      <th>...</th>\n",
       "      <th>pdays</th>\n",
       "      <th>previous</th>\n",
       "      <th>poutcome</th>\n",
       "      <th>emp.var.rate</th>\n",
       "      <th>cons.price.idx</th>\n",
       "      <th>cons.conf.idx</th>\n",
       "      <th>euribor3m</th>\n",
       "      <th>nr.employed</th>\n",
       "      <th>y</th>\n",
       "      <th>year</th>\n",
       "    </tr>\n",
       "  </thead>\n",
       "  <tbody>\n",
       "    <tr>\n",
       "      <th>0</th>\n",
       "      <td>56.0</td>\n",
       "      <td>housemaid</td>\n",
       "      <td>married</td>\n",
       "      <td>basic.4y</td>\n",
       "      <td>no</td>\n",
       "      <td>no</td>\n",
       "      <td>no</td>\n",
       "      <td>telephone</td>\n",
       "      <td>may</td>\n",
       "      <td>mon</td>\n",
       "      <td>...</td>\n",
       "      <td>-1.0</td>\n",
       "      <td>0.0</td>\n",
       "      <td>nonexistent</td>\n",
       "      <td>1.1</td>\n",
       "      <td>93.994</td>\n",
       "      <td>-36.4</td>\n",
       "      <td>4.857</td>\n",
       "      <td>5191.0</td>\n",
       "      <td>no</td>\n",
       "      <td>2008</td>\n",
       "    </tr>\n",
       "    <tr>\n",
       "      <th>1</th>\n",
       "      <td>57.0</td>\n",
       "      <td>services</td>\n",
       "      <td>married</td>\n",
       "      <td>high.school</td>\n",
       "      <td>unknown</td>\n",
       "      <td>no</td>\n",
       "      <td>no</td>\n",
       "      <td>telephone</td>\n",
       "      <td>may</td>\n",
       "      <td>mon</td>\n",
       "      <td>...</td>\n",
       "      <td>-1.0</td>\n",
       "      <td>0.0</td>\n",
       "      <td>nonexistent</td>\n",
       "      <td>1.1</td>\n",
       "      <td>93.994</td>\n",
       "      <td>-36.4</td>\n",
       "      <td>4.857</td>\n",
       "      <td>5191.0</td>\n",
       "      <td>no</td>\n",
       "      <td>2008</td>\n",
       "    </tr>\n",
       "    <tr>\n",
       "      <th>2</th>\n",
       "      <td>37.0</td>\n",
       "      <td>services</td>\n",
       "      <td>married</td>\n",
       "      <td>high.school</td>\n",
       "      <td>no</td>\n",
       "      <td>yes</td>\n",
       "      <td>no</td>\n",
       "      <td>telephone</td>\n",
       "      <td>may</td>\n",
       "      <td>mon</td>\n",
       "      <td>...</td>\n",
       "      <td>-1.0</td>\n",
       "      <td>0.0</td>\n",
       "      <td>nonexistent</td>\n",
       "      <td>1.1</td>\n",
       "      <td>93.994</td>\n",
       "      <td>-36.4</td>\n",
       "      <td>4.857</td>\n",
       "      <td>5191.0</td>\n",
       "      <td>no</td>\n",
       "      <td>2008</td>\n",
       "    </tr>\n",
       "    <tr>\n",
       "      <th>3</th>\n",
       "      <td>40.0</td>\n",
       "      <td>admin.</td>\n",
       "      <td>married</td>\n",
       "      <td>basic.6y</td>\n",
       "      <td>no</td>\n",
       "      <td>no</td>\n",
       "      <td>no</td>\n",
       "      <td>telephone</td>\n",
       "      <td>may</td>\n",
       "      <td>mon</td>\n",
       "      <td>...</td>\n",
       "      <td>-1.0</td>\n",
       "      <td>0.0</td>\n",
       "      <td>nonexistent</td>\n",
       "      <td>1.1</td>\n",
       "      <td>93.994</td>\n",
       "      <td>-36.4</td>\n",
       "      <td>4.857</td>\n",
       "      <td>5191.0</td>\n",
       "      <td>no</td>\n",
       "      <td>2008</td>\n",
       "    </tr>\n",
       "    <tr>\n",
       "      <th>4</th>\n",
       "      <td>56.0</td>\n",
       "      <td>services</td>\n",
       "      <td>married</td>\n",
       "      <td>high.school</td>\n",
       "      <td>no</td>\n",
       "      <td>no</td>\n",
       "      <td>yes</td>\n",
       "      <td>telephone</td>\n",
       "      <td>may</td>\n",
       "      <td>mon</td>\n",
       "      <td>...</td>\n",
       "      <td>-1.0</td>\n",
       "      <td>0.0</td>\n",
       "      <td>nonexistent</td>\n",
       "      <td>1.1</td>\n",
       "      <td>93.994</td>\n",
       "      <td>-36.4</td>\n",
       "      <td>4.857</td>\n",
       "      <td>5191.0</td>\n",
       "      <td>no</td>\n",
       "      <td>2008</td>\n",
       "    </tr>\n",
       "    <tr>\n",
       "      <th>...</th>\n",
       "      <td>...</td>\n",
       "      <td>...</td>\n",
       "      <td>...</td>\n",
       "      <td>...</td>\n",
       "      <td>...</td>\n",
       "      <td>...</td>\n",
       "      <td>...</td>\n",
       "      <td>...</td>\n",
       "      <td>...</td>\n",
       "      <td>...</td>\n",
       "      <td>...</td>\n",
       "      <td>...</td>\n",
       "      <td>...</td>\n",
       "      <td>...</td>\n",
       "      <td>...</td>\n",
       "      <td>...</td>\n",
       "      <td>...</td>\n",
       "      <td>...</td>\n",
       "      <td>...</td>\n",
       "      <td>...</td>\n",
       "      <td>...</td>\n",
       "    </tr>\n",
       "    <tr>\n",
       "      <th>41166</th>\n",
       "      <td>62.0</td>\n",
       "      <td>retired</td>\n",
       "      <td>married</td>\n",
       "      <td>university.degree</td>\n",
       "      <td>no</td>\n",
       "      <td>no</td>\n",
       "      <td>no</td>\n",
       "      <td>cellular</td>\n",
       "      <td>nov</td>\n",
       "      <td>thu</td>\n",
       "      <td>...</td>\n",
       "      <td>6.0</td>\n",
       "      <td>3.0</td>\n",
       "      <td>success</td>\n",
       "      <td>-1.1</td>\n",
       "      <td>94.767</td>\n",
       "      <td>-50.8</td>\n",
       "      <td>1.031</td>\n",
       "      <td>4963.6</td>\n",
       "      <td>yes</td>\n",
       "      <td>2010</td>\n",
       "    </tr>\n",
       "    <tr>\n",
       "      <th>41167</th>\n",
       "      <td>64.0</td>\n",
       "      <td>retired</td>\n",
       "      <td>divorced</td>\n",
       "      <td>professional.course</td>\n",
       "      <td>no</td>\n",
       "      <td>yes</td>\n",
       "      <td>no</td>\n",
       "      <td>cellular</td>\n",
       "      <td>nov</td>\n",
       "      <td>fri</td>\n",
       "      <td>...</td>\n",
       "      <td>-1.0</td>\n",
       "      <td>0.0</td>\n",
       "      <td>nonexistent</td>\n",
       "      <td>-1.1</td>\n",
       "      <td>94.767</td>\n",
       "      <td>-50.8</td>\n",
       "      <td>1.028</td>\n",
       "      <td>4963.6</td>\n",
       "      <td>no</td>\n",
       "      <td>2010</td>\n",
       "    </tr>\n",
       "    <tr>\n",
       "      <th>41168</th>\n",
       "      <td>36.0</td>\n",
       "      <td>admin.</td>\n",
       "      <td>married</td>\n",
       "      <td>university.degree</td>\n",
       "      <td>no</td>\n",
       "      <td>no</td>\n",
       "      <td>no</td>\n",
       "      <td>cellular</td>\n",
       "      <td>nov</td>\n",
       "      <td>fri</td>\n",
       "      <td>...</td>\n",
       "      <td>-1.0</td>\n",
       "      <td>0.0</td>\n",
       "      <td>nonexistent</td>\n",
       "      <td>-1.1</td>\n",
       "      <td>94.767</td>\n",
       "      <td>-50.8</td>\n",
       "      <td>1.028</td>\n",
       "      <td>4963.6</td>\n",
       "      <td>no</td>\n",
       "      <td>2010</td>\n",
       "    </tr>\n",
       "    <tr>\n",
       "      <th>41169</th>\n",
       "      <td>37.0</td>\n",
       "      <td>admin.</td>\n",
       "      <td>married</td>\n",
       "      <td>university.degree</td>\n",
       "      <td>no</td>\n",
       "      <td>yes</td>\n",
       "      <td>no</td>\n",
       "      <td>cellular</td>\n",
       "      <td>nov</td>\n",
       "      <td>fri</td>\n",
       "      <td>...</td>\n",
       "      <td>-1.0</td>\n",
       "      <td>0.0</td>\n",
       "      <td>nonexistent</td>\n",
       "      <td>-1.1</td>\n",
       "      <td>94.767</td>\n",
       "      <td>-50.8</td>\n",
       "      <td>1.028</td>\n",
       "      <td>4963.6</td>\n",
       "      <td>yes</td>\n",
       "      <td>2010</td>\n",
       "    </tr>\n",
       "    <tr>\n",
       "      <th>41170</th>\n",
       "      <td>29.0</td>\n",
       "      <td>unemployed</td>\n",
       "      <td>single</td>\n",
       "      <td>basic.4y</td>\n",
       "      <td>no</td>\n",
       "      <td>yes</td>\n",
       "      <td>no</td>\n",
       "      <td>cellular</td>\n",
       "      <td>nov</td>\n",
       "      <td>fri</td>\n",
       "      <td>...</td>\n",
       "      <td>9.0</td>\n",
       "      <td>1.0</td>\n",
       "      <td>success</td>\n",
       "      <td>-1.1</td>\n",
       "      <td>94.767</td>\n",
       "      <td>-50.8</td>\n",
       "      <td>1.028</td>\n",
       "      <td>4963.6</td>\n",
       "      <td>no</td>\n",
       "      <td>2010</td>\n",
       "    </tr>\n",
       "  </tbody>\n",
       "</table>\n",
       "<p>41171 rows × 22 columns</p>\n",
       "</div>"
      ],
      "text/plain": [
       "        age         job   marital            education  default housing loan  \\\n",
       "0      56.0   housemaid   married             basic.4y       no      no   no   \n",
       "1      57.0    services   married          high.school  unknown      no   no   \n",
       "2      37.0    services   married          high.school       no     yes   no   \n",
       "3      40.0      admin.   married             basic.6y       no      no   no   \n",
       "4      56.0    services   married          high.school       no      no  yes   \n",
       "...     ...         ...       ...                  ...      ...     ...  ...   \n",
       "41166  62.0     retired   married    university.degree       no      no   no   \n",
       "41167  64.0     retired  divorced  professional.course       no     yes   no   \n",
       "41168  36.0      admin.   married    university.degree       no      no   no   \n",
       "41169  37.0      admin.   married    university.degree       no     yes   no   \n",
       "41170  29.0  unemployed    single             basic.4y       no     yes   no   \n",
       "\n",
       "         contact month day_of_week  ...  pdays  previous     poutcome  \\\n",
       "0      telephone   may         mon  ...   -1.0       0.0  nonexistent   \n",
       "1      telephone   may         mon  ...   -1.0       0.0  nonexistent   \n",
       "2      telephone   may         mon  ...   -1.0       0.0  nonexistent   \n",
       "3      telephone   may         mon  ...   -1.0       0.0  nonexistent   \n",
       "4      telephone   may         mon  ...   -1.0       0.0  nonexistent   \n",
       "...          ...   ...         ...  ...    ...       ...          ...   \n",
       "41166   cellular   nov         thu  ...    6.0       3.0      success   \n",
       "41167   cellular   nov         fri  ...   -1.0       0.0  nonexistent   \n",
       "41168   cellular   nov         fri  ...   -1.0       0.0  nonexistent   \n",
       "41169   cellular   nov         fri  ...   -1.0       0.0  nonexistent   \n",
       "41170   cellular   nov         fri  ...    9.0       1.0      success   \n",
       "\n",
       "       emp.var.rate cons.price.idx  cons.conf.idx  euribor3m  nr.employed  \\\n",
       "0               1.1         93.994          -36.4      4.857       5191.0   \n",
       "1               1.1         93.994          -36.4      4.857       5191.0   \n",
       "2               1.1         93.994          -36.4      4.857       5191.0   \n",
       "3               1.1         93.994          -36.4      4.857       5191.0   \n",
       "4               1.1         93.994          -36.4      4.857       5191.0   \n",
       "...             ...            ...            ...        ...          ...   \n",
       "41166          -1.1         94.767          -50.8      1.031       4963.6   \n",
       "41167          -1.1         94.767          -50.8      1.028       4963.6   \n",
       "41168          -1.1         94.767          -50.8      1.028       4963.6   \n",
       "41169          -1.1         94.767          -50.8      1.028       4963.6   \n",
       "41170          -1.1         94.767          -50.8      1.028       4963.6   \n",
       "\n",
       "         y  year  \n",
       "0       no  2008  \n",
       "1       no  2008  \n",
       "2       no  2008  \n",
       "3       no  2008  \n",
       "4       no  2008  \n",
       "...    ...   ...  \n",
       "41166  yes  2010  \n",
       "41167   no  2010  \n",
       "41168   no  2010  \n",
       "41169  yes  2010  \n",
       "41170   no  2010  \n",
       "\n",
       "[41171 rows x 22 columns]"
      ]
     },
     "execution_count": 3268,
     "metadata": {},
     "output_type": "execute_result"
    }
   ],
   "source": [
    "df['year']=df['month' ]\n",
    "\n",
    "df.iloc[0:27682,21]='2008'\n",
    "df.iloc[27682:39119, 21]='2009'\n",
    "df.iloc[39119:41176, 21]='2010'\n",
    "df.head(-5)"
   ]
  },
  {
   "cell_type": "markdown",
   "metadata": {},
   "source": [
    "We can see from the analysis below that the 'year' column is an object type. We change it to an integer."
   ]
  },
  {
   "cell_type": "code",
   "execution_count": 3269,
   "metadata": {},
   "outputs": [
    {
     "name": "stdout",
     "output_type": "stream",
     "text": [
      "<class 'pandas.core.frame.DataFrame'>\n",
      "RangeIndex: 41176 entries, 0 to 41175\n",
      "Data columns (total 22 columns):\n",
      " #   Column          Non-Null Count  Dtype  \n",
      "---  ------          --------------  -----  \n",
      " 0   age             41176 non-null  float64\n",
      " 1   job             41176 non-null  object \n",
      " 2   marital         41176 non-null  object \n",
      " 3   education       41176 non-null  object \n",
      " 4   default         41176 non-null  object \n",
      " 5   housing         41176 non-null  object \n",
      " 6   loan            41176 non-null  object \n",
      " 7   contact         41176 non-null  object \n",
      " 8   month           41176 non-null  object \n",
      " 9   day_of_week     41176 non-null  object \n",
      " 10  duration        41176 non-null  float64\n",
      " 11  campaign        41176 non-null  float64\n",
      " 12  pdays           41176 non-null  float64\n",
      " 13  previous        41176 non-null  float64\n",
      " 14  poutcome        41176 non-null  object \n",
      " 15  emp.var.rate    41176 non-null  float64\n",
      " 16  cons.price.idx  41176 non-null  float64\n",
      " 17  cons.conf.idx   41176 non-null  float64\n",
      " 18  euribor3m       41176 non-null  float64\n",
      " 19  nr.employed     41176 non-null  float64\n",
      " 20  y               41176 non-null  object \n",
      " 21  year            41176 non-null  object \n",
      "dtypes: float64(10), object(12)\n",
      "memory usage: 6.9+ MB\n"
     ]
    }
   ],
   "source": [
    "df.info()"
   ]
  },
  {
   "cell_type": "code",
   "execution_count": 3270,
   "metadata": {},
   "outputs": [
    {
     "data": {
      "text/plain": [
       "0        2008\n",
       "1        2008\n",
       "2        2008\n",
       "3        2008\n",
       "4        2008\n",
       "         ... \n",
       "41171    2010\n",
       "41172    2010\n",
       "41173    2010\n",
       "41174    2010\n",
       "41175    2010\n",
       "Name: year, Length: 41176, dtype: int64"
      ]
     },
     "execution_count": 3270,
     "metadata": {},
     "output_type": "execute_result"
    }
   ],
   "source": [
    "df.year.astype('int64')"
   ]
  },
  {
   "cell_type": "markdown",
   "metadata": {},
   "source": [
    "### Binary outcome "
   ]
  },
  {
   "cell_type": "markdown",
   "metadata": {},
   "source": [
    "Finally we replace the 'yes' values in the 'y' column by 1 and the 'no' values by 0."
   ]
  },
  {
   "cell_type": "code",
   "execution_count": 3271,
   "metadata": {},
   "outputs": [
    {
     "data": {
      "text/html": [
       "<div>\n",
       "<style scoped>\n",
       "    .dataframe tbody tr th:only-of-type {\n",
       "        vertical-align: middle;\n",
       "    }\n",
       "\n",
       "    .dataframe tbody tr th {\n",
       "        vertical-align: top;\n",
       "    }\n",
       "\n",
       "    .dataframe thead th {\n",
       "        text-align: right;\n",
       "    }\n",
       "</style>\n",
       "<table border=\"1\" class=\"dataframe\">\n",
       "  <thead>\n",
       "    <tr style=\"text-align: right;\">\n",
       "      <th></th>\n",
       "      <th>age</th>\n",
       "      <th>job</th>\n",
       "      <th>marital</th>\n",
       "      <th>education</th>\n",
       "      <th>default</th>\n",
       "      <th>housing</th>\n",
       "      <th>loan</th>\n",
       "      <th>contact</th>\n",
       "      <th>month</th>\n",
       "      <th>day_of_week</th>\n",
       "      <th>...</th>\n",
       "      <th>pdays</th>\n",
       "      <th>previous</th>\n",
       "      <th>poutcome</th>\n",
       "      <th>emp.var.rate</th>\n",
       "      <th>cons.price.idx</th>\n",
       "      <th>cons.conf.idx</th>\n",
       "      <th>euribor3m</th>\n",
       "      <th>nr.employed</th>\n",
       "      <th>y</th>\n",
       "      <th>year</th>\n",
       "    </tr>\n",
       "  </thead>\n",
       "  <tbody>\n",
       "    <tr>\n",
       "      <th>0</th>\n",
       "      <td>56.0</td>\n",
       "      <td>housemaid</td>\n",
       "      <td>married</td>\n",
       "      <td>basic.4y</td>\n",
       "      <td>no</td>\n",
       "      <td>no</td>\n",
       "      <td>no</td>\n",
       "      <td>telephone</td>\n",
       "      <td>may</td>\n",
       "      <td>mon</td>\n",
       "      <td>...</td>\n",
       "      <td>-1.0</td>\n",
       "      <td>0.0</td>\n",
       "      <td>nonexistent</td>\n",
       "      <td>1.1</td>\n",
       "      <td>93.994</td>\n",
       "      <td>-36.4</td>\n",
       "      <td>4.857</td>\n",
       "      <td>5191.0</td>\n",
       "      <td>0</td>\n",
       "      <td>2008</td>\n",
       "    </tr>\n",
       "    <tr>\n",
       "      <th>1</th>\n",
       "      <td>57.0</td>\n",
       "      <td>services</td>\n",
       "      <td>married</td>\n",
       "      <td>high.school</td>\n",
       "      <td>unknown</td>\n",
       "      <td>no</td>\n",
       "      <td>no</td>\n",
       "      <td>telephone</td>\n",
       "      <td>may</td>\n",
       "      <td>mon</td>\n",
       "      <td>...</td>\n",
       "      <td>-1.0</td>\n",
       "      <td>0.0</td>\n",
       "      <td>nonexistent</td>\n",
       "      <td>1.1</td>\n",
       "      <td>93.994</td>\n",
       "      <td>-36.4</td>\n",
       "      <td>4.857</td>\n",
       "      <td>5191.0</td>\n",
       "      <td>0</td>\n",
       "      <td>2008</td>\n",
       "    </tr>\n",
       "    <tr>\n",
       "      <th>2</th>\n",
       "      <td>37.0</td>\n",
       "      <td>services</td>\n",
       "      <td>married</td>\n",
       "      <td>high.school</td>\n",
       "      <td>no</td>\n",
       "      <td>yes</td>\n",
       "      <td>no</td>\n",
       "      <td>telephone</td>\n",
       "      <td>may</td>\n",
       "      <td>mon</td>\n",
       "      <td>...</td>\n",
       "      <td>-1.0</td>\n",
       "      <td>0.0</td>\n",
       "      <td>nonexistent</td>\n",
       "      <td>1.1</td>\n",
       "      <td>93.994</td>\n",
       "      <td>-36.4</td>\n",
       "      <td>4.857</td>\n",
       "      <td>5191.0</td>\n",
       "      <td>0</td>\n",
       "      <td>2008</td>\n",
       "    </tr>\n",
       "    <tr>\n",
       "      <th>3</th>\n",
       "      <td>40.0</td>\n",
       "      <td>admin.</td>\n",
       "      <td>married</td>\n",
       "      <td>basic.6y</td>\n",
       "      <td>no</td>\n",
       "      <td>no</td>\n",
       "      <td>no</td>\n",
       "      <td>telephone</td>\n",
       "      <td>may</td>\n",
       "      <td>mon</td>\n",
       "      <td>...</td>\n",
       "      <td>-1.0</td>\n",
       "      <td>0.0</td>\n",
       "      <td>nonexistent</td>\n",
       "      <td>1.1</td>\n",
       "      <td>93.994</td>\n",
       "      <td>-36.4</td>\n",
       "      <td>4.857</td>\n",
       "      <td>5191.0</td>\n",
       "      <td>0</td>\n",
       "      <td>2008</td>\n",
       "    </tr>\n",
       "    <tr>\n",
       "      <th>4</th>\n",
       "      <td>56.0</td>\n",
       "      <td>services</td>\n",
       "      <td>married</td>\n",
       "      <td>high.school</td>\n",
       "      <td>no</td>\n",
       "      <td>no</td>\n",
       "      <td>yes</td>\n",
       "      <td>telephone</td>\n",
       "      <td>may</td>\n",
       "      <td>mon</td>\n",
       "      <td>...</td>\n",
       "      <td>-1.0</td>\n",
       "      <td>0.0</td>\n",
       "      <td>nonexistent</td>\n",
       "      <td>1.1</td>\n",
       "      <td>93.994</td>\n",
       "      <td>-36.4</td>\n",
       "      <td>4.857</td>\n",
       "      <td>5191.0</td>\n",
       "      <td>0</td>\n",
       "      <td>2008</td>\n",
       "    </tr>\n",
       "  </tbody>\n",
       "</table>\n",
       "<p>5 rows × 22 columns</p>\n",
       "</div>"
      ],
      "text/plain": [
       "    age        job  marital    education  default housing loan    contact  \\\n",
       "0  56.0  housemaid  married     basic.4y       no      no   no  telephone   \n",
       "1  57.0   services  married  high.school  unknown      no   no  telephone   \n",
       "2  37.0   services  married  high.school       no     yes   no  telephone   \n",
       "3  40.0     admin.  married     basic.6y       no      no   no  telephone   \n",
       "4  56.0   services  married  high.school       no      no  yes  telephone   \n",
       "\n",
       "  month day_of_week  ...  pdays  previous     poutcome  emp.var.rate  \\\n",
       "0   may         mon  ...   -1.0       0.0  nonexistent           1.1   \n",
       "1   may         mon  ...   -1.0       0.0  nonexistent           1.1   \n",
       "2   may         mon  ...   -1.0       0.0  nonexistent           1.1   \n",
       "3   may         mon  ...   -1.0       0.0  nonexistent           1.1   \n",
       "4   may         mon  ...   -1.0       0.0  nonexistent           1.1   \n",
       "\n",
       "  cons.price.idx  cons.conf.idx  euribor3m  nr.employed  y  year  \n",
       "0         93.994          -36.4      4.857       5191.0  0  2008  \n",
       "1         93.994          -36.4      4.857       5191.0  0  2008  \n",
       "2         93.994          -36.4      4.857       5191.0  0  2008  \n",
       "3         93.994          -36.4      4.857       5191.0  0  2008  \n",
       "4         93.994          -36.4      4.857       5191.0  0  2008  \n",
       "\n",
       "[5 rows x 22 columns]"
      ]
     },
     "execution_count": 3271,
     "metadata": {},
     "output_type": "execute_result"
    }
   ],
   "source": [
    "df['y'] = df['y'].map({'yes': 1, 'no': 0})\n",
    "df.head()"
   ]
  },
  {
   "cell_type": "markdown",
   "metadata": {},
   "source": [
    "# 2) EDA"
   ]
  },
  {
   "cell_type": "markdown",
   "metadata": {},
   "source": [
    "### Correlated variables"
   ]
  },
  {
   "cell_type": "code",
   "execution_count": 3272,
   "metadata": {},
   "outputs": [],
   "source": [
    "#Calculate the correlation coefficients\n",
    "#corr =df.corr()\n",
    "#corr.round(2).style.background_gradient(cmap='coolwarm')"
   ]
  },
  {
   "cell_type": "markdown",
   "metadata": {},
   "source": [
    "* From the heatmap above we can see that 'euribor3m' and 'emp.var.rate' are highly correlated so we drop one of them.\n",
    "\n",
    "* We also drop the 'duration', 'cons.conf.idx', 'nr.employed variable (look at the data section above)."
   ]
  },
  {
   "cell_type": "code",
   "execution_count": 3273,
   "metadata": {},
   "outputs": [],
   "source": [
    "df.drop(['duration','euribor3m','cons.conf.idx', 'nr.employed'], axis=1, inplace=True)\n",
    "# corr =df.corr()\n",
    "\n",
    "# corr.round(2).style.background_gradient(cmap='coolwarm')"
   ]
  },
  {
   "cell_type": "code",
   "execution_count": 3274,
   "metadata": {},
   "outputs": [],
   "source": [
    "#sns.pairplot(df)"
   ]
  },
  {
   "cell_type": "code",
   "execution_count": 3275,
   "metadata": {},
   "outputs": [],
   "source": [
    "#df1=df.set_index('month', 'y').groupby('month').mean()\n",
    "#df1=df.set_index('month').groupby('month').count()\n",
    "#df1\n",
    "#df[df['y']=='yes']"
   ]
  },
  {
   "cell_type": "code",
   "execution_count": 3276,
   "metadata": {},
   "outputs": [],
   "source": [
    "#sns.pairplot(df1)"
   ]
  },
  {
   "cell_type": "code",
   "execution_count": 3277,
   "metadata": {},
   "outputs": [],
   "source": [
    "#plt.figure()\n",
    "#sns.countplot(x='y', data=df, palette='RdBu')\n",
    "#plt.xticks([0,1], ['No', 'Yes'])\n",
    "#plt.show()\n"
   ]
  },
  {
   "cell_type": "markdown",
   "metadata": {},
   "source": [
    "### Outcome by year"
   ]
  },
  {
   "cell_type": "markdown",
   "metadata": {},
   "source": [
    "The first chart below is the countplot of the outcome for each year and the second chart shows the proportion of positive outcome for each year. "
   ]
  },
  {
   "cell_type": "code",
   "execution_count": 3278,
   "metadata": {},
   "outputs": [],
   "source": [
    "# plt.figure()\n",
    "# sns_plot=sns.countplot(x='y', hue='year', data=df)\n",
    "# plt.xticks([0,1], ['No', 'Yes'])\n",
    "# plt.xlabel(\"Outcome\")\n",
    "# plt.show()\n",
    "# fig = sns_plot.get_figure()\n",
    "# fig.savefig('/Users/atousachaharsoughshirazi/Capstone_two/figures/targetcountplotbyyear.png') "
   ]
  },
  {
   "cell_type": "markdown",
   "metadata": {},
   "source": [
    "We can see that the number of 'yes' outcomes did not change much from 2008 to 2010. But the number of 'no' outcomes significantly decreased and in year 2010 there are almost the same number of yes/no outcomes."
   ]
  },
  {
   "cell_type": "code",
   "execution_count": 3279,
   "metadata": {},
   "outputs": [],
   "source": [
    "# dfy=df[['year','y']].set_index('year').groupby(by=['year'])\n",
    "# dfy['y'].value_counts()\n",
    "# palette=sns.color_palette(\"coolwarm\", 7)"
   ]
  },
  {
   "cell_type": "code",
   "execution_count": 3280,
   "metadata": {},
   "outputs": [],
   "source": [
    "# sns_plot=sns.barplot(x='year', y='y',data=df[['year','y']])\n",
    "# sns_plot.set(ylabel='proportion of positive outcome')\n",
    "# plt.show()\n",
    "# fig = sns_plot.get_figure()\n",
    "# fig.savefig('/Users/atousachaharsoughshirazi/Capstone_two/figures/targetbarplotbyyear.png') \n",
    "# palette=sns.color_palette(\"coolwarm\", 7)\n",
    "#palette='RdBu'"
   ]
  },
  {
   "cell_type": "markdown",
   "metadata": {},
   "source": [
    "### Outcome by month and year"
   ]
  },
  {
   "cell_type": "markdown",
   "metadata": {},
   "source": [
    "Some months are missing for example year 2008 does not have any contacts for months of Jan-Apr and Sep. Year 2009 has contacts for March-December months, and year 2010 has March-November."
   ]
  },
  {
   "cell_type": "code",
   "execution_count": 3281,
   "metadata": {},
   "outputs": [],
   "source": [
    "#dfn=df[['year','month','y']].set_index('year','month').groupby(by=['year','month'])\n",
    "#dfn['y'].value_counts()\n",
    "#dfn.head()"
   ]
  },
  {
   "cell_type": "code",
   "execution_count": 3282,
   "metadata": {},
   "outputs": [],
   "source": [
    "#  sns_plot=sns.barplot(x='year', y='y', hue='month',data=df[['year','month','y']])\n",
    "#  sns_plot.set(ylabel='proportion of positive outcome')\n",
    "#  plt.show()\n",
    "#  fig = sns_plot.get_figure()\n",
    "#  fig.savefig('/Users/atousachaharsoughshirazi/Capstone_two/figures/targetbarplotbyyearandmonth.png') "
   ]
  },
  {
   "cell_type": "markdown",
   "metadata": {},
   "source": [
    "From the chart above we can see that in 2008 the proportion of positive outcomes in October (the purple bar) was much higher than other months. In 2009, May and April had the lowest proportion of positive outcomes and in 2010 all proportions for different months got closer to each other. This shows that the trend has changed significantly from 2008 to 2010. This data is during the economic crisis which could have affected the outcome trend dramatically. "
   ]
  },
  {
   "cell_type": "code",
   "execution_count": 3283,
   "metadata": {},
   "outputs": [],
   "source": [
    "#dfnn=dfn.set_index('month','year').groupby(by=['month', 'year'])\n",
    "#dfnn['y'].value_counts()\n",
    "\n",
    "#df1=df[['month','y']] \n",
    "#df2=df1.groupby('month')\n",
    "#df2['y'].value_counts()\n",
    "\n",
    "#df2=df1.replace({'y':{'yes':1 ,'no': 0 }})\n",
    "#sns_plot=sns.barplot(x='month', y='y', data=df2)\n",
    "#sns_plot.set(ylabel='percentage of positive outcome')\n",
    "#plt.show()\n",
    "\n",
    "#pd.to_numeric(df2.y)\n",
    "#df3=pd.DataFrame(df2.groupby('month', sort=False).sum())\n",
    "# df3.reindex()\n",
    "#df3\n",
    "# #plt.bar(x='month', height='y', hue='month', data=df3)\n",
    "# #sns.swarmplot(x='month', y='y', data=df3)\n",
    "\n",
    "#df1['month'].value_counts()"
   ]
  },
  {
   "cell_type": "code",
   "execution_count": 3284,
   "metadata": {},
   "outputs": [],
   "source": [
    "# for i in df.columns.values:\n",
    "#     dfi=df[[i ,'y']]\n",
    "#     dfi2=dfi.replace({'y':{'yes':1 ,'no': 0 }})\n",
    "#     pd.to_numeric(dfi2.y)\n",
    "#     df3=pd.DataFrame(dfi2.set_index(i).groupby(i).sum().sort_values(by=['y'], ascending=False))\n",
    "#     plt.bar(i,'y', data=df3)\n",
    "#     plt.show()\n",
    "#     #print(dfi2.set_index(i).groupby(i).sum().sort_values(by=['y'], ascending=False))\n",
    "    \n",
    "    \n"
   ]
  },
  {
   "cell_type": "code",
   "execution_count": 3285,
   "metadata": {},
   "outputs": [],
   "source": [
    "# for i in df.columns.values:\n",
    "#     dfi=df[[i ,'y']]\n",
    "#     dfi2=dfi.replace({'y':{'yes':1 ,'no': 0 }})\n",
    "#     sns.barplot(x=i, y='y', data=df2)\n",
    "#     plt.show()\n",
    "\n"
   ]
  },
  {
   "cell_type": "markdown",
   "metadata": {},
   "source": [
    "### Outcome by job"
   ]
  },
  {
   "cell_type": "code",
   "execution_count": 3286,
   "metadata": {},
   "outputs": [
    {
     "data": {
      "image/png": "[encoded data removed]",
      "text/plain": [
       "<Figure size 576x396 with 1 Axes>"
      ]
     },
     "metadata": {},
     "output_type": "display_data"
    }
   ],
   "source": [
    "sns_plot=sns.barplot(x='job', y='y', data=df[['job','y']], palette='tab10', order=df[['job', 'y']].groupby('job').mean().sort_values(by='y', ascending=False).index.values)\n",
    "sns_plot.set_xticklabels(sns_plot.get_xticklabels(), rotation=40, ha=\"right\")\n",
    "sns_plot.set(ylabel='proportion of positive outcome')\n",
    "plt.tight_layout()\n",
    "plt.show()\n",
    "fig = sns_plot.get_figure()\n",
    "fig.savefig('/Users/atousachaharsoughshirazi/Capstone_two/figures/jobbarplotbyyear.png') "
   ]
  },
  {
   "cell_type": "markdown",
   "metadata": {},
   "source": [
    "In the chart above we can see that students and retirees have significantly higher proportions of positive outcomes."
   ]
  },
  {
   "cell_type": "markdown",
   "metadata": {},
   "source": [
    "### Outcome by education"
   ]
  },
  {
   "cell_type": "code",
   "execution_count": 3287,
   "metadata": {},
   "outputs": [],
   "source": [
    "#order=['illiterate', 'basic.4y', 'basic.6y',\n",
    "#       'basic.9y','high.school','professional.course','university.degree', 'unknown' ]"
   ]
  },
  {
   "cell_type": "code",
   "execution_count": 3288,
   "metadata": {},
   "outputs": [],
   "source": [
    "# sns_plot=sns.barplot(x='education', y='y', data=df[['education','y']], order=order)\n",
    "# sns_plot.set_xticklabels(sns_plot.get_xticklabels(), rotation=40, ha=\"right\")\n",
    "# sns_plot.set(ylabel='percentage of positive outcome')\n",
    "# plt.tight_layout()\n",
    "# plt.show()\n",
    "# fig = sns_plot.get_figure()\n",
    "# fig.savefig('/Users/atousachaharsoughshirazi/Capstone_two/figures/educationbarplotbyyear.png') \n",
    "# #, palette=sns.color_palette(\"coolwarm\", 7)"
   ]
  },
  {
   "cell_type": "markdown",
   "metadata": {},
   "source": [
    "### Outcome by housing"
   ]
  },
  {
   "cell_type": "code",
   "execution_count": 3289,
   "metadata": {},
   "outputs": [
    {
     "data": {
      "image/png": "[encoded data removed]",
      "text/plain": [
       "<Figure size 576x396 with 1 Axes>"
      ]
     },
     "metadata": {},
     "output_type": "display_data"
    }
   ],
   "source": [
    "sns_plot=sns.barplot(x='housing', y='y', data=df[['housing','y']])\n",
    "sns_plot.set(ylabel='percentage of positive outcome')\n",
    "plt.show()\n",
    "fig = sns_plot.get_figure()\n",
    "fig.savefig('/Users/atousachaharsoughshirazi/Capstone_two/figures/housingbarplot.png')"
   ]
  },
  {
   "cell_type": "code",
   "execution_count": 3290,
   "metadata": {},
   "outputs": [
    {
     "data": {
      "text/html": [
       "<div>\n",
       "<style scoped>\n",
       "    .dataframe tbody tr th:only-of-type {\n",
       "        vertical-align: middle;\n",
       "    }\n",
       "\n",
       "    .dataframe tbody tr th {\n",
       "        vertical-align: top;\n",
       "    }\n",
       "\n",
       "    .dataframe thead th {\n",
       "        text-align: right;\n",
       "    }\n",
       "</style>\n",
       "<table border=\"1\" class=\"dataframe\">\n",
       "  <thead>\n",
       "    <tr style=\"text-align: right;\">\n",
       "      <th></th>\n",
       "      <th>y</th>\n",
       "    </tr>\n",
       "    <tr>\n",
       "      <th>housing</th>\n",
       "      <th></th>\n",
       "    </tr>\n",
       "  </thead>\n",
       "  <tbody>\n",
       "    <tr>\n",
       "      <th>no</th>\n",
       "      <td>2025</td>\n",
       "    </tr>\n",
       "    <tr>\n",
       "      <th>yes</th>\n",
       "      <td>2507</td>\n",
       "    </tr>\n",
       "    <tr>\n",
       "      <th>unknown</th>\n",
       "      <td>107</td>\n",
       "    </tr>\n",
       "  </tbody>\n",
       "</table>\n",
       "</div>"
      ],
      "text/plain": [
       "            y\n",
       "housing      \n",
       "no       2025\n",
       "yes      2507\n",
       "unknown   107"
      ]
     },
     "execution_count": 3290,
     "metadata": {},
     "output_type": "execute_result"
    }
   ],
   "source": [
    "pd.DataFrame(df[['housing','y']].groupby('housing', sort=False).sum())"
   ]
  },
  {
   "cell_type": "markdown",
   "metadata": {},
   "source": [
    "From 4639 total positive outcomes, 2507(or 54.04%) clients had a housing loan, 2025(43.65%) didn't have a housing loan and for 107 (2.3%) housing was unknown."
   ]
  },
  {
   "cell_type": "code",
   "execution_count": 3291,
   "metadata": {},
   "outputs": [
    {
     "data": {
      "text/plain": [
       "yes        21571\n",
       "no         18615\n",
       "unknown      990\n",
       "Name: housing, dtype: int64"
      ]
     },
     "execution_count": 3291,
     "metadata": {},
     "output_type": "execute_result"
    }
   ],
   "source": [
    "df[['housing','y']].housing.value_counts()"
   ]
  },
  {
   "cell_type": "markdown",
   "metadata": {},
   "source": [
    "From 21571 clients that had housing, 2507 of them subscribed. So the proportion of positive outcomes for clients with housing is 0.1162(or percentage of 11.62%). The proportion of positive outcome for clients with no housing is 0.1088 and with unknown housing is 0.108."
   ]
  },
  {
   "cell_type": "code",
   "execution_count": 3292,
   "metadata": {},
   "outputs": [
    {
     "data": {
      "image/png": "[encoded data removed]",
      "text/plain": [
       "<Figure size 576x396 with 1 Axes>"
      ]
     },
     "metadata": {},
     "output_type": "display_data"
    }
   ],
   "source": [
    "\n",
    "\n",
    "sns_plot=sns.barplot(x='loan', y='y', data=df[['loan','y']])\n",
    "sns_plot.set(ylabel='percentage of positive outcome')\n",
    "plt.show()\n",
    "fig = sns_plot.get_figure()\n",
    "fig.savefig('/Users/atousachaharsoughshirazi/Capstone_two/figures/loanbarplot.png')"
   ]
  },
  {
   "cell_type": "markdown",
   "metadata": {},
   "source": [
    "### Outcome by marital status"
   ]
  },
  {
   "cell_type": "code",
   "execution_count": 3293,
   "metadata": {},
   "outputs": [
    {
     "data": {
      "image/png": "[encoded data removed]",
      "text/plain": [
       "<Figure size 576x396 with 1 Axes>"
      ]
     },
     "metadata": {},
     "output_type": "display_data"
    }
   ],
   "source": [
    "sns_plot=sns.barplot(x='marital', y='y', data=df[['marital','y']], order=df[['marital', 'y']].groupby('marital').mean().sort_values(by='y', ascending=False).index.values)\n",
    "sns_plot.set(ylabel='portion of positive outcome')\n",
    "plt.show()"
   ]
  },
  {
   "cell_type": "code",
   "execution_count": 3294,
   "metadata": {},
   "outputs": [
    {
     "data": {
      "text/html": [
       "<div>\n",
       "<style scoped>\n",
       "    .dataframe tbody tr th:only-of-type {\n",
       "        vertical-align: middle;\n",
       "    }\n",
       "\n",
       "    .dataframe tbody tr th {\n",
       "        vertical-align: top;\n",
       "    }\n",
       "\n",
       "    .dataframe thead th {\n",
       "        text-align: right;\n",
       "    }\n",
       "</style>\n",
       "<table border=\"1\" class=\"dataframe\">\n",
       "  <thead>\n",
       "    <tr style=\"text-align: right;\">\n",
       "      <th></th>\n",
       "      <th>y</th>\n",
       "    </tr>\n",
       "    <tr>\n",
       "      <th>marital</th>\n",
       "      <th></th>\n",
       "    </tr>\n",
       "  </thead>\n",
       "  <tbody>\n",
       "    <tr>\n",
       "      <th>married</th>\n",
       "      <td>2531</td>\n",
       "    </tr>\n",
       "    <tr>\n",
       "      <th>single</th>\n",
       "      <td>1620</td>\n",
       "    </tr>\n",
       "    <tr>\n",
       "      <th>divorced</th>\n",
       "      <td>476</td>\n",
       "    </tr>\n",
       "    <tr>\n",
       "      <th>unknown</th>\n",
       "      <td>12</td>\n",
       "    </tr>\n",
       "  </tbody>\n",
       "</table>\n",
       "</div>"
      ],
      "text/plain": [
       "             y\n",
       "marital       \n",
       "married   2531\n",
       "single    1620\n",
       "divorced   476\n",
       "unknown     12"
      ]
     },
     "execution_count": 3294,
     "metadata": {},
     "output_type": "execute_result"
    }
   ],
   "source": [
    "pd.DataFrame(df[['marital','y']].groupby('marital', sort=False).sum())"
   ]
  },
  {
   "cell_type": "code",
   "execution_count": 3295,
   "metadata": {},
   "outputs": [
    {
     "data": {
      "text/plain": [
       "married     24921\n",
       "single      11564\n",
       "divorced     4611\n",
       "unknown        80\n",
       "Name: marital, dtype: int64"
      ]
     },
     "execution_count": 3295,
     "metadata": {},
     "output_type": "execute_result"
    }
   ],
   "source": [
    "df['marital'].value_counts()"
   ]
  },
  {
   "cell_type": "code",
   "execution_count": 3296,
   "metadata": {},
   "outputs": [
    {
     "data": {
      "text/plain": [
       "0    36537\n",
       "1     4639\n",
       "Name: y, dtype: int64"
      ]
     },
     "execution_count": 3296,
     "metadata": {},
     "output_type": "execute_result"
    }
   ],
   "source": [
    "df.y.value_counts()"
   ]
  },
  {
   "cell_type": "markdown",
   "metadata": {},
   "source": [
    "### Outcome by day of the week"
   ]
  },
  {
   "cell_type": "code",
   "execution_count": 3297,
   "metadata": {},
   "outputs": [
    {
     "data": {
      "image/png": "[encoded data removed]",
      "text/plain": [
       "<Figure size 576x396 with 1 Axes>"
      ]
     },
     "metadata": {},
     "output_type": "display_data"
    }
   ],
   "source": [
    "sns_plot=sns.barplot(x='day_of_week', y='y', data=df[['day_of_week','y']])\n",
    "sns_plot.set(ylabel='percentage of positive outcome')\n",
    "plt.show()"
   ]
  },
  {
   "cell_type": "markdown",
   "metadata": {},
   "source": [
    "### Outcome by age"
   ]
  },
  {
   "cell_type": "code",
   "execution_count": 3298,
   "metadata": {},
   "outputs": [
    {
     "data": {
      "image/png": "[encoded data removed]",
      "text/plain": [
       "<Figure size 576x396 with 1 Axes>"
      ]
     },
     "metadata": {},
     "output_type": "display_data"
    }
   ],
   "source": [
    "sns_plot=sns.lineplot(x='age', y='y',palette='tab10', data=df[['age','y']])\n",
    "sns_plot.set(ylabel='portion of positive outcome')\n",
    "plt.show()\n",
    "fig = sns_plot.get_figure()\n",
    "fig.savefig('/Users/atousachaharsoughshirazi/Capstone_two/figures/outcomebarplotbyage.png') "
   ]
  },
  {
   "cell_type": "markdown",
   "metadata": {},
   "source": [
    "The chart above shows that clients younger than 25 and clients older than 60 have a bigger proportion of yes outcome. This is consistent with the result from the ‘Outcome by job’ section above which shows students and retirees have high proportion of yes outcomes.\n",
    "So we can define different age groups for this study purpose. "
   ]
  },
  {
   "cell_type": "code",
   "execution_count": 3299,
   "metadata": {},
   "outputs": [
    {
     "data": {
      "text/html": [
       "<div>\n",
       "<style scoped>\n",
       "    .dataframe tbody tr th:only-of-type {\n",
       "        vertical-align: middle;\n",
       "    }\n",
       "\n",
       "    .dataframe tbody tr th {\n",
       "        vertical-align: top;\n",
       "    }\n",
       "\n",
       "    .dataframe thead th {\n",
       "        text-align: right;\n",
       "    }\n",
       "</style>\n",
       "<table border=\"1\" class=\"dataframe\">\n",
       "  <thead>\n",
       "    <tr style=\"text-align: right;\">\n",
       "      <th></th>\n",
       "      <th>age</th>\n",
       "      <th>job</th>\n",
       "      <th>marital</th>\n",
       "      <th>education</th>\n",
       "      <th>default</th>\n",
       "      <th>housing</th>\n",
       "      <th>loan</th>\n",
       "      <th>contact</th>\n",
       "      <th>month</th>\n",
       "      <th>day_of_week</th>\n",
       "      <th>campaign</th>\n",
       "      <th>pdays</th>\n",
       "      <th>previous</th>\n",
       "      <th>poutcome</th>\n",
       "      <th>emp.var.rate</th>\n",
       "      <th>cons.price.idx</th>\n",
       "      <th>y</th>\n",
       "      <th>year</th>\n",
       "    </tr>\n",
       "  </thead>\n",
       "  <tbody>\n",
       "    <tr>\n",
       "      <th>0</th>\n",
       "      <td>51-60</td>\n",
       "      <td>housemaid</td>\n",
       "      <td>married</td>\n",
       "      <td>basic.4y</td>\n",
       "      <td>no</td>\n",
       "      <td>no</td>\n",
       "      <td>no</td>\n",
       "      <td>telephone</td>\n",
       "      <td>may</td>\n",
       "      <td>mon</td>\n",
       "      <td>1.0</td>\n",
       "      <td>-1.0</td>\n",
       "      <td>0.0</td>\n",
       "      <td>nonexistent</td>\n",
       "      <td>1.1</td>\n",
       "      <td>93.994</td>\n",
       "      <td>0</td>\n",
       "      <td>2008</td>\n",
       "    </tr>\n",
       "    <tr>\n",
       "      <th>1</th>\n",
       "      <td>51-60</td>\n",
       "      <td>services</td>\n",
       "      <td>married</td>\n",
       "      <td>high.school</td>\n",
       "      <td>unknown</td>\n",
       "      <td>no</td>\n",
       "      <td>no</td>\n",
       "      <td>telephone</td>\n",
       "      <td>may</td>\n",
       "      <td>mon</td>\n",
       "      <td>1.0</td>\n",
       "      <td>-1.0</td>\n",
       "      <td>0.0</td>\n",
       "      <td>nonexistent</td>\n",
       "      <td>1.1</td>\n",
       "      <td>93.994</td>\n",
       "      <td>0</td>\n",
       "      <td>2008</td>\n",
       "    </tr>\n",
       "    <tr>\n",
       "      <th>2</th>\n",
       "      <td>31-40</td>\n",
       "      <td>services</td>\n",
       "      <td>married</td>\n",
       "      <td>high.school</td>\n",
       "      <td>no</td>\n",
       "      <td>yes</td>\n",
       "      <td>no</td>\n",
       "      <td>telephone</td>\n",
       "      <td>may</td>\n",
       "      <td>mon</td>\n",
       "      <td>1.0</td>\n",
       "      <td>-1.0</td>\n",
       "      <td>0.0</td>\n",
       "      <td>nonexistent</td>\n",
       "      <td>1.1</td>\n",
       "      <td>93.994</td>\n",
       "      <td>0</td>\n",
       "      <td>2008</td>\n",
       "    </tr>\n",
       "    <tr>\n",
       "      <th>3</th>\n",
       "      <td>31-40</td>\n",
       "      <td>admin.</td>\n",
       "      <td>married</td>\n",
       "      <td>basic.6y</td>\n",
       "      <td>no</td>\n",
       "      <td>no</td>\n",
       "      <td>no</td>\n",
       "      <td>telephone</td>\n",
       "      <td>may</td>\n",
       "      <td>mon</td>\n",
       "      <td>1.0</td>\n",
       "      <td>-1.0</td>\n",
       "      <td>0.0</td>\n",
       "      <td>nonexistent</td>\n",
       "      <td>1.1</td>\n",
       "      <td>93.994</td>\n",
       "      <td>0</td>\n",
       "      <td>2008</td>\n",
       "    </tr>\n",
       "    <tr>\n",
       "      <th>4</th>\n",
       "      <td>51-60</td>\n",
       "      <td>services</td>\n",
       "      <td>married</td>\n",
       "      <td>high.school</td>\n",
       "      <td>no</td>\n",
       "      <td>no</td>\n",
       "      <td>yes</td>\n",
       "      <td>telephone</td>\n",
       "      <td>may</td>\n",
       "      <td>mon</td>\n",
       "      <td>1.0</td>\n",
       "      <td>-1.0</td>\n",
       "      <td>0.0</td>\n",
       "      <td>nonexistent</td>\n",
       "      <td>1.1</td>\n",
       "      <td>93.994</td>\n",
       "      <td>0</td>\n",
       "      <td>2008</td>\n",
       "    </tr>\n",
       "  </tbody>\n",
       "</table>\n",
       "</div>"
      ],
      "text/plain": [
       "     age        job  marital    education  default housing loan    contact  \\\n",
       "0  51-60  housemaid  married     basic.4y       no      no   no  telephone   \n",
       "1  51-60   services  married  high.school  unknown      no   no  telephone   \n",
       "2  31-40   services  married  high.school       no     yes   no  telephone   \n",
       "3  31-40     admin.  married     basic.6y       no      no   no  telephone   \n",
       "4  51-60   services  married  high.school       no      no  yes  telephone   \n",
       "\n",
       "  month day_of_week  campaign  pdays  previous     poutcome  emp.var.rate  \\\n",
       "0   may         mon       1.0   -1.0       0.0  nonexistent           1.1   \n",
       "1   may         mon       1.0   -1.0       0.0  nonexistent           1.1   \n",
       "2   may         mon       1.0   -1.0       0.0  nonexistent           1.1   \n",
       "3   may         mon       1.0   -1.0       0.0  nonexistent           1.1   \n",
       "4   may         mon       1.0   -1.0       0.0  nonexistent           1.1   \n",
       "\n",
       "   cons.price.idx  y  year  \n",
       "0          93.994  0  2008  \n",
       "1          93.994  0  2008  \n",
       "2          93.994  0  2008  \n",
       "3          93.994  0  2008  \n",
       "4          93.994  0  2008  "
      ]
     },
     "execution_count": 3299,
     "metadata": {},
     "output_type": "execute_result"
    }
   ],
   "source": [
    "bins = [0 ,25, 30, 40, 50, 60, np.inf]\n",
    "labels = ['<25', '26-30', '31-40', '41-50', '51-60', '60+']\n",
    "df['age'] = pd.cut(df.age, bins, labels = labels,include_lowest = True)\n",
    "\n",
    "df.head()"
   ]
  },
  {
   "cell_type": "code",
   "execution_count": 3300,
   "metadata": {},
   "outputs": [
    {
     "data": {
      "image/png": "[encoded data removed]",
      "text/plain": [
       "<Figure size 576x396 with 1 Axes>"
      ]
     },
     "metadata": {},
     "output_type": "display_data"
    }
   ],
   "source": [
    "# sns_plot=sns.plot(x='age', y='y',palette='tab10', data=df[['age','y']])\n",
    "# sns_plot.set(ylabel='portion of positive outcome')\n",
    "# plt.show()\n",
    "\n",
    "plt.figure()\n",
    "sns_plot=sns.barplot(x='age', y='y',palette='tab10', hue='age', data=df[['age','y']], dodge=False)\n",
    "plt.ylabel('portion of positive outcome')\n",
    "plt.show()\n",
    "fig = sns_plot.get_figure()\n",
    "fig.savefig('/Users/atousachaharsoughshirazi/Capstone_two/figures/outcomebarplotbyagegroups.png') \n"
   ]
  },
  {
   "cell_type": "markdown",
   "metadata": {},
   "source": [
    "### Chi-square testing"
   ]
  },
  {
   "cell_type": "markdown",
   "metadata": {},
   "source": [
    "The table below summarizes the p-values obtained from chi-square testing for each column. If we choose the significance level of ɑ=5%, then only housing and loan, which have p-values larger than 0.05, are not significant. "
   ]
  },
  {
   "cell_type": "code",
   "execution_count": 3301,
   "metadata": {},
   "outputs": [],
   "source": [
    "columns=df.drop(['y'], axis=1).columns.values"
   ]
  },
  {
   "cell_type": "code",
   "execution_count": 3302,
   "metadata": {},
   "outputs": [
    {
     "name": "stdout",
     "output_type": "stream",
     "text": [
      "          Variable        p-value p-value>0.05\n",
      "0              age  3.716987e-299        False\n",
      "1              job  3.268412e-199        False\n",
      "2          marital   1.778423e-26        False\n",
      "3        education   3.746768e-38        False\n",
      "4          default   5.217541e-89        False\n",
      "5          housing   5.663793e-02         True\n",
      "6             loan   5.771532e-01         True\n",
      "7          contact  1.718741e-189        False\n",
      "8            month   0.000000e+00        False\n",
      "9      day_of_week   3.085755e-05        False\n",
      "10        campaign   3.988243e-26        False\n",
      "11           pdays   0.000000e+00        False\n",
      "12        previous   0.000000e+00        False\n",
      "13        poutcome   0.000000e+00        False\n",
      "14    emp.var.rate   0.000000e+00        False\n",
      "15  cons.price.idx   0.000000e+00        False\n",
      "16            year   0.000000e+00        False\n"
     ]
    }
   ],
   "source": [
    "dfpval=pd.DataFrame(columns=['Variable', 'p-value', 'p-value>0.05'])\n",
    "\n",
    "for x in columns:\n",
    "    obs = list(df[[x,'y']].groupby(x).sum().sort_index().y), list(np.array(df[x].value_counts().sort_index())-np.array(df[[x,'y']].groupby(x).sum().sort_index().y))\n",
    "    chi2, p, dof, ex=chi2_contingency(obs)\n",
    "    \n",
    "    dfpval=dfpval.append({'Variable': x, 'p-value':p, 'p-value>0.05': bool(p>0.05)}, ignore_index=True)\n",
    "print(dfpval)\n",
    "dfpval.to_csv(r'/Users/atousachaharsoughshirazi/Capstone_two/figures/pvaluetable.csv')"
   ]
  },
  {
   "cell_type": "markdown",
   "metadata": {},
   "source": [
    "# 3) Modeling"
   ]
  },
  {
   "cell_type": "markdown",
   "metadata": {},
   "source": [
    "### Preprocessing"
   ]
  },
  {
   "cell_type": "markdown",
   "metadata": {},
   "source": [
    "Define X and y, get dummies, scale and split the data set to train and test sets."
   ]
  },
  {
   "cell_type": "code",
   "execution_count": 3303,
   "metadata": {},
   "outputs": [],
   "source": [
    "#df=df[df['year']=='2010']\n",
    "df.drop(['year'], axis=1, inplace=True)"
   ]
  },
  {
   "cell_type": "code",
   "execution_count": 3304,
   "metadata": {},
   "outputs": [],
   "source": [
    "df=pd.get_dummies(df, drop_first=True)"
   ]
  },
  {
   "cell_type": "code",
   "execution_count": 3305,
   "metadata": {},
   "outputs": [],
   "source": [
    "y=df['y']\n",
    "X=df.drop(['y'], axis=1)\n",
    "scaler = preprocessing.StandardScaler().fit(X)\n",
    "X_scaled=scaler.transform(X) \n",
    "# Create training and test sets\n",
    "X_train, X_test, y_train, y_test = train_test_split(X_scaled, y, test_size = 0.3, random_state=42)"
   ]
  },
  {
   "cell_type": "markdown",
   "metadata": {},
   "source": [
    "Now apply different classification methods."
   ]
  },
  {
   "cell_type": "markdown",
   "metadata": {},
   "source": [
    "## Classification methods"
   ]
  },
  {
   "cell_type": "markdown",
   "metadata": {},
   "source": [
    "The data is imbalanced. Only 11.26% of the data has positive outcome and the rest has a negative outcome. So we use class_weight=’balanced’ in multiple classification methods below."
   ]
  },
  {
   "cell_type": "markdown",
   "metadata": {},
   "source": [
    "### Logistic regression"
   ]
  },
  {
   "cell_type": "markdown",
   "metadata": {},
   "source": [
    "#### No tuning case"
   ]
  },
  {
   "cell_type": "code",
   "execution_count": 3306,
   "metadata": {},
   "outputs": [
    {
     "name": "stdout",
     "output_type": "stream",
     "text": [
      "[[9132 1797]\n",
      " [ 487  937]]\n",
      "              precision    recall  f1-score   support\n",
      "\n",
      "           0       0.95      0.84      0.89     10929\n",
      "           1       0.34      0.66      0.45      1424\n",
      "\n",
      "    accuracy                           0.82     12353\n",
      "   macro avg       0.65      0.75      0.67     12353\n",
      "weighted avg       0.88      0.82      0.84     12353\n",
      "\n"
     ]
    },
    {
     "data": {
      "text/plain": [
       "0.815105642354084"
      ]
     },
     "execution_count": 3306,
     "metadata": {},
     "output_type": "execute_result"
    }
   ],
   "source": [
    "# Create the classifier: logreg\n",
    "logreg = LogisticRegression(class_weight='balanced')\n",
    "\n",
    "# Fit the classifier to the training data\n",
    "logreg.fit(X_train, y_train)\n",
    "\n",
    "# Predict the labels of the test set: y_pred\n",
    "y_pred = logreg.predict(X_test)\n",
    "\n",
    "# Compute and print the confusion matrix and classification report\n",
    "\n",
    "print(confusion_matrix(y_test, y_pred))\n",
    "print(classification_report(y_test, y_pred))\n",
    "\n",
    "accuracy_score(logreg.predict(X_test), y_test)"
   ]
  },
  {
   "cell_type": "code",
   "execution_count": 3307,
   "metadata": {},
   "outputs": [],
   "source": [
    "report = classification_report(y_test, y_pred, output_dict=True)\n",
    "dflog = pd.DataFrame(report).transpose()\n",
    "dflog.to_csv(r'/Users/atousachaharsoughshirazi/Capstone_two/figures/reportlogregnotune.csv')"
   ]
  },
  {
   "cell_type": "code",
   "execution_count": 3308,
   "metadata": {},
   "outputs": [],
   "source": [
    "y_pred_prob = logreg.predict_proba(X_test)[:,1]"
   ]
  },
  {
   "cell_type": "code",
   "execution_count": 3309,
   "metadata": {},
   "outputs": [
    {
     "data": {
      "text/plain": [
       "0.7966024768140839"
      ]
     },
     "execution_count": 3309,
     "metadata": {},
     "output_type": "execute_result"
    }
   ],
   "source": [
    "roc_auc_score(y_test, y_pred_prob)"
   ]
  },
  {
   "cell_type": "markdown",
   "metadata": {},
   "source": [
    "#### Tuning the parameter"
   ]
  },
  {
   "cell_type": "code",
   "execution_count": 3310,
   "metadata": {},
   "outputs": [],
   "source": [
    "# Cs = [0.001, 0.01, 0.1, 1, 10, 100]\n",
    "# param_grid = {'C': Cs}\n",
    "# log_cv=GridSearchCV(logreg, param_grid, scoring=\"roc_auc\", cv=5)\n",
    "# log_cv.fit(X_train, y_train)\n",
    "# (log_cv.best_params_, log_cv.best_score_)\n",
    "# # # Print the optimal parameters and best score\n",
    "# print(\"Tuned Logistic Regression Parameter: {}\".format(log_cv.best_params_))\n",
    "# print(\"Tuned Logistic Regression Accuracy: {}\".format(log_cv.best_score_))"
   ]
  },
  {
   "cell_type": "code",
   "execution_count": 3311,
   "metadata": {},
   "outputs": [],
   "source": [
    "# y_pred =log_cv.predict(X_test)\n",
    "# print(confusion_matrix(y_test, y_pred))\n",
    "# print(classification_report(y_test, y_pred))"
   ]
  },
  {
   "cell_type": "code",
   "execution_count": 3312,
   "metadata": {},
   "outputs": [],
   "source": [
    "# y_pred_prob = log_cv.predict_proba(X_test)[:,1]\n",
    "# roc_auc_score(y_test, y_pred_prob)"
   ]
  },
  {
   "cell_type": "code",
   "execution_count": 3313,
   "metadata": {},
   "outputs": [],
   "source": [
    "# new_log = LogisticRegression(C=log_cv.best_params_['C'], class_weight='balanced')\n",
    "# new_log.fit(X_train, y_train)\n",
    "# accuracy_score(new_log.predict(X_test), y_test)"
   ]
  },
  {
   "cell_type": "code",
   "execution_count": 3314,
   "metadata": {},
   "outputs": [],
   "source": [
    "# y_pred_prob = new_log.predict_proba(X_test)[:,1]\n",
    "# roc_auc_score(y_test, y_pred_prob)"
   ]
  },
  {
   "cell_type": "markdown",
   "metadata": {},
   "source": [
    "#### Tuning the parameter with penalty and a different log space"
   ]
  },
  {
   "cell_type": "code",
   "execution_count": 3315,
   "metadata": {},
   "outputs": [
    {
     "name": "stderr",
     "output_type": "stream",
     "text": [
      "/Applications/anaconda3/lib/python3.7/site-packages/sklearn/model_selection/_validation.py:536: FitFailedWarning: Estimator fit failed. The score on this train-test partition for these parameters will be set to nan. Details: \n",
      "ValueError: Solver lbfgs supports only 'l2' or 'none' penalties, got l1 penalty.\n",
      "\n",
      "  FitFailedWarning)\n",
      "/Applications/anaconda3/lib/python3.7/site-packages/sklearn/model_selection/_validation.py:536: FitFailedWarning: Estimator fit failed. The score on this train-test partition for these parameters will be set to nan. Details: \n",
      "ValueError: Solver lbfgs supports only 'l2' or 'none' penalties, got l1 penalty.\n",
      "\n",
      "  FitFailedWarning)\n",
      "/Applications/anaconda3/lib/python3.7/site-packages/sklearn/model_selection/_validation.py:536: FitFailedWarning: Estimator fit failed. The score on this train-test partition for these parameters will be set to nan. Details: \n",
      "ValueError: Solver lbfgs supports only 'l2' or 'none' penalties, got l1 penalty.\n",
      "\n",
      "  FitFailedWarning)\n",
      "/Applications/anaconda3/lib/python3.7/site-packages/sklearn/model_selection/_validation.py:536: FitFailedWarning: Estimator fit failed. The score on this train-test partition for these parameters will be set to nan. Details: \n",
      "ValueError: Solver lbfgs supports only 'l2' or 'none' penalties, got l1 penalty.\n",
      "\n",
      "  FitFailedWarning)\n",
      "/Applications/anaconda3/lib/python3.7/site-packages/sklearn/model_selection/_validation.py:536: FitFailedWarning: Estimator fit failed. The score on this train-test partition for these parameters will be set to nan. Details: \n",
      "ValueError: Solver lbfgs supports only 'l2' or 'none' penalties, got l1 penalty.\n",
      "\n",
      "  FitFailedWarning)\n",
      "/Applications/anaconda3/lib/python3.7/site-packages/sklearn/model_selection/_validation.py:536: FitFailedWarning: Estimator fit failed. The score on this train-test partition for these parameters will be set to nan. Details: \n",
      "ValueError: Solver lbfgs supports only 'l2' or 'none' penalties, got l1 penalty.\n",
      "\n",
      "  FitFailedWarning)\n",
      "/Applications/anaconda3/lib/python3.7/site-packages/sklearn/model_selection/_validation.py:536: FitFailedWarning: Estimator fit failed. The score on this train-test partition for these parameters will be set to nan. Details: \n",
      "ValueError: Solver lbfgs supports only 'l2' or 'none' penalties, got l1 penalty.\n",
      "\n",
      "  FitFailedWarning)\n",
      "/Applications/anaconda3/lib/python3.7/site-packages/sklearn/model_selection/_validation.py:536: FitFailedWarning: Estimator fit failed. The score on this train-test partition for these parameters will be set to nan. Details: \n",
      "ValueError: Solver lbfgs supports only 'l2' or 'none' penalties, got l1 penalty.\n",
      "\n",
      "  FitFailedWarning)\n",
      "/Applications/anaconda3/lib/python3.7/site-packages/sklearn/model_selection/_validation.py:536: FitFailedWarning: Estimator fit failed. The score on this train-test partition for these parameters will be set to nan. Details: \n",
      "ValueError: Solver lbfgs supports only 'l2' or 'none' penalties, got l1 penalty.\n",
      "\n",
      "  FitFailedWarning)\n",
      "/Applications/anaconda3/lib/python3.7/site-packages/sklearn/model_selection/_validation.py:536: FitFailedWarning: Estimator fit failed. The score on this train-test partition for these parameters will be set to nan. Details: \n",
      "ValueError: Solver lbfgs supports only 'l2' or 'none' penalties, got l1 penalty.\n",
      "\n",
      "  FitFailedWarning)\n",
      "/Applications/anaconda3/lib/python3.7/site-packages/sklearn/model_selection/_validation.py:536: FitFailedWarning: Estimator fit failed. The score on this train-test partition for these parameters will be set to nan. Details: \n",
      "ValueError: Solver lbfgs supports only 'l2' or 'none' penalties, got l1 penalty.\n",
      "\n",
      "  FitFailedWarning)\n",
      "/Applications/anaconda3/lib/python3.7/site-packages/sklearn/model_selection/_validation.py:536: FitFailedWarning: Estimator fit failed. The score on this train-test partition for these parameters will be set to nan. Details: \n",
      "ValueError: Solver lbfgs supports only 'l2' or 'none' penalties, got l1 penalty.\n",
      "\n",
      "  FitFailedWarning)\n",
      "/Applications/anaconda3/lib/python3.7/site-packages/sklearn/model_selection/_validation.py:536: FitFailedWarning: Estimator fit failed. The score on this train-test partition for these parameters will be set to nan. Details: \n",
      "ValueError: Solver lbfgs supports only 'l2' or 'none' penalties, got l1 penalty.\n",
      "\n",
      "  FitFailedWarning)\n",
      "/Applications/anaconda3/lib/python3.7/site-packages/sklearn/model_selection/_validation.py:536: FitFailedWarning: Estimator fit failed. The score on this train-test partition for these parameters will be set to nan. Details: \n",
      "ValueError: Solver lbfgs supports only 'l2' or 'none' penalties, got l1 penalty.\n",
      "\n",
      "  FitFailedWarning)\n",
      "/Applications/anaconda3/lib/python3.7/site-packages/sklearn/model_selection/_validation.py:536: FitFailedWarning: Estimator fit failed. The score on this train-test partition for these parameters will be set to nan. Details: \n",
      "ValueError: Solver lbfgs supports only 'l2' or 'none' penalties, got l1 penalty.\n",
      "\n",
      "  FitFailedWarning)\n"
     ]
    },
    {
     "name": "stdout",
     "output_type": "stream",
     "text": [
      "Tuned Logistic Regression Parameter: {'C': 1.389495494373136, 'penalty': 'l2'}\n",
      "Tuned Logistic Regression AUC: 0.7892266437353854\n"
     ]
    }
   ],
   "source": [
    "c_space = np.logspace(-5, 3, 15)\n",
    "param_grid = {'C': c_space, 'penalty': ['l1', 'l2']}\n",
    "log_cv=GridSearchCV(logreg, param_grid, scoring=\"roc_auc\", cv=5)\n",
    "\n",
    "log_cv.fit(X_train, y_train)\n",
    "# # # Print the optimal parameters and best score\n",
    "print(\"Tuned Logistic Regression Parameter: {}\".format(log_cv.best_params_))\n",
    "print(\"Tuned Logistic Regression AUC: {}\".format(log_cv.best_score_))\n"
   ]
  },
  {
   "cell_type": "code",
   "execution_count": 3316,
   "metadata": {},
   "outputs": [
    {
     "data": {
      "text/plain": [
       "0.7966074244793513"
      ]
     },
     "execution_count": 3316,
     "metadata": {},
     "output_type": "execute_result"
    }
   ],
   "source": [
    "y_pred_prob = log_cv.predict_proba(X_test)[:,1]\n",
    "roc_auc_score(y_test, y_pred_prob)"
   ]
  },
  {
   "cell_type": "code",
   "execution_count": 3317,
   "metadata": {},
   "outputs": [
    {
     "data": {
      "text/plain": [
       "0.815105642354084"
      ]
     },
     "execution_count": 3317,
     "metadata": {},
     "output_type": "execute_result"
    }
   ],
   "source": [
    "accuracy_score(log_cv.predict(X_test), y_test)"
   ]
  },
  {
   "cell_type": "code",
   "execution_count": 3318,
   "metadata": {},
   "outputs": [
    {
     "name": "stderr",
     "output_type": "stream",
     "text": [
      "/Applications/anaconda3/lib/python3.7/site-packages/sklearn/linear_model/_logistic.py:940: ConvergenceWarning: lbfgs failed to converge (status=1):\n",
      "STOP: TOTAL NO. of ITERATIONS REACHED LIMIT.\n",
      "\n",
      "Increase the number of iterations (max_iter) or scale the data as shown in:\n",
      "    https://scikit-learn.org/stable/modules/preprocessing.html\n",
      "Please also refer to the documentation for alternative solver options:\n",
      "    https://scikit-learn.org/stable/modules/linear_model.html#logistic-regression\n",
      "  extra_warning_msg=_LOGISTIC_SOLVER_CONVERGENCE_MSG)\n",
      "/Applications/anaconda3/lib/python3.7/site-packages/sklearn/linear_model/_logistic.py:940: ConvergenceWarning: lbfgs failed to converge (status=1):\n",
      "STOP: TOTAL NO. of ITERATIONS REACHED LIMIT.\n",
      "\n",
      "Increase the number of iterations (max_iter) or scale the data as shown in:\n",
      "    https://scikit-learn.org/stable/modules/preprocessing.html\n",
      "Please also refer to the documentation for alternative solver options:\n",
      "    https://scikit-learn.org/stable/modules/linear_model.html#logistic-regression\n",
      "  extra_warning_msg=_LOGISTIC_SOLVER_CONVERGENCE_MSG)\n",
      "/Applications/anaconda3/lib/python3.7/site-packages/sklearn/linear_model/_logistic.py:940: ConvergenceWarning: lbfgs failed to converge (status=1):\n",
      "STOP: TOTAL NO. of ITERATIONS REACHED LIMIT.\n",
      "\n",
      "Increase the number of iterations (max_iter) or scale the data as shown in:\n",
      "    https://scikit-learn.org/stable/modules/preprocessing.html\n",
      "Please also refer to the documentation for alternative solver options:\n",
      "    https://scikit-learn.org/stable/modules/linear_model.html#logistic-regression\n",
      "  extra_warning_msg=_LOGISTIC_SOLVER_CONVERGENCE_MSG)\n",
      "/Applications/anaconda3/lib/python3.7/site-packages/sklearn/linear_model/_logistic.py:940: ConvergenceWarning: lbfgs failed to converge (status=1):\n",
      "STOP: TOTAL NO. of ITERATIONS REACHED LIMIT.\n",
      "\n",
      "Increase the number of iterations (max_iter) or scale the data as shown in:\n",
      "    https://scikit-learn.org/stable/modules/preprocessing.html\n",
      "Please also refer to the documentation for alternative solver options:\n",
      "    https://scikit-learn.org/stable/modules/linear_model.html#logistic-regression\n",
      "  extra_warning_msg=_LOGISTIC_SOLVER_CONVERGENCE_MSG)\n",
      "/Applications/anaconda3/lib/python3.7/site-packages/sklearn/linear_model/_logistic.py:940: ConvergenceWarning: lbfgs failed to converge (status=1):\n",
      "STOP: TOTAL NO. of ITERATIONS REACHED LIMIT.\n",
      "\n",
      "Increase the number of iterations (max_iter) or scale the data as shown in:\n",
      "    https://scikit-learn.org/stable/modules/preprocessing.html\n",
      "Please also refer to the documentation for alternative solver options:\n",
      "    https://scikit-learn.org/stable/modules/linear_model.html#logistic-regression\n",
      "  extra_warning_msg=_LOGISTIC_SOLVER_CONVERGENCE_MSG)\n"
     ]
    },
    {
     "data": {
      "text/plain": [
       "0.3328260516346409"
      ]
     },
     "execution_count": 3318,
     "metadata": {},
     "output_type": "execute_result"
    }
   ],
   "source": [
    "cv_scores = cross_val_score(new_log, X, y, cv=5)\n",
    "#cv_scores\n",
    "np.mean(cv_scores)"
   ]
  },
  {
   "cell_type": "markdown",
   "metadata": {},
   "source": [
    "Still the best parameter is C=?"
   ]
  },
  {
   "cell_type": "markdown",
   "metadata": {},
   "source": [
    "#### Finding thresohold by optimizing geometric mean"
   ]
  },
  {
   "cell_type": "code",
   "execution_count": 3320,
   "metadata": {},
   "outputs": [
    {
     "name": "stdout",
     "output_type": "stream",
     "text": [
      "Best Threshold=0.470446, G-Mean=0.742\n"
     ]
    },
    {
     "data": {
      "image/png": "[encoded data removed]",
      "text/plain": [
       "<Figure size 576x396 with 1 Axes>"
      ]
     },
     "metadata": {},
     "output_type": "display_data"
    },
    {
     "data": {
      "text/plain": [
       "<Figure size 576x396 with 0 Axes>"
      ]
     },
     "metadata": {},
     "output_type": "display_data"
    }
   ],
   "source": [
    "# Compute predicted probabilities: y_pred_prob\n",
    "y_pred_prob = logreg.predict_proba(X_test)[:,1]\n",
    "\n",
    "# Generate ROC curve values: fpr, tpr, thresholds\n",
    "fpr, tpr, thresholds = roc_curve(y_test, y_pred_prob)\n",
    "\n",
    "\n",
    "gmeans = np.sqrt(tpr * (1-fpr))\n",
    "ix = np.argmax(gmeans)\n",
    "print('Best Threshold=%f, G-Mean=%.3f' % (thresholds[ix], gmeans[ix]))\n",
    "\n",
    "# Plot ROC curve\n",
    "plt.figure()\n",
    "plt.plot([0, 1], [0, 1], 'k--')\n",
    "plt.plot(fpr, tpr)\n",
    "plt.scatter(fpr[ix], tpr[ix], marker='o', color='black', label='Best')\n",
    "plt.xlabel('False Positive Rate')\n",
    "plt.ylabel('True Positive Rate')\n",
    "plt.title('ROC Curve')\n",
    "plt.show()\n",
    "plt.savefig('/Users/atousachaharsoughshirazi/Capstone_two/figures/roclogreg.png') "
   ]
  },
  {
   "cell_type": "code",
   "execution_count": 3321,
   "metadata": {},
   "outputs": [
    {
     "data": {
      "text/plain": [
       "0.7966024768140839"
      ]
     },
     "execution_count": 3321,
     "metadata": {},
     "output_type": "execute_result"
    }
   ],
   "source": [
    "roc_auc_score(y_test, y_pred_prob)"
   ]
  },
  {
   "cell_type": "markdown",
   "metadata": {},
   "source": [
    "#### Profitability function"
   ]
  },
  {
   "cell_type": "code",
   "execution_count": 3322,
   "metadata": {},
   "outputs": [],
   "source": [
    "def profitability1(cost_call, revenue, y_pred, df):\n",
    "    prof=cost_call*(len(df.index))-(sum(y_pred))*revenue\n",
    "    print(\"profitability= ${}\".format(prof))"
   ]
  },
  {
   "cell_type": "code",
   "execution_count": 3323,
   "metadata": {},
   "outputs": [
    {
     "name": "stdout",
     "output_type": "stream",
     "text": [
      "profitability= $138360\n"
     ]
    }
   ],
   "source": [
    "profitability1(10, 100, y_pred, df)"
   ]
  },
  {
   "cell_type": "code",
   "execution_count": 3324,
   "metadata": {},
   "outputs": [],
   "source": [
    "# def profitability2(cost_call, revenue, y_pred, df):\n",
    "#     prof=cost_call*(len(df.index))-(sum(y_pred))*revenue\n",
    "#     print(\"profitability= ${}\".format(prof))"
   ]
  },
  {
   "cell_type": "code",
   "execution_count": 3325,
   "metadata": {},
   "outputs": [],
   "source": [
    "# ix = np.argmax(profi)\n",
    "# print('Best Threshold=%f, G-Mean=%.3f' % (thresholds[ix], gmeans[ix]))"
   ]
  },
  {
   "cell_type": "markdown",
   "metadata": {},
   "source": [
    "#### Finding threshold by optimizing F1"
   ]
  },
  {
   "cell_type": "code",
   "execution_count": 3330,
   "metadata": {},
   "outputs": [
    {
     "name": "stdout",
     "output_type": "stream",
     "text": [
      "Best Threshold=0.661138, F-Score=0.493\n"
     ]
    }
   ],
   "source": [
    "precision, recall, thresholds = precision_recall_curve(y_test, y_pred_prob)\n",
    "# convert to f score\n",
    "fscore = (2 * precision * recall) / (precision + recall)\n",
    "# locate the index of the largest f score\n",
    "ix = np.argmax(fscore)\n",
    "print('Best Threshold=%f, F-Score=%.3f' % (thresholds[ix], fscore[ix]))"
   ]
  },
  {
   "cell_type": "code",
   "execution_count": 3333,
   "metadata": {},
   "outputs": [
    {
     "data": {
      "image/png": "[encoded data removed]",
      "text/plain": [
       "<Figure size 576x396 with 1 Axes>"
      ]
     },
     "metadata": {},
     "output_type": "display_data"
    }
   ],
   "source": [
    "# plot the roc curve for the model\n",
    "no_skill = len(y_test[y_test==1]) / len(y_test)\n",
    "plt.plot([0,1], [no_skill,no_skill], linestyle='--', label='No Skill')\n",
    "plt.plot(recall, precision, marker='.', label='Logistic')\n",
    "plt.scatter(recall[ix], precision[ix], marker='o', color='black', label='Best')\n",
    "# axis labels\n",
    "plt.xlabel('Recall')\n",
    "plt.ylabel('Precision')\n",
    "plt.legend()\n",
    "# show the plot\n",
    "plt.show()"
   ]
  },
  {
   "cell_type": "code",
   "execution_count": null,
   "metadata": {},
   "outputs": [],
   "source": []
  },
  {
   "cell_type": "markdown",
   "metadata": {},
   "source": [
    "#### Threshold tuning"
   ]
  },
  {
   "cell_type": "code",
   "execution_count": 3339,
   "metadata": {},
   "outputs": [
    {
     "name": "stdout",
     "output_type": "stream",
     "text": [
      "Threshold=0.661, F-Score=0.49241\n"
     ]
    }
   ],
   "source": [
    "# apply threshold to positive probabilities to create labels\n",
    "def to_labels(pos_probs, threshold):\n",
    "\treturn (pos_probs >= threshold).astype('int')\n",
    "\n",
    "# define thresholds\n",
    "thresholds = np.arange(0, 1, 0.001)\n",
    "# evaluate each threshold\n",
    "scores = [f1_score(y_test, to_labels(y_pred_prob, t)) for t in thresholds]\n",
    "# get best threshold\n",
    "ix = np.argmax(scores)\n",
    "print('Threshold=%.3f, F-Score=%.5f' % (thresholds[ix], scores[ix]))"
   ]
  },
  {
   "cell_type": "code",
   "execution_count": null,
   "metadata": {},
   "outputs": [],
   "source": [
    "#cv_scores=cross_val_score(new_log, X,y,cv=5, scoring='roc_auc')\n",
    "# c_space = np.logspace(-5, 8, 15)\n",
    "# param_grid = {'C': c_space}\n",
    "# logreg_cv = GridSearchCV(logreg, param_grid, cv=5)\n",
    "# logreg_cv.fit(X, y)\n",
    "# print(\"Tuned Logistic Regression Parameters: {}\".format(logreg_cv.best_params_)) \n",
    "# print(\"Best score is {}\".format(logreg_cv.best_score_))"
   ]
  },
  {
   "cell_type": "code",
   "execution_count": null,
   "metadata": {},
   "outputs": [],
   "source": []
  },
  {
   "cell_type": "markdown",
   "metadata": {},
   "source": [
    "### Decision Tree"
   ]
  },
  {
   "cell_type": "code",
   "execution_count": null,
   "metadata": {},
   "outputs": [],
   "source": [
    "# param_dist = {\"max_depth\": [3, None],\n",
    "#                \"max_features\": randint(1, 9),\n",
    "#               \"min_samples_leaf\": randint(1, 9),\n",
    "#                \"criterion\": [\"gini\", \"entropy\"]}\n",
    "\n",
    "# # # Instantiate a Decision Tree classifier: tree\n",
    "# tree = DecisionTreeClassifier(class_weight='balanced')\n",
    "\n",
    "# # # Instantiate the RandomizedSearchCV object: tree_cv\n",
    "# tree_cv = RandomizedSearchCV(tree, param_dist, cv=5)\n",
    "\n",
    "# # # Fit it to the data\n",
    "# tree_cv.fit(X, y)\n",
    "\n",
    "# # # Print the tuned parameters and score\n",
    "# print(\"Tuned Decision Tree Parameters: {}\".format(tree_cv.best_params_))\n",
    "# print(\"Best score is {}\".format(tree_cv.best_score_))\n"
   ]
  },
  {
   "cell_type": "markdown",
   "metadata": {},
   "source": [
    "### KNN"
   ]
  },
  {
   "cell_type": "code",
   "execution_count": null,
   "metadata": {},
   "outputs": [],
   "source": [
    "# knn=KNeighborsClassifier(n_neighbors=4)\n",
    "# knn.fit(X_train, y_train)"
   ]
  },
  {
   "cell_type": "code",
   "execution_count": null,
   "metadata": {},
   "outputs": [],
   "source": [
    "#prediction=knn.predict(X_test)\n",
    "#knn.score(X_test, y_test)"
   ]
  },
  {
   "cell_type": "code",
   "execution_count": null,
   "metadata": {},
   "outputs": [],
   "source": [
    "#the default score is R^2\n",
    "# cv_scores = cross_val_score(knn, X_train, y_train, cv=5)\n",
    "# cv_scores\n",
    "# np.mean(cv_scores)"
   ]
  },
  {
   "cell_type": "code",
   "execution_count": null,
   "metadata": {},
   "outputs": [],
   "source": [
    "# steps = [('scaler', StandardScaler()),\n",
    "#         ('knn', KNeighborsClassifier())]\n",
    "# pipeline = Pipeline(steps)\n",
    "# knn_scaled = pipeline.fit(X_train,y_train)\n",
    "# knn_unscaled = KNeighborsClassifier().fit(X_train, y_train)\n",
    "# print('Accuracy with Scaling: {}'.format(pipeline.score(X_test,y_test)))\n",
    "# print('Accuracy without Scaling: {}'.format(knn_unscaled.score(X_test,y_test)))"
   ]
  },
  {
   "cell_type": "code",
   "execution_count": null,
   "metadata": {},
   "outputs": [],
   "source": []
  },
  {
   "cell_type": "markdown",
   "metadata": {},
   "source": [
    "### SVC"
   ]
  },
  {
   "cell_type": "code",
   "execution_count": null,
   "metadata": {},
   "outputs": [],
   "source": [
    "#cls=SVC()"
   ]
  },
  {
   "cell_type": "code",
   "execution_count": null,
   "metadata": {},
   "outputs": [],
   "source": [
    "#cls.fit(X_train, y_train)"
   ]
  },
  {
   "cell_type": "code",
   "execution_count": null,
   "metadata": {},
   "outputs": [],
   "source": [
    "#cls.predict(X_test)\n",
    "#cls.score(X_test,y_test)"
   ]
  },
  {
   "cell_type": "code",
   "execution_count": null,
   "metadata": {},
   "outputs": [],
   "source": [
    "#np.mean(X)"
   ]
  },
  {
   "cell_type": "code",
   "execution_count": null,
   "metadata": {},
   "outputs": [],
   "source": [
    "#X_scaled=scale(X)\n",
    "#np.mean(X_scaled)"
   ]
  },
  {
   "cell_type": "code",
   "execution_count": null,
   "metadata": {},
   "outputs": [],
   "source": [
    "#np.std(X_scaled)"
   ]
  },
  {
   "cell_type": "code",
   "execution_count": null,
   "metadata": {},
   "outputs": [],
   "source": [
    "# # Setup the pipeline\n",
    "# steps = [('scaler', StandardScaler()),\n",
    "#          ('SVM', SVC())]\n",
    "\n",
    "# pipeline = Pipeline(steps)\n",
    "\n",
    "# # Specify the hyperparameter space\n",
    "# parameters = {'SVM__C':[1, 10, 100],\n",
    "#               'SVM__gamma':[0.1, 0.01]}\n",
    "\n",
    "# # Create train and test sets\n",
    "# X_train, X_test, y_train, y_test = train_test_split(X, y, test_size=0.2, random_state=21)\n",
    "\n",
    "# # Instantiate the GridSearchCV object: cv\n",
    "# cv = GridSearchCV(pipeline, param_grid=parameters)\n",
    "\n",
    "# # Fit to the training set\n",
    "# cv.fit(X_train, y_train)\n",
    "\n",
    "# # Predict the labels of the test set: y_pred\n",
    "# y_pred = cv.predict(X_test)\n",
    "\n",
    "# # Compute and print metrics\n",
    "# print(\"Accuracy: {}\".format(cv.score(X_test, y_test)))\n",
    "# print(classification_report(y_test, y_pred))\n",
    "# print(\"Tuned Model Parameters: {}\".format(cv.best_params_))"
   ]
  },
  {
   "cell_type": "code",
   "execution_count": null,
   "metadata": {},
   "outputs": [],
   "source": [
    "#### Notes\n",
    "\n",
    "# lasso = Lasso(alpha=0.001, normalize=True)\n",
    "# lasso_coef = lasso.fit(X,y).coef_\n",
    "# lasso_coef\n",
    "\n",
    "# X_columns=X.columns\n",
    "# X_columns\n",
    "\n",
    "# Plot the coefficients\n",
    "# plt.plot(range(len(X_columns)), lasso_coef)\n",
    "# plt.xticks(range(len(X_columns)),X_columns, rotation=60)\n",
    "# plt.margins(0.02)\n",
    "# plt.show()\n",
    "\n",
    "# ridge=Ridge(alpha=0.1, normalize=True)\n",
    "# ridge.fit(X_train, y_train)\n",
    "# ridge.predict(X_test)\n",
    "# ridge.score(X_test,y_test)"
   ]
  }
 ],
 "metadata": {
  "anaconda-cloud": {},
  "kernelspec": {
   "display_name": "Python 3",
   "language": "python",
   "name": "python3"
  },
  "language_info": {
   "codemirror_mode": {
    "name": "ipython",
    "version": 3
   },
   "file_extension": ".py",
   "mimetype": "text/x-python",
   "name": "python",
   "nbconvert_exporter": "python",
   "pygments_lexer": "ipython3",
   "version": "3.7.6"
  }
 },
 "nbformat": 4,
 "nbformat_minor": 1
}
