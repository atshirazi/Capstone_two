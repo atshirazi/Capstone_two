{
 "cells": [
  {
   "cell_type": "code",
   "execution_count": 1937,
   "metadata": {},
   "outputs": [],
   "source": [
    "import pandas as pd\n",
    "import os\n",
    "import numpy as np\n",
    "import datetime as dt\n",
    "import seaborn as sns\n",
    "import matplotlib.pyplot as plt\n",
    "import pandas_profiling\n",
    "from pandas_profiling.utils.cache import cache_file\n",
    "import matplotlib.pyplot as plt\n",
    "from sklearn.linear_model import LogisticRegression\n",
    "from sklearn.metrics import confusion_matrix, classification_report\n",
    "from sklearn.model_selection import train_test_split\n",
    "from sklearn.cluster import KMeans\n",
    "from sklearn.neighbors import KNeighborsClassifier\n",
    "from sklearn.metrics import roc_curve\n",
    "from sklearn import preprocessing\n",
    "import statsmodels.api as sm\n",
    "from statsmodels.formula.api import ols\n",
    "from scipy.stats import chisquare\n",
    "#print(os.getcwd())\n",
    "path=\"/Users/atousachaharsoughshirazi/Capstone_two/data\"\n",
    "os.chdir(path)\n",
    "file=\"bank-additional-full.csv\"\n",
    "df=pd.read_csv(file, sep=';', header=0)\n"
   ]
  },
  {
   "cell_type": "markdown",
   "metadata": {},
   "source": [
    "# Data"
   ]
  },
  {
   "cell_type": "code",
   "execution_count": 1938,
   "metadata": {},
   "outputs": [
    {
     "data": {
      "text/html": [
       "<div>\n",
       "<style scoped>\n",
       "    .dataframe tbody tr th:only-of-type {\n",
       "        vertical-align: middle;\n",
       "    }\n",
       "\n",
       "    .dataframe tbody tr th {\n",
       "        vertical-align: top;\n",
       "    }\n",
       "\n",
       "    .dataframe thead th {\n",
       "        text-align: right;\n",
       "    }\n",
       "</style>\n",
       "<table border=\"1\" class=\"dataframe\">\n",
       "  <thead>\n",
       "    <tr style=\"text-align: right;\">\n",
       "      <th></th>\n",
       "      <th>age</th>\n",
       "      <th>job</th>\n",
       "      <th>marital</th>\n",
       "      <th>education</th>\n",
       "      <th>default</th>\n",
       "      <th>housing</th>\n",
       "      <th>loan</th>\n",
       "      <th>contact</th>\n",
       "      <th>month</th>\n",
       "      <th>day_of_week</th>\n",
       "      <th>...</th>\n",
       "      <th>campaign</th>\n",
       "      <th>pdays</th>\n",
       "      <th>previous</th>\n",
       "      <th>poutcome</th>\n",
       "      <th>emp.var.rate</th>\n",
       "      <th>cons.price.idx</th>\n",
       "      <th>cons.conf.idx</th>\n",
       "      <th>euribor3m</th>\n",
       "      <th>nr.employed</th>\n",
       "      <th>y</th>\n",
       "    </tr>\n",
       "  </thead>\n",
       "  <tbody>\n",
       "    <tr>\n",
       "      <th>0</th>\n",
       "      <td>56</td>\n",
       "      <td>housemaid</td>\n",
       "      <td>married</td>\n",
       "      <td>basic.4y</td>\n",
       "      <td>no</td>\n",
       "      <td>no</td>\n",
       "      <td>no</td>\n",
       "      <td>telephone</td>\n",
       "      <td>may</td>\n",
       "      <td>mon</td>\n",
       "      <td>...</td>\n",
       "      <td>1</td>\n",
       "      <td>999</td>\n",
       "      <td>0</td>\n",
       "      <td>nonexistent</td>\n",
       "      <td>1.1</td>\n",
       "      <td>93.994</td>\n",
       "      <td>-36.4</td>\n",
       "      <td>4.857</td>\n",
       "      <td>5191.0</td>\n",
       "      <td>no</td>\n",
       "    </tr>\n",
       "    <tr>\n",
       "      <th>1</th>\n",
       "      <td>57</td>\n",
       "      <td>services</td>\n",
       "      <td>married</td>\n",
       "      <td>high.school</td>\n",
       "      <td>unknown</td>\n",
       "      <td>no</td>\n",
       "      <td>no</td>\n",
       "      <td>telephone</td>\n",
       "      <td>may</td>\n",
       "      <td>mon</td>\n",
       "      <td>...</td>\n",
       "      <td>1</td>\n",
       "      <td>999</td>\n",
       "      <td>0</td>\n",
       "      <td>nonexistent</td>\n",
       "      <td>1.1</td>\n",
       "      <td>93.994</td>\n",
       "      <td>-36.4</td>\n",
       "      <td>4.857</td>\n",
       "      <td>5191.0</td>\n",
       "      <td>no</td>\n",
       "    </tr>\n",
       "    <tr>\n",
       "      <th>2</th>\n",
       "      <td>37</td>\n",
       "      <td>services</td>\n",
       "      <td>married</td>\n",
       "      <td>high.school</td>\n",
       "      <td>no</td>\n",
       "      <td>yes</td>\n",
       "      <td>no</td>\n",
       "      <td>telephone</td>\n",
       "      <td>may</td>\n",
       "      <td>mon</td>\n",
       "      <td>...</td>\n",
       "      <td>1</td>\n",
       "      <td>999</td>\n",
       "      <td>0</td>\n",
       "      <td>nonexistent</td>\n",
       "      <td>1.1</td>\n",
       "      <td>93.994</td>\n",
       "      <td>-36.4</td>\n",
       "      <td>4.857</td>\n",
       "      <td>5191.0</td>\n",
       "      <td>no</td>\n",
       "    </tr>\n",
       "    <tr>\n",
       "      <th>3</th>\n",
       "      <td>40</td>\n",
       "      <td>admin.</td>\n",
       "      <td>married</td>\n",
       "      <td>basic.6y</td>\n",
       "      <td>no</td>\n",
       "      <td>no</td>\n",
       "      <td>no</td>\n",
       "      <td>telephone</td>\n",
       "      <td>may</td>\n",
       "      <td>mon</td>\n",
       "      <td>...</td>\n",
       "      <td>1</td>\n",
       "      <td>999</td>\n",
       "      <td>0</td>\n",
       "      <td>nonexistent</td>\n",
       "      <td>1.1</td>\n",
       "      <td>93.994</td>\n",
       "      <td>-36.4</td>\n",
       "      <td>4.857</td>\n",
       "      <td>5191.0</td>\n",
       "      <td>no</td>\n",
       "    </tr>\n",
       "    <tr>\n",
       "      <th>4</th>\n",
       "      <td>56</td>\n",
       "      <td>services</td>\n",
       "      <td>married</td>\n",
       "      <td>high.school</td>\n",
       "      <td>no</td>\n",
       "      <td>no</td>\n",
       "      <td>yes</td>\n",
       "      <td>telephone</td>\n",
       "      <td>may</td>\n",
       "      <td>mon</td>\n",
       "      <td>...</td>\n",
       "      <td>1</td>\n",
       "      <td>999</td>\n",
       "      <td>0</td>\n",
       "      <td>nonexistent</td>\n",
       "      <td>1.1</td>\n",
       "      <td>93.994</td>\n",
       "      <td>-36.4</td>\n",
       "      <td>4.857</td>\n",
       "      <td>5191.0</td>\n",
       "      <td>no</td>\n",
       "    </tr>\n",
       "  </tbody>\n",
       "</table>\n",
       "<p>5 rows × 21 columns</p>\n",
       "</div>"
      ],
      "text/plain": [
       "   age        job  marital    education  default housing loan    contact  \\\n",
       "0   56  housemaid  married     basic.4y       no      no   no  telephone   \n",
       "1   57   services  married  high.school  unknown      no   no  telephone   \n",
       "2   37   services  married  high.school       no     yes   no  telephone   \n",
       "3   40     admin.  married     basic.6y       no      no   no  telephone   \n",
       "4   56   services  married  high.school       no      no  yes  telephone   \n",
       "\n",
       "  month day_of_week  ...  campaign  pdays  previous     poutcome emp.var.rate  \\\n",
       "0   may         mon  ...         1    999         0  nonexistent          1.1   \n",
       "1   may         mon  ...         1    999         0  nonexistent          1.1   \n",
       "2   may         mon  ...         1    999         0  nonexistent          1.1   \n",
       "3   may         mon  ...         1    999         0  nonexistent          1.1   \n",
       "4   may         mon  ...         1    999         0  nonexistent          1.1   \n",
       "\n",
       "   cons.price.idx  cons.conf.idx  euribor3m  nr.employed   y  \n",
       "0          93.994          -36.4      4.857       5191.0  no  \n",
       "1          93.994          -36.4      4.857       5191.0  no  \n",
       "2          93.994          -36.4      4.857       5191.0  no  \n",
       "3          93.994          -36.4      4.857       5191.0  no  \n",
       "4          93.994          -36.4      4.857       5191.0  no  \n",
       "\n",
       "[5 rows x 21 columns]"
      ]
     },
     "execution_count": 1938,
     "metadata": {},
     "output_type": "execute_result"
    }
   ],
   "source": [
    "df.head()"
   ]
  },
  {
   "cell_type": "code",
   "execution_count": 1939,
   "metadata": {},
   "outputs": [
    {
     "data": {
      "text/plain": [
       "(41188, 21)"
      ]
     },
     "execution_count": 1939,
     "metadata": {},
     "output_type": "execute_result"
    }
   ],
   "source": [
    "df.shape"
   ]
  },
  {
   "cell_type": "code",
   "execution_count": 1940,
   "metadata": {},
   "outputs": [
    {
     "data": {
      "text/plain": [
       "Index(['age', 'job', 'marital', 'education', 'default', 'housing', 'loan',\n",
       "       'contact', 'month', 'day_of_week', 'duration', 'campaign', 'pdays',\n",
       "       'previous', 'poutcome', 'emp.var.rate', 'cons.price.idx',\n",
       "       'cons.conf.idx', 'euribor3m', 'nr.employed', 'y'],\n",
       "      dtype='object')"
      ]
     },
     "execution_count": 1940,
     "metadata": {},
     "output_type": "execute_result"
    }
   ],
   "source": [
    "df.columns"
   ]
  },
  {
   "cell_type": "code",
   "execution_count": 1941,
   "metadata": {},
   "outputs": [
    {
     "name": "stdout",
     "output_type": "stream",
     "text": [
      "<class 'pandas.core.frame.DataFrame'>\n",
      "RangeIndex: 41188 entries, 0 to 41187\n",
      "Data columns (total 21 columns):\n",
      " #   Column          Non-Null Count  Dtype  \n",
      "---  ------          --------------  -----  \n",
      " 0   age             41188 non-null  int64  \n",
      " 1   job             41188 non-null  object \n",
      " 2   marital         41188 non-null  object \n",
      " 3   education       41188 non-null  object \n",
      " 4   default         41188 non-null  object \n",
      " 5   housing         41188 non-null  object \n",
      " 6   loan            41188 non-null  object \n",
      " 7   contact         41188 non-null  object \n",
      " 8   month           41188 non-null  object \n",
      " 9   day_of_week     41188 non-null  object \n",
      " 10  duration        41188 non-null  int64  \n",
      " 11  campaign        41188 non-null  int64  \n",
      " 12  pdays           41188 non-null  int64  \n",
      " 13  previous        41188 non-null  int64  \n",
      " 14  poutcome        41188 non-null  object \n",
      " 15  emp.var.rate    41188 non-null  float64\n",
      " 16  cons.price.idx  41188 non-null  float64\n",
      " 17  cons.conf.idx   41188 non-null  float64\n",
      " 18  euribor3m       41188 non-null  float64\n",
      " 19  nr.employed     41188 non-null  float64\n",
      " 20  y               41188 non-null  object \n",
      "dtypes: float64(5), int64(5), object(11)\n",
      "memory usage: 6.6+ MB\n"
     ]
    }
   ],
   "source": [
    "#There is no null value in the data set but some are 'unknown'\n",
    "df.info()"
   ]
  },
  {
   "cell_type": "code",
   "execution_count": 1942,
   "metadata": {},
   "outputs": [],
   "source": [
    "#convert integers to float (for regression?)\n",
    "df['age']=df['age'].astype(float)\n",
    "df['previous']=df['previous'].astype(float)\n",
    "df['duration']=df['duration'].astype(float)\n",
    "df['campaign']=df['campaign'].astype(float)\n",
    "df['pdays']=df['pdays'].astype(float)\n"
   ]
  },
  {
   "cell_type": "code",
   "execution_count": 1943,
   "metadata": {},
   "outputs": [
    {
     "name": "stdout",
     "output_type": "stream",
     "text": [
      "age 78\n",
      "job 12\n",
      "marital 4\n",
      "education 8\n",
      "default 3\n",
      "housing 3\n",
      "loan 3\n",
      "contact 2\n",
      "month 10\n",
      "day_of_week 5\n",
      "duration 1544\n",
      "campaign 42\n",
      "pdays 27\n",
      "previous 8\n",
      "poutcome 3\n",
      "emp.var.rate 10\n",
      "cons.price.idx 26\n",
      "cons.conf.idx 26\n",
      "euribor3m 316\n",
      "nr.employed 11\n",
      "y 2\n"
     ]
    }
   ],
   "source": [
    "#number of unique values in each column\n",
    "column_list = df.columns.values.tolist()\n",
    "for column_name in column_list:\n",
    "    print(column_name, df[column_name].nunique())"
   ]
  },
  {
   "cell_type": "code",
   "execution_count": 1944,
   "metadata": {},
   "outputs": [
    {
     "name": "stdout",
     "output_type": "stream",
     "text": [
      "age : \n",
      " 31.0    1947\n",
      "32.0    1846\n",
      "33.0    1833\n",
      "36.0    1780\n",
      "35.0    1759\n",
      "        ... \n",
      "91.0       2\n",
      "89.0       2\n",
      "87.0       1\n",
      "95.0       1\n",
      "94.0       1\n",
      "Name: age, Length: 78, dtype: int64\n",
      "job : \n",
      " admin.           10422\n",
      "blue-collar       9254\n",
      "technician        6743\n",
      "services          3969\n",
      "management        2924\n",
      "retired           1720\n",
      "entrepreneur      1456\n",
      "self-employed     1421\n",
      "housemaid         1060\n",
      "unemployed        1014\n",
      "student            875\n",
      "unknown            330\n",
      "Name: job, dtype: int64\n",
      "marital : \n",
      " married     24928\n",
      "single      11568\n",
      "divorced     4612\n",
      "unknown        80\n",
      "Name: marital, dtype: int64\n",
      "education : \n",
      " university.degree      12168\n",
      "high.school             9515\n",
      "basic.9y                6045\n",
      "professional.course     5243\n",
      "basic.4y                4176\n",
      "basic.6y                2292\n",
      "unknown                 1731\n",
      "illiterate                18\n",
      "Name: education, dtype: int64\n",
      "default : \n",
      " no         32588\n",
      "unknown     8597\n",
      "yes            3\n",
      "Name: default, dtype: int64\n",
      "housing : \n",
      " yes        21576\n",
      "no         18622\n",
      "unknown      990\n",
      "Name: housing, dtype: int64\n",
      "loan : \n",
      " no         33950\n",
      "yes         6248\n",
      "unknown      990\n",
      "Name: loan, dtype: int64\n",
      "contact : \n",
      " cellular     26144\n",
      "telephone    15044\n",
      "Name: contact, dtype: int64\n",
      "month : \n",
      " may    13769\n",
      "jul     7174\n",
      "aug     6178\n",
      "jun     5318\n",
      "nov     4101\n",
      "apr     2632\n",
      "oct      718\n",
      "sep      570\n",
      "mar      546\n",
      "dec      182\n",
      "Name: month, dtype: int64\n",
      "day_of_week : \n",
      " thu    8623\n",
      "mon    8514\n",
      "wed    8134\n",
      "tue    8090\n",
      "fri    7827\n",
      "Name: day_of_week, dtype: int64\n",
      "duration : \n",
      " 90.0      170\n",
      "85.0      170\n",
      "136.0     168\n",
      "73.0      167\n",
      "124.0     164\n",
      "         ... \n",
      "1606.0      1\n",
      "1342.0      1\n",
      "1555.0      1\n",
      "1569.0      1\n",
      "1816.0      1\n",
      "Name: duration, Length: 1544, dtype: int64\n",
      "campaign : \n",
      " 1.0     17642\n",
      "2.0     10570\n",
      "3.0      5341\n",
      "4.0      2651\n",
      "5.0      1599\n",
      "6.0       979\n",
      "7.0       629\n",
      "8.0       400\n",
      "9.0       283\n",
      "10.0      225\n",
      "11.0      177\n",
      "12.0      125\n",
      "13.0       92\n",
      "14.0       69\n",
      "17.0       58\n",
      "16.0       51\n",
      "15.0       51\n",
      "18.0       33\n",
      "20.0       30\n",
      "19.0       26\n",
      "21.0       24\n",
      "22.0       17\n",
      "23.0       16\n",
      "24.0       15\n",
      "27.0       11\n",
      "29.0       10\n",
      "25.0        8\n",
      "26.0        8\n",
      "28.0        8\n",
      "31.0        7\n",
      "30.0        7\n",
      "35.0        5\n",
      "33.0        4\n",
      "32.0        4\n",
      "34.0        3\n",
      "43.0        2\n",
      "42.0        2\n",
      "40.0        2\n",
      "41.0        1\n",
      "39.0        1\n",
      "56.0        1\n",
      "37.0        1\n",
      "Name: campaign, dtype: int64\n",
      "pdays : \n",
      " 999.0    39673\n",
      "3.0        439\n",
      "6.0        412\n",
      "4.0        118\n",
      "9.0         64\n",
      "2.0         61\n",
      "7.0         60\n",
      "12.0        58\n",
      "10.0        52\n",
      "5.0         46\n",
      "13.0        36\n",
      "11.0        28\n",
      "1.0         26\n",
      "15.0        24\n",
      "14.0        20\n",
      "8.0         18\n",
      "0.0         15\n",
      "16.0        11\n",
      "17.0         8\n",
      "18.0         7\n",
      "19.0         3\n",
      "22.0         3\n",
      "21.0         2\n",
      "27.0         1\n",
      "25.0         1\n",
      "20.0         1\n",
      "26.0         1\n",
      "Name: pdays, dtype: int64\n",
      "previous : \n",
      " 0.0    35563\n",
      "1.0     4561\n",
      "2.0      754\n",
      "3.0      216\n",
      "4.0       70\n",
      "5.0       18\n",
      "6.0        5\n",
      "7.0        1\n",
      "Name: previous, dtype: int64\n",
      "poutcome : \n",
      " nonexistent    35563\n",
      "failure         4252\n",
      "success         1373\n",
      "Name: poutcome, dtype: int64\n",
      "emp.var.rate : \n",
      "  1.4    16234\n",
      "-1.8     9184\n",
      " 1.1     7763\n",
      "-0.1     3683\n",
      "-2.9     1663\n",
      "-3.4     1071\n",
      "-1.7      773\n",
      "-1.1      635\n",
      "-3.0      172\n",
      "-0.2       10\n",
      "Name: emp.var.rate, dtype: int64\n",
      "cons.price.idx : \n",
      " 93.994    7763\n",
      "93.918    6685\n",
      "92.893    5794\n",
      "93.444    5175\n",
      "94.465    4374\n",
      "93.200    3616\n",
      "93.075    2458\n",
      "92.201     770\n",
      "92.963     715\n",
      "92.431     447\n",
      "92.649     357\n",
      "94.215     311\n",
      "94.199     303\n",
      "92.843     282\n",
      "92.379     267\n",
      "93.369     264\n",
      "94.027     233\n",
      "94.055     229\n",
      "93.876     212\n",
      "94.601     204\n",
      "92.469     178\n",
      "93.749     174\n",
      "92.713     172\n",
      "94.767     128\n",
      "93.798      67\n",
      "92.756      10\n",
      "Name: cons.price.idx, dtype: int64\n",
      "cons.conf.idx : \n",
      " -36.4    7763\n",
      "-42.7    6685\n",
      "-46.2    5794\n",
      "-36.1    5175\n",
      "-41.8    4374\n",
      "-42.0    3616\n",
      "-47.1    2458\n",
      "-31.4     770\n",
      "-40.8     715\n",
      "-26.9     447\n",
      "-30.1     357\n",
      "-40.3     311\n",
      "-37.5     303\n",
      "-50.0     282\n",
      "-29.8     267\n",
      "-34.8     264\n",
      "-38.3     233\n",
      "-39.8     229\n",
      "-40.0     212\n",
      "-49.5     204\n",
      "-33.6     178\n",
      "-34.6     174\n",
      "-33.0     172\n",
      "-50.8     128\n",
      "-40.4      67\n",
      "-45.9      10\n",
      "Name: cons.conf.idx, dtype: int64\n",
      "euribor3m : \n",
      " 4.857    2868\n",
      "4.962    2613\n",
      "4.963    2487\n",
      "4.961    1902\n",
      "4.856    1210\n",
      "         ... \n",
      "1.045       1\n",
      "0.956       1\n",
      "0.933       1\n",
      "3.282       1\n",
      "0.996       1\n",
      "Name: euribor3m, Length: 316, dtype: int64\n",
      "nr.employed : \n",
      " 5228.1    16234\n",
      "5099.1     8534\n",
      "5191.0     7763\n",
      "5195.8     3683\n",
      "5076.2     1663\n",
      "5017.5     1071\n",
      "4991.6      773\n",
      "5008.7      650\n",
      "4963.6      635\n",
      "5023.5      172\n",
      "5176.3       10\n",
      "Name: nr.employed, dtype: int64\n",
      "y : \n",
      " no     36548\n",
      "yes     4640\n",
      "Name: y, dtype: int64\n"
     ]
    }
   ],
   "source": [
    "column_list = df.columns.values.tolist()\n",
    "for column_name in column_list:\n",
    "    print(column_name,': \\n', \n",
    "          df[column_name].value_counts())"
   ]
  },
  {
   "cell_type": "code",
   "execution_count": 1945,
   "metadata": {},
   "outputs": [
    {
     "data": {
      "text/plain": [
       "(41176, 21)"
      ]
     },
     "execution_count": 1945,
     "metadata": {},
     "output_type": "execute_result"
    }
   ],
   "source": [
    "#There are 12 duplicate rows as can be seen from the analysis below and the profile report.\n",
    "duplicateRowsDF = df[df.duplicated(keep=False)]\n",
    "duplicateRowsDF\n",
    "df=df.drop_duplicates(keep='first',ignore_index=True)\n",
    "df.shape"
   ]
  },
  {
   "cell_type": "code",
   "execution_count": 1946,
   "metadata": {},
   "outputs": [],
   "source": [
    "#report=df.profile_report(sort='None', html={'style':{'full_width': True}}, progress_bar=False)\n",
    "#report"
   ]
  },
  {
   "cell_type": "markdown",
   "metadata": {},
   "source": [
    "## Data exploration report\n",
    "### Column descriptions: \n",
    "\n",
    "Client info:\n",
    "\n",
    "\n",
    " 1. age (numeric)\n",
    " 2. job : type of job (categorical: 'admin.','blue collar', 'entrepreneur',  'housemaid', 'management', 'retired', 'selfemployed','services','student','technician','unemployed','unknown')\n",
    " 3. marital : marital status (categorical: 'divorced','married','single','unknown'; note: 'divorced' means  divorced or widowed)\n",
    " 4. education (categorical: 'basic.4y','basic.6y','basic.9y','high.school','illiterate','professional.course', 'university.degree','unknown')\n",
    " 5. default: has credit in default? (categorical: 'no','yes','unknown')\n",
    " 6. housing: has a housing loan? (categorical: 'no','yes','unknown')\n",
    " 7. loan: has personal loan? (categorical: 'no','yes','unknown')\n",
    " \n",
    " Related with the last contact of the current campaign:\n",
    " \n",
    " 8. contact: contact communication type (categorical: 'cellular','telephone') \n",
    " 9. month: last contact month of year (categorical: 'jan', 'feb', 'mar', ..., 'nov', 'dec')\n",
    " 10. day_of_week: last contact day of the week (categorical: 'mon','tue','wed','thu','fri')\n",
    " 11. duration: last contact duration, in seconds (numeric). Important note: this attribute highly affects the output target (e.g., if duration=0 then y='no'). Yet, the duration is not known before a call is performed. Also, after the end of the call y is obviously known. Thus, this input should only be included for benchmark purposes and should be discarded if the intention is to have a realistic predictive model. I dropped it.\n",
    " \n",
    " Other attributes:\n",
    " \n",
    " \n",
    " 12. campaign: number of contacts performed during this campaign and for this client (numeric, includes last contact)\n",
    " 13. pdays: number of days that passed by after the client was last contacted from a previous campaign\n",
    "(numeric; 999 means client was not previously contacted.\n",
    " 14. previous: number of contacts performed before this campaign and for this client (numeric)\n",
    " 15. poutcome: outcome of the previous marketing campaign (categorical: 'failure','nonexistent','success')\n",
    " \n",
    " Social and economic context attributes:\n",
    " \n",
    " \n",
    " 16. emp.var.rate: employment variation rate - quarterly indicator (numeric)\n",
    " 17. cons.price.idx: consumer price index - monthly indicator (numeric) \n",
    " 18. cons.conf.idx: consumer confidence index - monthly indicator (numeric) \n",
    " 19. euribor3m: euribor 3 month rate - daily indicator (numeric)\n",
    " 20. nr.employed: number of employees - quarterly indicator (numeric)\n",
    " \n",
    " \n",
    " ### Missing values\n",
    " The result of exploring the columns with value_counts():\n",
    "\n",
    "* There is no null value in the dataset but some are 'unknown' \n",
    "* jobs: 330 are unknown\n",
    "* marital status: 80 are unknown\n",
    "* education: 1731 are unknown\n",
    "* default: 8597 are unknown. In this column there are only 3 'yes' values, the rest are either 'no' or unknown. (Drop?)\n",
    "* housing: 990 are unknown\n",
    "* loan: 990 are unknown (the same sows as the housing unknowns)\n",
    "* duration: I drop the column later. Look at the explanation above in the column description.\n",
    "* pdays: the number of days passed by after the last call. 999 means that the client was not previouly contacted and this case needs special handling. 39673 cases of 999 are present. I replaced the '999' value with '-1' to be in the range of other values(0-27).\n",
    "* There are 35563 rows where ‘previous’ is 0, meaning that the client was not previously contacted. This automatically is associated with ‘pdays’=999 and ‘poutcome’=nonexistent. I confirmed that on the data. However, there are 39673 rows that have ‘pdays’=999. That shows that there are 4110 rows with pdays=999 (meaning that the customer was not previously contacted) but all these rows have a ‘poutcome’ of failure. That means for 4110 rows the duration of the call was not recorded and they labeled them to 999 by mistake. \n",
    "* all other columns have no unknown values\n",
    "\n"
   ]
  },
  {
   "cell_type": "code",
   "execution_count": 1947,
   "metadata": {},
   "outputs": [],
   "source": [
    "df['pdays']=df['pdays'].replace(999, -1)"
   ]
  },
  {
   "cell_type": "code",
   "execution_count": 1948,
   "metadata": {},
   "outputs": [
    {
     "data": {
      "text/plain": [
       "unknown    990\n",
       "Name: loan, dtype: int64"
      ]
     },
     "execution_count": 1948,
     "metadata": {},
     "output_type": "execute_result"
    }
   ],
   "source": [
    "dft=df[df['housing']=='unknown']\n",
    "dft['loan'].value_counts()"
   ]
  },
  {
   "cell_type": "code",
   "execution_count": 1949,
   "metadata": {},
   "outputs": [
    {
     "data": {
      "text/plain": [
       "Series([], Name: previous, dtype: int64)"
      ]
     },
     "execution_count": 1949,
     "metadata": {},
     "output_type": "execute_result"
    }
   ],
   "source": [
    "dft=df[df['pdays']==999]\n",
    "dft['previous'].value_counts()"
   ]
  },
  {
   "cell_type": "markdown",
   "metadata": {},
   "source": []
  },
  {
   "cell_type": "markdown",
   "metadata": {},
   "source": [
    "### Adding the 'year' column\n",
    "\n",
    "We are trying to predict the outcome on column 'y', 'yes' means that the client subscribed to the loan and 'no' means that it didn't. According to the chart below there were more unsuccessful outcomes.\n",
    "However, this result is for the years 2008-2010 combined. In order to see the effect of the contact month or year on the outcome we need to groupby the outcomes for each year and/or month. Thus, I need to add a 'year' column with values 2008, 2009 and 2010 for appropriate rows.\n",
    "\n",
    "* Year 2008 starts on May (beginning of the dataset row 0) and ends on December.\n",
    "* Year 2009 starts on March and ends on December.\n",
    "* Year 2010 starts on March and ends on November(the last row of the dataset).\n",
    "\n",
    "In the box below I find the ending index for each month. \n",
    "For the purpose of adding a 'year' column I only need to know which row December ends but it was interesting to find\n",
    "the ending index for each month."
   ]
  },
  {
   "cell_type": "code",
   "execution_count": 1950,
   "metadata": {},
   "outputs": [
    {
     "name": "stdout",
     "output_type": "stream",
     "text": [
      "may [7761, 30421, 36213, 39556]\n",
      "jun [12135, 36214, 36928, 39768]\n",
      "jul [18816, 36929, 37105, 39997]\n",
      "aug [23989, 37106, 37875, 40308]\n",
      "oct [24056, 38143, 38588, 40844]\n",
      "nov [27671, 38589, 38945, 41048]\n",
      "dec [27681, 38946]\n",
      "mar [27963, 39118]\n",
      "apr [30420, 39382]\n",
      "sep [38142, 40541]\n"
     ]
    }
   ],
   "source": [
    "month=list(df.month.unique())\n",
    "for i in month:\n",
    "    i_index=df[df['month']==i].index\n",
    "    i_startindex=[]\n",
    "    for j in range(len(i_index)-1):\n",
    "        if (i_index[j+1]-i_index[j])>1:\n",
    "            i_startindex.append(i_index[j])\n",
    "            i_startindex.append(i_index[j+1])\n",
    "       \n",
    "    print(i, i_startindex)\n",
    "    "
   ]
  },
  {
   "cell_type": "markdown",
   "metadata": {},
   "source": [
    "In order to add a 'year' column, I first added a column with values equal to 'month', then replaced them with proper values for the year. \n",
    "There may be a better way to do this, I will check out other ways to add a column!\n",
    "Some months are missing for example year 2008 does not have any contacts for months of Jan-Apr and Sep. Year 2009 has contacts for March-December months, and year 2010 has March-November. By checking the head of the dataframe we can see that the 'year' has been added.\n"
   ]
  },
  {
   "cell_type": "code",
   "execution_count": 1951,
   "metadata": {},
   "outputs": [
    {
     "data": {
      "text/html": [
       "<div>\n",
       "<style scoped>\n",
       "    .dataframe tbody tr th:only-of-type {\n",
       "        vertical-align: middle;\n",
       "    }\n",
       "\n",
       "    .dataframe tbody tr th {\n",
       "        vertical-align: top;\n",
       "    }\n",
       "\n",
       "    .dataframe thead th {\n",
       "        text-align: right;\n",
       "    }\n",
       "</style>\n",
       "<table border=\"1\" class=\"dataframe\">\n",
       "  <thead>\n",
       "    <tr style=\"text-align: right;\">\n",
       "      <th></th>\n",
       "      <th>age</th>\n",
       "      <th>job</th>\n",
       "      <th>marital</th>\n",
       "      <th>education</th>\n",
       "      <th>default</th>\n",
       "      <th>housing</th>\n",
       "      <th>loan</th>\n",
       "      <th>contact</th>\n",
       "      <th>month</th>\n",
       "      <th>day_of_week</th>\n",
       "      <th>...</th>\n",
       "      <th>pdays</th>\n",
       "      <th>previous</th>\n",
       "      <th>poutcome</th>\n",
       "      <th>emp.var.rate</th>\n",
       "      <th>cons.price.idx</th>\n",
       "      <th>cons.conf.idx</th>\n",
       "      <th>euribor3m</th>\n",
       "      <th>nr.employed</th>\n",
       "      <th>y</th>\n",
       "      <th>year</th>\n",
       "    </tr>\n",
       "  </thead>\n",
       "  <tbody>\n",
       "    <tr>\n",
       "      <th>0</th>\n",
       "      <td>56.0</td>\n",
       "      <td>housemaid</td>\n",
       "      <td>married</td>\n",
       "      <td>basic.4y</td>\n",
       "      <td>no</td>\n",
       "      <td>no</td>\n",
       "      <td>no</td>\n",
       "      <td>telephone</td>\n",
       "      <td>may</td>\n",
       "      <td>mon</td>\n",
       "      <td>...</td>\n",
       "      <td>-1.0</td>\n",
       "      <td>0.0</td>\n",
       "      <td>nonexistent</td>\n",
       "      <td>1.1</td>\n",
       "      <td>93.994</td>\n",
       "      <td>-36.4</td>\n",
       "      <td>4.857</td>\n",
       "      <td>5191.0</td>\n",
       "      <td>no</td>\n",
       "      <td>2008</td>\n",
       "    </tr>\n",
       "    <tr>\n",
       "      <th>1</th>\n",
       "      <td>57.0</td>\n",
       "      <td>services</td>\n",
       "      <td>married</td>\n",
       "      <td>high.school</td>\n",
       "      <td>unknown</td>\n",
       "      <td>no</td>\n",
       "      <td>no</td>\n",
       "      <td>telephone</td>\n",
       "      <td>may</td>\n",
       "      <td>mon</td>\n",
       "      <td>...</td>\n",
       "      <td>-1.0</td>\n",
       "      <td>0.0</td>\n",
       "      <td>nonexistent</td>\n",
       "      <td>1.1</td>\n",
       "      <td>93.994</td>\n",
       "      <td>-36.4</td>\n",
       "      <td>4.857</td>\n",
       "      <td>5191.0</td>\n",
       "      <td>no</td>\n",
       "      <td>2008</td>\n",
       "    </tr>\n",
       "    <tr>\n",
       "      <th>2</th>\n",
       "      <td>37.0</td>\n",
       "      <td>services</td>\n",
       "      <td>married</td>\n",
       "      <td>high.school</td>\n",
       "      <td>no</td>\n",
       "      <td>yes</td>\n",
       "      <td>no</td>\n",
       "      <td>telephone</td>\n",
       "      <td>may</td>\n",
       "      <td>mon</td>\n",
       "      <td>...</td>\n",
       "      <td>-1.0</td>\n",
       "      <td>0.0</td>\n",
       "      <td>nonexistent</td>\n",
       "      <td>1.1</td>\n",
       "      <td>93.994</td>\n",
       "      <td>-36.4</td>\n",
       "      <td>4.857</td>\n",
       "      <td>5191.0</td>\n",
       "      <td>no</td>\n",
       "      <td>2008</td>\n",
       "    </tr>\n",
       "    <tr>\n",
       "      <th>3</th>\n",
       "      <td>40.0</td>\n",
       "      <td>admin.</td>\n",
       "      <td>married</td>\n",
       "      <td>basic.6y</td>\n",
       "      <td>no</td>\n",
       "      <td>no</td>\n",
       "      <td>no</td>\n",
       "      <td>telephone</td>\n",
       "      <td>may</td>\n",
       "      <td>mon</td>\n",
       "      <td>...</td>\n",
       "      <td>-1.0</td>\n",
       "      <td>0.0</td>\n",
       "      <td>nonexistent</td>\n",
       "      <td>1.1</td>\n",
       "      <td>93.994</td>\n",
       "      <td>-36.4</td>\n",
       "      <td>4.857</td>\n",
       "      <td>5191.0</td>\n",
       "      <td>no</td>\n",
       "      <td>2008</td>\n",
       "    </tr>\n",
       "    <tr>\n",
       "      <th>4</th>\n",
       "      <td>56.0</td>\n",
       "      <td>services</td>\n",
       "      <td>married</td>\n",
       "      <td>high.school</td>\n",
       "      <td>no</td>\n",
       "      <td>no</td>\n",
       "      <td>yes</td>\n",
       "      <td>telephone</td>\n",
       "      <td>may</td>\n",
       "      <td>mon</td>\n",
       "      <td>...</td>\n",
       "      <td>-1.0</td>\n",
       "      <td>0.0</td>\n",
       "      <td>nonexistent</td>\n",
       "      <td>1.1</td>\n",
       "      <td>93.994</td>\n",
       "      <td>-36.4</td>\n",
       "      <td>4.857</td>\n",
       "      <td>5191.0</td>\n",
       "      <td>no</td>\n",
       "      <td>2008</td>\n",
       "    </tr>\n",
       "    <tr>\n",
       "      <th>...</th>\n",
       "      <td>...</td>\n",
       "      <td>...</td>\n",
       "      <td>...</td>\n",
       "      <td>...</td>\n",
       "      <td>...</td>\n",
       "      <td>...</td>\n",
       "      <td>...</td>\n",
       "      <td>...</td>\n",
       "      <td>...</td>\n",
       "      <td>...</td>\n",
       "      <td>...</td>\n",
       "      <td>...</td>\n",
       "      <td>...</td>\n",
       "      <td>...</td>\n",
       "      <td>...</td>\n",
       "      <td>...</td>\n",
       "      <td>...</td>\n",
       "      <td>...</td>\n",
       "      <td>...</td>\n",
       "      <td>...</td>\n",
       "      <td>...</td>\n",
       "    </tr>\n",
       "    <tr>\n",
       "      <th>41166</th>\n",
       "      <td>62.0</td>\n",
       "      <td>retired</td>\n",
       "      <td>married</td>\n",
       "      <td>university.degree</td>\n",
       "      <td>no</td>\n",
       "      <td>no</td>\n",
       "      <td>no</td>\n",
       "      <td>cellular</td>\n",
       "      <td>nov</td>\n",
       "      <td>thu</td>\n",
       "      <td>...</td>\n",
       "      <td>6.0</td>\n",
       "      <td>3.0</td>\n",
       "      <td>success</td>\n",
       "      <td>-1.1</td>\n",
       "      <td>94.767</td>\n",
       "      <td>-50.8</td>\n",
       "      <td>1.031</td>\n",
       "      <td>4963.6</td>\n",
       "      <td>yes</td>\n",
       "      <td>2010</td>\n",
       "    </tr>\n",
       "    <tr>\n",
       "      <th>41167</th>\n",
       "      <td>64.0</td>\n",
       "      <td>retired</td>\n",
       "      <td>divorced</td>\n",
       "      <td>professional.course</td>\n",
       "      <td>no</td>\n",
       "      <td>yes</td>\n",
       "      <td>no</td>\n",
       "      <td>cellular</td>\n",
       "      <td>nov</td>\n",
       "      <td>fri</td>\n",
       "      <td>...</td>\n",
       "      <td>-1.0</td>\n",
       "      <td>0.0</td>\n",
       "      <td>nonexistent</td>\n",
       "      <td>-1.1</td>\n",
       "      <td>94.767</td>\n",
       "      <td>-50.8</td>\n",
       "      <td>1.028</td>\n",
       "      <td>4963.6</td>\n",
       "      <td>no</td>\n",
       "      <td>2010</td>\n",
       "    </tr>\n",
       "    <tr>\n",
       "      <th>41168</th>\n",
       "      <td>36.0</td>\n",
       "      <td>admin.</td>\n",
       "      <td>married</td>\n",
       "      <td>university.degree</td>\n",
       "      <td>no</td>\n",
       "      <td>no</td>\n",
       "      <td>no</td>\n",
       "      <td>cellular</td>\n",
       "      <td>nov</td>\n",
       "      <td>fri</td>\n",
       "      <td>...</td>\n",
       "      <td>-1.0</td>\n",
       "      <td>0.0</td>\n",
       "      <td>nonexistent</td>\n",
       "      <td>-1.1</td>\n",
       "      <td>94.767</td>\n",
       "      <td>-50.8</td>\n",
       "      <td>1.028</td>\n",
       "      <td>4963.6</td>\n",
       "      <td>no</td>\n",
       "      <td>2010</td>\n",
       "    </tr>\n",
       "    <tr>\n",
       "      <th>41169</th>\n",
       "      <td>37.0</td>\n",
       "      <td>admin.</td>\n",
       "      <td>married</td>\n",
       "      <td>university.degree</td>\n",
       "      <td>no</td>\n",
       "      <td>yes</td>\n",
       "      <td>no</td>\n",
       "      <td>cellular</td>\n",
       "      <td>nov</td>\n",
       "      <td>fri</td>\n",
       "      <td>...</td>\n",
       "      <td>-1.0</td>\n",
       "      <td>0.0</td>\n",
       "      <td>nonexistent</td>\n",
       "      <td>-1.1</td>\n",
       "      <td>94.767</td>\n",
       "      <td>-50.8</td>\n",
       "      <td>1.028</td>\n",
       "      <td>4963.6</td>\n",
       "      <td>yes</td>\n",
       "      <td>2010</td>\n",
       "    </tr>\n",
       "    <tr>\n",
       "      <th>41170</th>\n",
       "      <td>29.0</td>\n",
       "      <td>unemployed</td>\n",
       "      <td>single</td>\n",
       "      <td>basic.4y</td>\n",
       "      <td>no</td>\n",
       "      <td>yes</td>\n",
       "      <td>no</td>\n",
       "      <td>cellular</td>\n",
       "      <td>nov</td>\n",
       "      <td>fri</td>\n",
       "      <td>...</td>\n",
       "      <td>9.0</td>\n",
       "      <td>1.0</td>\n",
       "      <td>success</td>\n",
       "      <td>-1.1</td>\n",
       "      <td>94.767</td>\n",
       "      <td>-50.8</td>\n",
       "      <td>1.028</td>\n",
       "      <td>4963.6</td>\n",
       "      <td>no</td>\n",
       "      <td>2010</td>\n",
       "    </tr>\n",
       "  </tbody>\n",
       "</table>\n",
       "<p>41171 rows × 22 columns</p>\n",
       "</div>"
      ],
      "text/plain": [
       "        age         job   marital            education  default housing loan  \\\n",
       "0      56.0   housemaid   married             basic.4y       no      no   no   \n",
       "1      57.0    services   married          high.school  unknown      no   no   \n",
       "2      37.0    services   married          high.school       no     yes   no   \n",
       "3      40.0      admin.   married             basic.6y       no      no   no   \n",
       "4      56.0    services   married          high.school       no      no  yes   \n",
       "...     ...         ...       ...                  ...      ...     ...  ...   \n",
       "41166  62.0     retired   married    university.degree       no      no   no   \n",
       "41167  64.0     retired  divorced  professional.course       no     yes   no   \n",
       "41168  36.0      admin.   married    university.degree       no      no   no   \n",
       "41169  37.0      admin.   married    university.degree       no     yes   no   \n",
       "41170  29.0  unemployed    single             basic.4y       no     yes   no   \n",
       "\n",
       "         contact month day_of_week  ...  pdays  previous     poutcome  \\\n",
       "0      telephone   may         mon  ...   -1.0       0.0  nonexistent   \n",
       "1      telephone   may         mon  ...   -1.0       0.0  nonexistent   \n",
       "2      telephone   may         mon  ...   -1.0       0.0  nonexistent   \n",
       "3      telephone   may         mon  ...   -1.0       0.0  nonexistent   \n",
       "4      telephone   may         mon  ...   -1.0       0.0  nonexistent   \n",
       "...          ...   ...         ...  ...    ...       ...          ...   \n",
       "41166   cellular   nov         thu  ...    6.0       3.0      success   \n",
       "41167   cellular   nov         fri  ...   -1.0       0.0  nonexistent   \n",
       "41168   cellular   nov         fri  ...   -1.0       0.0  nonexistent   \n",
       "41169   cellular   nov         fri  ...   -1.0       0.0  nonexistent   \n",
       "41170   cellular   nov         fri  ...    9.0       1.0      success   \n",
       "\n",
       "       emp.var.rate cons.price.idx  cons.conf.idx  euribor3m  nr.employed  \\\n",
       "0               1.1         93.994          -36.4      4.857       5191.0   \n",
       "1               1.1         93.994          -36.4      4.857       5191.0   \n",
       "2               1.1         93.994          -36.4      4.857       5191.0   \n",
       "3               1.1         93.994          -36.4      4.857       5191.0   \n",
       "4               1.1         93.994          -36.4      4.857       5191.0   \n",
       "...             ...            ...            ...        ...          ...   \n",
       "41166          -1.1         94.767          -50.8      1.031       4963.6   \n",
       "41167          -1.1         94.767          -50.8      1.028       4963.6   \n",
       "41168          -1.1         94.767          -50.8      1.028       4963.6   \n",
       "41169          -1.1         94.767          -50.8      1.028       4963.6   \n",
       "41170          -1.1         94.767          -50.8      1.028       4963.6   \n",
       "\n",
       "         y  year  \n",
       "0       no  2008  \n",
       "1       no  2008  \n",
       "2       no  2008  \n",
       "3       no  2008  \n",
       "4       no  2008  \n",
       "...    ...   ...  \n",
       "41166  yes  2010  \n",
       "41167   no  2010  \n",
       "41168   no  2010  \n",
       "41169  yes  2010  \n",
       "41170   no  2010  \n",
       "\n",
       "[41171 rows x 22 columns]"
      ]
     },
     "execution_count": 1951,
     "metadata": {},
     "output_type": "execute_result"
    }
   ],
   "source": [
    "df['year']=df['month' ]\n",
    "\n",
    "df.iloc[0:27682,21]='2008'\n",
    "df.iloc[27682:39119, 21]='2009'\n",
    "df.iloc[39119:41176, 21]='2010'\n",
    "df.head(-5)"
   ]
  },
  {
   "cell_type": "markdown",
   "metadata": {},
   "source": [
    "We can see from the analysis below that the 'year' column is an object type. We change it to an integer."
   ]
  },
  {
   "cell_type": "code",
   "execution_count": 1952,
   "metadata": {},
   "outputs": [
    {
     "name": "stdout",
     "output_type": "stream",
     "text": [
      "<class 'pandas.core.frame.DataFrame'>\n",
      "RangeIndex: 41176 entries, 0 to 41175\n",
      "Data columns (total 22 columns):\n",
      " #   Column          Non-Null Count  Dtype  \n",
      "---  ------          --------------  -----  \n",
      " 0   age             41176 non-null  float64\n",
      " 1   job             41176 non-null  object \n",
      " 2   marital         41176 non-null  object \n",
      " 3   education       41176 non-null  object \n",
      " 4   default         41176 non-null  object \n",
      " 5   housing         41176 non-null  object \n",
      " 6   loan            41176 non-null  object \n",
      " 7   contact         41176 non-null  object \n",
      " 8   month           41176 non-null  object \n",
      " 9   day_of_week     41176 non-null  object \n",
      " 10  duration        41176 non-null  float64\n",
      " 11  campaign        41176 non-null  float64\n",
      " 12  pdays           41176 non-null  float64\n",
      " 13  previous        41176 non-null  float64\n",
      " 14  poutcome        41176 non-null  object \n",
      " 15  emp.var.rate    41176 non-null  float64\n",
      " 16  cons.price.idx  41176 non-null  float64\n",
      " 17  cons.conf.idx   41176 non-null  float64\n",
      " 18  euribor3m       41176 non-null  float64\n",
      " 19  nr.employed     41176 non-null  float64\n",
      " 20  y               41176 non-null  object \n",
      " 21  year            41176 non-null  object \n",
      "dtypes: float64(10), object(12)\n",
      "memory usage: 6.9+ MB\n"
     ]
    }
   ],
   "source": [
    "df.info()"
   ]
  },
  {
   "cell_type": "code",
   "execution_count": 1953,
   "metadata": {},
   "outputs": [
    {
     "data": {
      "text/plain": [
       "0        2008\n",
       "1        2008\n",
       "2        2008\n",
       "3        2008\n",
       "4        2008\n",
       "         ... \n",
       "41171    2010\n",
       "41172    2010\n",
       "41173    2010\n",
       "41174    2010\n",
       "41175    2010\n",
       "Name: year, Length: 41176, dtype: int64"
      ]
     },
     "execution_count": 1953,
     "metadata": {},
     "output_type": "execute_result"
    }
   ],
   "source": [
    "df.year.astype('int64')"
   ]
  },
  {
   "cell_type": "markdown",
   "metadata": {},
   "source": [
    "# EDA"
   ]
  },
  {
   "cell_type": "markdown",
   "metadata": {},
   "source": [
    "### Correlated variables"
   ]
  },
  {
   "cell_type": "code",
   "execution_count": 1954,
   "metadata": {},
   "outputs": [
    {
     "data": {
      "text/html": [
       "<style  type=\"text/css\" >\n",
       "    #T_6a2aad46_f2e3_11ea_a5de_acde48001122row0_col0 {\n",
       "            background-color:  #b40426;\n",
       "            color:  #f1f1f1;\n",
       "        }    #T_6a2aad46_f2e3_11ea_a5de_acde48001122row0_col1 {\n",
       "            background-color:  #4e68d8;\n",
       "            color:  #000000;\n",
       "        }    #T_6a2aad46_f2e3_11ea_a5de_acde48001122row0_col2 {\n",
       "            background-color:  #506bda;\n",
       "            color:  #000000;\n",
       "        }    #T_6a2aad46_f2e3_11ea_a5de_acde48001122row0_col3 {\n",
       "            background-color:  #93b5fe;\n",
       "            color:  #000000;\n",
       "        }    #T_6a2aad46_f2e3_11ea_a5de_acde48001122row0_col4 {\n",
       "            background-color:  #aec9fc;\n",
       "            color:  #000000;\n",
       "        }    #T_6a2aad46_f2e3_11ea_a5de_acde48001122row0_col5 {\n",
       "            background-color:  #9dbdff;\n",
       "            color:  #000000;\n",
       "        }    #T_6a2aad46_f2e3_11ea_a5de_acde48001122row0_col6 {\n",
       "            background-color:  #6f92f3;\n",
       "            color:  #000000;\n",
       "        }    #T_6a2aad46_f2e3_11ea_a5de_acde48001122row0_col7 {\n",
       "            background-color:  #7093f3;\n",
       "            color:  #000000;\n",
       "        }    #T_6a2aad46_f2e3_11ea_a5de_acde48001122row0_col8 {\n",
       "            background-color:  #a5c3fe;\n",
       "            color:  #000000;\n",
       "        }    #T_6a2aad46_f2e3_11ea_a5de_acde48001122row0_col9 {\n",
       "            background-color:  #a5c3fe;\n",
       "            color:  #000000;\n",
       "        }    #T_6a2aad46_f2e3_11ea_a5de_acde48001122row1_col0 {\n",
       "            background-color:  #4055c8;\n",
       "            color:  #f1f1f1;\n",
       "        }    #T_6a2aad46_f2e3_11ea_a5de_acde48001122row1_col1 {\n",
       "            background-color:  #b40426;\n",
       "            color:  #f1f1f1;\n",
       "        }    #T_6a2aad46_f2e3_11ea_a5de_acde48001122row1_col2 {\n",
       "            background-color:  #3d50c3;\n",
       "            color:  #f1f1f1;\n",
       "        }    #T_6a2aad46_f2e3_11ea_a5de_acde48001122row1_col3 {\n",
       "            background-color:  #9bbcff;\n",
       "            color:  #000000;\n",
       "        }    #T_6a2aad46_f2e3_11ea_a5de_acde48001122row1_col4 {\n",
       "            background-color:  #aec9fc;\n",
       "            color:  #000000;\n",
       "        }    #T_6a2aad46_f2e3_11ea_a5de_acde48001122row1_col5 {\n",
       "            background-color:  #96b7ff;\n",
       "            color:  #000000;\n",
       "        }    #T_6a2aad46_f2e3_11ea_a5de_acde48001122row1_col6 {\n",
       "            background-color:  #7295f4;\n",
       "            color:  #000000;\n",
       "        }    #T_6a2aad46_f2e3_11ea_a5de_acde48001122row1_col7 {\n",
       "            background-color:  #455cce;\n",
       "            color:  #f1f1f1;\n",
       "        }    #T_6a2aad46_f2e3_11ea_a5de_acde48001122row1_col8 {\n",
       "            background-color:  #9bbcff;\n",
       "            color:  #000000;\n",
       "        }    #T_6a2aad46_f2e3_11ea_a5de_acde48001122row1_col9 {\n",
       "            background-color:  #a1c0ff;\n",
       "            color:  #000000;\n",
       "        }    #T_6a2aad46_f2e3_11ea_a5de_acde48001122row2_col0 {\n",
       "            background-color:  #4055c8;\n",
       "            color:  #f1f1f1;\n",
       "        }    #T_6a2aad46_f2e3_11ea_a5de_acde48001122row2_col1 {\n",
       "            background-color:  #3b4cc0;\n",
       "            color:  #f1f1f1;\n",
       "        }    #T_6a2aad46_f2e3_11ea_a5de_acde48001122row2_col2 {\n",
       "            background-color:  #b40426;\n",
       "            color:  #f1f1f1;\n",
       "        }    #T_6a2aad46_f2e3_11ea_a5de_acde48001122row2_col3 {\n",
       "            background-color:  #84a7fc;\n",
       "            color:  #000000;\n",
       "        }    #T_6a2aad46_f2e3_11ea_a5de_acde48001122row2_col4 {\n",
       "            background-color:  #97b8ff;\n",
       "            color:  #000000;\n",
       "        }    #T_6a2aad46_f2e3_11ea_a5de_acde48001122row2_col5 {\n",
       "            background-color:  #c0d4f5;\n",
       "            color:  #000000;\n",
       "        }    #T_6a2aad46_f2e3_11ea_a5de_acde48001122row2_col6 {\n",
       "            background-color:  #96b7ff;\n",
       "            color:  #000000;\n",
       "        }    #T_6a2aad46_f2e3_11ea_a5de_acde48001122row2_col7 {\n",
       "            background-color:  #455cce;\n",
       "            color:  #f1f1f1;\n",
       "        }    #T_6a2aad46_f2e3_11ea_a5de_acde48001122row2_col8 {\n",
       "            background-color:  #c3d5f4;\n",
       "            color:  #000000;\n",
       "        }    #T_6a2aad46_f2e3_11ea_a5de_acde48001122row2_col9 {\n",
       "            background-color:  #c9d7f0;\n",
       "            color:  #000000;\n",
       "        }    #T_6a2aad46_f2e3_11ea_a5de_acde48001122row3_col0 {\n",
       "            background-color:  #465ecf;\n",
       "            color:  #f1f1f1;\n",
       "        }    #T_6a2aad46_f2e3_11ea_a5de_acde48001122row3_col1 {\n",
       "            background-color:  #5d7ce6;\n",
       "            color:  #000000;\n",
       "        }    #T_6a2aad46_f2e3_11ea_a5de_acde48001122row3_col2 {\n",
       "            background-color:  #455cce;\n",
       "            color:  #f1f1f1;\n",
       "        }    #T_6a2aad46_f2e3_11ea_a5de_acde48001122row3_col3 {\n",
       "            background-color:  #b40426;\n",
       "            color:  #f1f1f1;\n",
       "        }    #T_6a2aad46_f2e3_11ea_a5de_acde48001122row3_col4 {\n",
       "            background-color:  #f7b599;\n",
       "            color:  #000000;\n",
       "        }    #T_6a2aad46_f2e3_11ea_a5de_acde48001122row3_col5 {\n",
       "            background-color:  #6485ec;\n",
       "            color:  #000000;\n",
       "        }    #T_6a2aad46_f2e3_11ea_a5de_acde48001122row3_col6 {\n",
       "            background-color:  #6282ea;\n",
       "            color:  #000000;\n",
       "        }    #T_6a2aad46_f2e3_11ea_a5de_acde48001122row3_col7 {\n",
       "            background-color:  #5e7de7;\n",
       "            color:  #000000;\n",
       "        }    #T_6a2aad46_f2e3_11ea_a5de_acde48001122row3_col8 {\n",
       "            background-color:  #6384eb;\n",
       "            color:  #000000;\n",
       "        }    #T_6a2aad46_f2e3_11ea_a5de_acde48001122row3_col9 {\n",
       "            background-color:  #5b7ae5;\n",
       "            color:  #000000;\n",
       "        }    #T_6a2aad46_f2e3_11ea_a5de_acde48001122row4_col0 {\n",
       "            background-color:  #465ecf;\n",
       "            color:  #f1f1f1;\n",
       "        }    #T_6a2aad46_f2e3_11ea_a5de_acde48001122row4_col1 {\n",
       "            background-color:  #5470de;\n",
       "            color:  #000000;\n",
       "        }    #T_6a2aad46_f2e3_11ea_a5de_acde48001122row4_col2 {\n",
       "            background-color:  #3b4cc0;\n",
       "            color:  #f1f1f1;\n",
       "        }    #T_6a2aad46_f2e3_11ea_a5de_acde48001122row4_col3 {\n",
       "            background-color:  #f5c1a9;\n",
       "            color:  #000000;\n",
       "        }    #T_6a2aad46_f2e3_11ea_a5de_acde48001122row4_col4 {\n",
       "            background-color:  #b40426;\n",
       "            color:  #f1f1f1;\n",
       "        }    #T_6a2aad46_f2e3_11ea_a5de_acde48001122row4_col5 {\n",
       "            background-color:  #3b4cc0;\n",
       "            color:  #f1f1f1;\n",
       "        }    #T_6a2aad46_f2e3_11ea_a5de_acde48001122row4_col6 {\n",
       "            background-color:  #3b4cc0;\n",
       "            color:  #f1f1f1;\n",
       "        }    #T_6a2aad46_f2e3_11ea_a5de_acde48001122row4_col7 {\n",
       "            background-color:  #3b4cc0;\n",
       "            color:  #f1f1f1;\n",
       "        }    #T_6a2aad46_f2e3_11ea_a5de_acde48001122row4_col8 {\n",
       "            background-color:  #3b4cc0;\n",
       "            color:  #f1f1f1;\n",
       "        }    #T_6a2aad46_f2e3_11ea_a5de_acde48001122row4_col9 {\n",
       "            background-color:  #3b4cc0;\n",
       "            color:  #f1f1f1;\n",
       "        }    #T_6a2aad46_f2e3_11ea_a5de_acde48001122row5_col0 {\n",
       "            background-color:  #4055c8;\n",
       "            color:  #f1f1f1;\n",
       "        }    #T_6a2aad46_f2e3_11ea_a5de_acde48001122row5_col1 {\n",
       "            background-color:  #455cce;\n",
       "            color:  #f1f1f1;\n",
       "        }    #T_6a2aad46_f2e3_11ea_a5de_acde48001122row5_col2 {\n",
       "            background-color:  #80a3fa;\n",
       "            color:  #000000;\n",
       "        }    #T_6a2aad46_f2e3_11ea_a5de_acde48001122row5_col3 {\n",
       "            background-color:  #5470de;\n",
       "            color:  #000000;\n",
       "        }    #T_6a2aad46_f2e3_11ea_a5de_acde48001122row5_col4 {\n",
       "            background-color:  #4a63d3;\n",
       "            color:  #f1f1f1;\n",
       "        }    #T_6a2aad46_f2e3_11ea_a5de_acde48001122row5_col5 {\n",
       "            background-color:  #b40426;\n",
       "            color:  #f1f1f1;\n",
       "        }    #T_6a2aad46_f2e3_11ea_a5de_acde48001122row5_col6 {\n",
       "            background-color:  #ea7b60;\n",
       "            color:  #000000;\n",
       "        }    #T_6a2aad46_f2e3_11ea_a5de_acde48001122row5_col7 {\n",
       "            background-color:  #88abfd;\n",
       "            color:  #000000;\n",
       "        }    #T_6a2aad46_f2e3_11ea_a5de_acde48001122row5_col8 {\n",
       "            background-color:  #bb1b2c;\n",
       "            color:  #f1f1f1;\n",
       "        }    #T_6a2aad46_f2e3_11ea_a5de_acde48001122row5_col9 {\n",
       "            background-color:  #ca3b37;\n",
       "            color:  #f1f1f1;\n",
       "        }    #T_6a2aad46_f2e3_11ea_a5de_acde48001122row6_col0 {\n",
       "            background-color:  #4055c8;\n",
       "            color:  #f1f1f1;\n",
       "        }    #T_6a2aad46_f2e3_11ea_a5de_acde48001122row6_col1 {\n",
       "            background-color:  #516ddb;\n",
       "            color:  #000000;\n",
       "        }    #T_6a2aad46_f2e3_11ea_a5de_acde48001122row6_col2 {\n",
       "            background-color:  #799cf8;\n",
       "            color:  #000000;\n",
       "        }    #T_6a2aad46_f2e3_11ea_a5de_acde48001122row6_col3 {\n",
       "            background-color:  #81a4fb;\n",
       "            color:  #000000;\n",
       "        }    #T_6a2aad46_f2e3_11ea_a5de_acde48001122row6_col4 {\n",
       "            background-color:  #7b9ff9;\n",
       "            color:  #000000;\n",
       "        }    #T_6a2aad46_f2e3_11ea_a5de_acde48001122row6_col5 {\n",
       "            background-color:  #e46e56;\n",
       "            color:  #000000;\n",
       "        }    #T_6a2aad46_f2e3_11ea_a5de_acde48001122row6_col6 {\n",
       "            background-color:  #b40426;\n",
       "            color:  #f1f1f1;\n",
       "        }    #T_6a2aad46_f2e3_11ea_a5de_acde48001122row6_col7 {\n",
       "            background-color:  #5a78e4;\n",
       "            color:  #000000;\n",
       "        }    #T_6a2aad46_f2e3_11ea_a5de_acde48001122row6_col8 {\n",
       "            background-color:  #f08a6c;\n",
       "            color:  #000000;\n",
       "        }    #T_6a2aad46_f2e3_11ea_a5de_acde48001122row6_col9 {\n",
       "            background-color:  #f7b396;\n",
       "            color:  #000000;\n",
       "        }    #T_6a2aad46_f2e3_11ea_a5de_acde48001122row7_col0 {\n",
       "            background-color:  #688aef;\n",
       "            color:  #000000;\n",
       "        }    #T_6a2aad46_f2e3_11ea_a5de_acde48001122row7_col1 {\n",
       "            background-color:  #4b64d5;\n",
       "            color:  #f1f1f1;\n",
       "        }    #T_6a2aad46_f2e3_11ea_a5de_acde48001122row7_col2 {\n",
       "            background-color:  #4e68d8;\n",
       "            color:  #000000;\n",
       "        }    #T_6a2aad46_f2e3_11ea_a5de_acde48001122row7_col3 {\n",
       "            background-color:  #a1c0ff;\n",
       "            color:  #000000;\n",
       "        }    #T_6a2aad46_f2e3_11ea_a5de_acde48001122row7_col4 {\n",
       "            background-color:  #9ebeff;\n",
       "            color:  #000000;\n",
       "        }    #T_6a2aad46_f2e3_11ea_a5de_acde48001122row7_col5 {\n",
       "            background-color:  #cbd8ee;\n",
       "            color:  #000000;\n",
       "        }    #T_6a2aad46_f2e3_11ea_a5de_acde48001122row7_col6 {\n",
       "            background-color:  #81a4fb;\n",
       "            color:  #000000;\n",
       "        }    #T_6a2aad46_f2e3_11ea_a5de_acde48001122row7_col7 {\n",
       "            background-color:  #b40426;\n",
       "            color:  #f1f1f1;\n",
       "        }    #T_6a2aad46_f2e3_11ea_a5de_acde48001122row7_col8 {\n",
       "            background-color:  #dddcdc;\n",
       "            color:  #000000;\n",
       "        }    #T_6a2aad46_f2e3_11ea_a5de_acde48001122row7_col9 {\n",
       "            background-color:  #c0d4f5;\n",
       "            color:  #000000;\n",
       "        }    #T_6a2aad46_f2e3_11ea_a5de_acde48001122row8_col0 {\n",
       "            background-color:  #4358cb;\n",
       "            color:  #f1f1f1;\n",
       "        }    #T_6a2aad46_f2e3_11ea_a5de_acde48001122row8_col1 {\n",
       "            background-color:  #455cce;\n",
       "            color:  #f1f1f1;\n",
       "        }    #T_6a2aad46_f2e3_11ea_a5de_acde48001122row8_col2 {\n",
       "            background-color:  #7da0f9;\n",
       "            color:  #000000;\n",
       "        }    #T_6a2aad46_f2e3_11ea_a5de_acde48001122row8_col3 {\n",
       "            background-color:  #4c66d6;\n",
       "            color:  #000000;\n",
       "        }    #T_6a2aad46_f2e3_11ea_a5de_acde48001122row8_col4 {\n",
       "            background-color:  #445acc;\n",
       "            color:  #f1f1f1;\n",
       "        }    #T_6a2aad46_f2e3_11ea_a5de_acde48001122row8_col5 {\n",
       "            background-color:  #bb1b2c;\n",
       "            color:  #f1f1f1;\n",
       "        }    #T_6a2aad46_f2e3_11ea_a5de_acde48001122row8_col6 {\n",
       "            background-color:  #f59d7e;\n",
       "            color:  #000000;\n",
       "        }    #T_6a2aad46_f2e3_11ea_a5de_acde48001122row8_col7 {\n",
       "            background-color:  #a3c2fe;\n",
       "            color:  #000000;\n",
       "        }    #T_6a2aad46_f2e3_11ea_a5de_acde48001122row8_col8 {\n",
       "            background-color:  #b40426;\n",
       "            color:  #f1f1f1;\n",
       "        }    #T_6a2aad46_f2e3_11ea_a5de_acde48001122row8_col9 {\n",
       "            background-color:  #c0282f;\n",
       "            color:  #f1f1f1;\n",
       "        }    #T_6a2aad46_f2e3_11ea_a5de_acde48001122row9_col0 {\n",
       "            background-color:  #3b4cc0;\n",
       "            color:  #f1f1f1;\n",
       "        }    #T_6a2aad46_f2e3_11ea_a5de_acde48001122row9_col1 {\n",
       "            background-color:  #4358cb;\n",
       "            color:  #f1f1f1;\n",
       "        }    #T_6a2aad46_f2e3_11ea_a5de_acde48001122row9_col2 {\n",
       "            background-color:  #7da0f9;\n",
       "            color:  #000000;\n",
       "        }    #T_6a2aad46_f2e3_11ea_a5de_acde48001122row9_col3 {\n",
       "            background-color:  #3b4cc0;\n",
       "            color:  #f1f1f1;\n",
       "        }    #T_6a2aad46_f2e3_11ea_a5de_acde48001122row9_col4 {\n",
       "            background-color:  #3b4cc0;\n",
       "            color:  #f1f1f1;\n",
       "        }    #T_6a2aad46_f2e3_11ea_a5de_acde48001122row9_col5 {\n",
       "            background-color:  #cb3e38;\n",
       "            color:  #f1f1f1;\n",
       "        }    #T_6a2aad46_f2e3_11ea_a5de_acde48001122row9_col6 {\n",
       "            background-color:  #f2cbb7;\n",
       "            color:  #000000;\n",
       "        }    #T_6a2aad46_f2e3_11ea_a5de_acde48001122row9_col7 {\n",
       "            background-color:  #6788ee;\n",
       "            color:  #000000;\n",
       "        }    #T_6a2aad46_f2e3_11ea_a5de_acde48001122row9_col8 {\n",
       "            background-color:  #c0282f;\n",
       "            color:  #f1f1f1;\n",
       "        }    #T_6a2aad46_f2e3_11ea_a5de_acde48001122row9_col9 {\n",
       "            background-color:  #b40426;\n",
       "            color:  #f1f1f1;\n",
       "        }</style><table id=\"T_6a2aad46_f2e3_11ea_a5de_acde48001122\" ><thead>    <tr>        <th class=\"blank level0\" ></th>        <th class=\"col_heading level0 col0\" >age</th>        <th class=\"col_heading level0 col1\" >duration</th>        <th class=\"col_heading level0 col2\" >campaign</th>        <th class=\"col_heading level0 col3\" >pdays</th>        <th class=\"col_heading level0 col4\" >previous</th>        <th class=\"col_heading level0 col5\" >emp.var.rate</th>        <th class=\"col_heading level0 col6\" >cons.price.idx</th>        <th class=\"col_heading level0 col7\" >cons.conf.idx</th>        <th class=\"col_heading level0 col8\" >euribor3m</th>        <th class=\"col_heading level0 col9\" >nr.employed</th>    </tr></thead><tbody>\n",
       "                <tr>\n",
       "                        <th id=\"T_6a2aad46_f2e3_11ea_a5de_acde48001122level0_row0\" class=\"row_heading level0 row0\" >age</th>\n",
       "                        <td id=\"T_6a2aad46_f2e3_11ea_a5de_acde48001122row0_col0\" class=\"data row0 col0\" >1.000000</td>\n",
       "                        <td id=\"T_6a2aad46_f2e3_11ea_a5de_acde48001122row0_col1\" class=\"data row0 col1\" >-0.000000</td>\n",
       "                        <td id=\"T_6a2aad46_f2e3_11ea_a5de_acde48001122row0_col2\" class=\"data row0 col2\" >0.000000</td>\n",
       "                        <td id=\"T_6a2aad46_f2e3_11ea_a5de_acde48001122row0_col3\" class=\"data row0 col3\" >0.020000</td>\n",
       "                        <td id=\"T_6a2aad46_f2e3_11ea_a5de_acde48001122row0_col4\" class=\"data row0 col4\" >0.020000</td>\n",
       "                        <td id=\"T_6a2aad46_f2e3_11ea_a5de_acde48001122row0_col5\" class=\"data row0 col5\" >-0.000000</td>\n",
       "                        <td id=\"T_6a2aad46_f2e3_11ea_a5de_acde48001122row0_col6\" class=\"data row0 col6\" >0.000000</td>\n",
       "                        <td id=\"T_6a2aad46_f2e3_11ea_a5de_acde48001122row0_col7\" class=\"data row0 col7\" >0.130000</td>\n",
       "                        <td id=\"T_6a2aad46_f2e3_11ea_a5de_acde48001122row0_col8\" class=\"data row0 col8\" >0.010000</td>\n",
       "                        <td id=\"T_6a2aad46_f2e3_11ea_a5de_acde48001122row0_col9\" class=\"data row0 col9\" >-0.020000</td>\n",
       "            </tr>\n",
       "            <tr>\n",
       "                        <th id=\"T_6a2aad46_f2e3_11ea_a5de_acde48001122level0_row1\" class=\"row_heading level0 row1\" >duration</th>\n",
       "                        <td id=\"T_6a2aad46_f2e3_11ea_a5de_acde48001122row1_col0\" class=\"data row1 col0\" >-0.000000</td>\n",
       "                        <td id=\"T_6a2aad46_f2e3_11ea_a5de_acde48001122row1_col1\" class=\"data row1 col1\" >1.000000</td>\n",
       "                        <td id=\"T_6a2aad46_f2e3_11ea_a5de_acde48001122row1_col2\" class=\"data row1 col2\" >-0.070000</td>\n",
       "                        <td id=\"T_6a2aad46_f2e3_11ea_a5de_acde48001122row1_col3\" class=\"data row1 col3\" >0.050000</td>\n",
       "                        <td id=\"T_6a2aad46_f2e3_11ea_a5de_acde48001122row1_col4\" class=\"data row1 col4\" >0.020000</td>\n",
       "                        <td id=\"T_6a2aad46_f2e3_11ea_a5de_acde48001122row1_col5\" class=\"data row1 col5\" >-0.030000</td>\n",
       "                        <td id=\"T_6a2aad46_f2e3_11ea_a5de_acde48001122row1_col6\" class=\"data row1 col6\" >0.010000</td>\n",
       "                        <td id=\"T_6a2aad46_f2e3_11ea_a5de_acde48001122row1_col7\" class=\"data row1 col7\" >-0.010000</td>\n",
       "                        <td id=\"T_6a2aad46_f2e3_11ea_a5de_acde48001122row1_col8\" class=\"data row1 col8\" >-0.030000</td>\n",
       "                        <td id=\"T_6a2aad46_f2e3_11ea_a5de_acde48001122row1_col9\" class=\"data row1 col9\" >-0.040000</td>\n",
       "            </tr>\n",
       "            <tr>\n",
       "                        <th id=\"T_6a2aad46_f2e3_11ea_a5de_acde48001122level0_row2\" class=\"row_heading level0 row2\" >campaign</th>\n",
       "                        <td id=\"T_6a2aad46_f2e3_11ea_a5de_acde48001122row2_col0\" class=\"data row2 col0\" >0.000000</td>\n",
       "                        <td id=\"T_6a2aad46_f2e3_11ea_a5de_acde48001122row2_col1\" class=\"data row2 col1\" >-0.070000</td>\n",
       "                        <td id=\"T_6a2aad46_f2e3_11ea_a5de_acde48001122row2_col2\" class=\"data row2 col2\" >1.000000</td>\n",
       "                        <td id=\"T_6a2aad46_f2e3_11ea_a5de_acde48001122row2_col3\" class=\"data row2 col3\" >-0.040000</td>\n",
       "                        <td id=\"T_6a2aad46_f2e3_11ea_a5de_acde48001122row2_col4\" class=\"data row2 col4\" >-0.080000</td>\n",
       "                        <td id=\"T_6a2aad46_f2e3_11ea_a5de_acde48001122row2_col5\" class=\"data row2 col5\" >0.150000</td>\n",
       "                        <td id=\"T_6a2aad46_f2e3_11ea_a5de_acde48001122row2_col6\" class=\"data row2 col6\" >0.130000</td>\n",
       "                        <td id=\"T_6a2aad46_f2e3_11ea_a5de_acde48001122row2_col7\" class=\"data row2 col7\" >-0.010000</td>\n",
       "                        <td id=\"T_6a2aad46_f2e3_11ea_a5de_acde48001122row2_col8\" class=\"data row2 col8\" >0.140000</td>\n",
       "                        <td id=\"T_6a2aad46_f2e3_11ea_a5de_acde48001122row2_col9\" class=\"data row2 col9\" >0.140000</td>\n",
       "            </tr>\n",
       "            <tr>\n",
       "                        <th id=\"T_6a2aad46_f2e3_11ea_a5de_acde48001122level0_row3\" class=\"row_heading level0 row3\" >pdays</th>\n",
       "                        <td id=\"T_6a2aad46_f2e3_11ea_a5de_acde48001122row3_col0\" class=\"data row3 col0\" >0.020000</td>\n",
       "                        <td id=\"T_6a2aad46_f2e3_11ea_a5de_acde48001122row3_col1\" class=\"data row3 col1\" >0.050000</td>\n",
       "                        <td id=\"T_6a2aad46_f2e3_11ea_a5de_acde48001122row3_col2\" class=\"data row3 col2\" >-0.040000</td>\n",
       "                        <td id=\"T_6a2aad46_f2e3_11ea_a5de_acde48001122row3_col3\" class=\"data row3 col3\" >1.000000</td>\n",
       "                        <td id=\"T_6a2aad46_f2e3_11ea_a5de_acde48001122row3_col4\" class=\"data row3 col4\" >0.510000</td>\n",
       "                        <td id=\"T_6a2aad46_f2e3_11ea_a5de_acde48001122row3_col5\" class=\"data row3 col5\" >-0.230000</td>\n",
       "                        <td id=\"T_6a2aad46_f2e3_11ea_a5de_acde48001122row3_col6\" class=\"data row3 col6\" >-0.050000</td>\n",
       "                        <td id=\"T_6a2aad46_f2e3_11ea_a5de_acde48001122row3_col7\" class=\"data row3 col7\" >0.070000</td>\n",
       "                        <td id=\"T_6a2aad46_f2e3_11ea_a5de_acde48001122row3_col8\" class=\"data row3 col8\" >-0.260000</td>\n",
       "                        <td id=\"T_6a2aad46_f2e3_11ea_a5de_acde48001122row3_col9\" class=\"data row3 col9\" >-0.340000</td>\n",
       "            </tr>\n",
       "            <tr>\n",
       "                        <th id=\"T_6a2aad46_f2e3_11ea_a5de_acde48001122level0_row4\" class=\"row_heading level0 row4\" >previous</th>\n",
       "                        <td id=\"T_6a2aad46_f2e3_11ea_a5de_acde48001122row4_col0\" class=\"data row4 col0\" >0.020000</td>\n",
       "                        <td id=\"T_6a2aad46_f2e3_11ea_a5de_acde48001122row4_col1\" class=\"data row4 col1\" >0.020000</td>\n",
       "                        <td id=\"T_6a2aad46_f2e3_11ea_a5de_acde48001122row4_col2\" class=\"data row4 col2\" >-0.080000</td>\n",
       "                        <td id=\"T_6a2aad46_f2e3_11ea_a5de_acde48001122row4_col3\" class=\"data row4 col3\" >0.510000</td>\n",
       "                        <td id=\"T_6a2aad46_f2e3_11ea_a5de_acde48001122row4_col4\" class=\"data row4 col4\" >1.000000</td>\n",
       "                        <td id=\"T_6a2aad46_f2e3_11ea_a5de_acde48001122row4_col5\" class=\"data row4 col5\" >-0.420000</td>\n",
       "                        <td id=\"T_6a2aad46_f2e3_11ea_a5de_acde48001122row4_col6\" class=\"data row4 col6\" >-0.200000</td>\n",
       "                        <td id=\"T_6a2aad46_f2e3_11ea_a5de_acde48001122row4_col7\" class=\"data row4 col7\" >-0.050000</td>\n",
       "                        <td id=\"T_6a2aad46_f2e3_11ea_a5de_acde48001122row4_col8\" class=\"data row4 col8\" >-0.450000</td>\n",
       "                        <td id=\"T_6a2aad46_f2e3_11ea_a5de_acde48001122row4_col9\" class=\"data row4 col9\" >-0.500000</td>\n",
       "            </tr>\n",
       "            <tr>\n",
       "                        <th id=\"T_6a2aad46_f2e3_11ea_a5de_acde48001122level0_row5\" class=\"row_heading level0 row5\" >emp.var.rate</th>\n",
       "                        <td id=\"T_6a2aad46_f2e3_11ea_a5de_acde48001122row5_col0\" class=\"data row5 col0\" >-0.000000</td>\n",
       "                        <td id=\"T_6a2aad46_f2e3_11ea_a5de_acde48001122row5_col1\" class=\"data row5 col1\" >-0.030000</td>\n",
       "                        <td id=\"T_6a2aad46_f2e3_11ea_a5de_acde48001122row5_col2\" class=\"data row5 col2\" >0.150000</td>\n",
       "                        <td id=\"T_6a2aad46_f2e3_11ea_a5de_acde48001122row5_col3\" class=\"data row5 col3\" >-0.230000</td>\n",
       "                        <td id=\"T_6a2aad46_f2e3_11ea_a5de_acde48001122row5_col4\" class=\"data row5 col4\" >-0.420000</td>\n",
       "                        <td id=\"T_6a2aad46_f2e3_11ea_a5de_acde48001122row5_col5\" class=\"data row5 col5\" >1.000000</td>\n",
       "                        <td id=\"T_6a2aad46_f2e3_11ea_a5de_acde48001122row5_col6\" class=\"data row5 col6\" >0.780000</td>\n",
       "                        <td id=\"T_6a2aad46_f2e3_11ea_a5de_acde48001122row5_col7\" class=\"data row5 col7\" >0.200000</td>\n",
       "                        <td id=\"T_6a2aad46_f2e3_11ea_a5de_acde48001122row5_col8\" class=\"data row5 col8\" >0.970000</td>\n",
       "                        <td id=\"T_6a2aad46_f2e3_11ea_a5de_acde48001122row5_col9\" class=\"data row5 col9\" >0.910000</td>\n",
       "            </tr>\n",
       "            <tr>\n",
       "                        <th id=\"T_6a2aad46_f2e3_11ea_a5de_acde48001122level0_row6\" class=\"row_heading level0 row6\" >cons.price.idx</th>\n",
       "                        <td id=\"T_6a2aad46_f2e3_11ea_a5de_acde48001122row6_col0\" class=\"data row6 col0\" >0.000000</td>\n",
       "                        <td id=\"T_6a2aad46_f2e3_11ea_a5de_acde48001122row6_col1\" class=\"data row6 col1\" >0.010000</td>\n",
       "                        <td id=\"T_6a2aad46_f2e3_11ea_a5de_acde48001122row6_col2\" class=\"data row6 col2\" >0.130000</td>\n",
       "                        <td id=\"T_6a2aad46_f2e3_11ea_a5de_acde48001122row6_col3\" class=\"data row6 col3\" >-0.050000</td>\n",
       "                        <td id=\"T_6a2aad46_f2e3_11ea_a5de_acde48001122row6_col4\" class=\"data row6 col4\" >-0.200000</td>\n",
       "                        <td id=\"T_6a2aad46_f2e3_11ea_a5de_acde48001122row6_col5\" class=\"data row6 col5\" >0.780000</td>\n",
       "                        <td id=\"T_6a2aad46_f2e3_11ea_a5de_acde48001122row6_col6\" class=\"data row6 col6\" >1.000000</td>\n",
       "                        <td id=\"T_6a2aad46_f2e3_11ea_a5de_acde48001122row6_col7\" class=\"data row6 col7\" >0.060000</td>\n",
       "                        <td id=\"T_6a2aad46_f2e3_11ea_a5de_acde48001122row6_col8\" class=\"data row6 col8\" >0.690000</td>\n",
       "                        <td id=\"T_6a2aad46_f2e3_11ea_a5de_acde48001122row6_col9\" class=\"data row6 col9\" >0.520000</td>\n",
       "            </tr>\n",
       "            <tr>\n",
       "                        <th id=\"T_6a2aad46_f2e3_11ea_a5de_acde48001122level0_row7\" class=\"row_heading level0 row7\" >cons.conf.idx</th>\n",
       "                        <td id=\"T_6a2aad46_f2e3_11ea_a5de_acde48001122row7_col0\" class=\"data row7 col0\" >0.130000</td>\n",
       "                        <td id=\"T_6a2aad46_f2e3_11ea_a5de_acde48001122row7_col1\" class=\"data row7 col1\" >-0.010000</td>\n",
       "                        <td id=\"T_6a2aad46_f2e3_11ea_a5de_acde48001122row7_col2\" class=\"data row7 col2\" >-0.010000</td>\n",
       "                        <td id=\"T_6a2aad46_f2e3_11ea_a5de_acde48001122row7_col3\" class=\"data row7 col3\" >0.070000</td>\n",
       "                        <td id=\"T_6a2aad46_f2e3_11ea_a5de_acde48001122row7_col4\" class=\"data row7 col4\" >-0.050000</td>\n",
       "                        <td id=\"T_6a2aad46_f2e3_11ea_a5de_acde48001122row7_col5\" class=\"data row7 col5\" >0.200000</td>\n",
       "                        <td id=\"T_6a2aad46_f2e3_11ea_a5de_acde48001122row7_col6\" class=\"data row7 col6\" >0.060000</td>\n",
       "                        <td id=\"T_6a2aad46_f2e3_11ea_a5de_acde48001122row7_col7\" class=\"data row7 col7\" >1.000000</td>\n",
       "                        <td id=\"T_6a2aad46_f2e3_11ea_a5de_acde48001122row7_col8\" class=\"data row7 col8\" >0.280000</td>\n",
       "                        <td id=\"T_6a2aad46_f2e3_11ea_a5de_acde48001122row7_col9\" class=\"data row7 col9\" >0.100000</td>\n",
       "            </tr>\n",
       "            <tr>\n",
       "                        <th id=\"T_6a2aad46_f2e3_11ea_a5de_acde48001122level0_row8\" class=\"row_heading level0 row8\" >euribor3m</th>\n",
       "                        <td id=\"T_6a2aad46_f2e3_11ea_a5de_acde48001122row8_col0\" class=\"data row8 col0\" >0.010000</td>\n",
       "                        <td id=\"T_6a2aad46_f2e3_11ea_a5de_acde48001122row8_col1\" class=\"data row8 col1\" >-0.030000</td>\n",
       "                        <td id=\"T_6a2aad46_f2e3_11ea_a5de_acde48001122row8_col2\" class=\"data row8 col2\" >0.140000</td>\n",
       "                        <td id=\"T_6a2aad46_f2e3_11ea_a5de_acde48001122row8_col3\" class=\"data row8 col3\" >-0.260000</td>\n",
       "                        <td id=\"T_6a2aad46_f2e3_11ea_a5de_acde48001122row8_col4\" class=\"data row8 col4\" >-0.450000</td>\n",
       "                        <td id=\"T_6a2aad46_f2e3_11ea_a5de_acde48001122row8_col5\" class=\"data row8 col5\" >0.970000</td>\n",
       "                        <td id=\"T_6a2aad46_f2e3_11ea_a5de_acde48001122row8_col6\" class=\"data row8 col6\" >0.690000</td>\n",
       "                        <td id=\"T_6a2aad46_f2e3_11ea_a5de_acde48001122row8_col7\" class=\"data row8 col7\" >0.280000</td>\n",
       "                        <td id=\"T_6a2aad46_f2e3_11ea_a5de_acde48001122row8_col8\" class=\"data row8 col8\" >1.000000</td>\n",
       "                        <td id=\"T_6a2aad46_f2e3_11ea_a5de_acde48001122row8_col9\" class=\"data row8 col9\" >0.950000</td>\n",
       "            </tr>\n",
       "            <tr>\n",
       "                        <th id=\"T_6a2aad46_f2e3_11ea_a5de_acde48001122level0_row9\" class=\"row_heading level0 row9\" >nr.employed</th>\n",
       "                        <td id=\"T_6a2aad46_f2e3_11ea_a5de_acde48001122row9_col0\" class=\"data row9 col0\" >-0.020000</td>\n",
       "                        <td id=\"T_6a2aad46_f2e3_11ea_a5de_acde48001122row9_col1\" class=\"data row9 col1\" >-0.040000</td>\n",
       "                        <td id=\"T_6a2aad46_f2e3_11ea_a5de_acde48001122row9_col2\" class=\"data row9 col2\" >0.140000</td>\n",
       "                        <td id=\"T_6a2aad46_f2e3_11ea_a5de_acde48001122row9_col3\" class=\"data row9 col3\" >-0.340000</td>\n",
       "                        <td id=\"T_6a2aad46_f2e3_11ea_a5de_acde48001122row9_col4\" class=\"data row9 col4\" >-0.500000</td>\n",
       "                        <td id=\"T_6a2aad46_f2e3_11ea_a5de_acde48001122row9_col5\" class=\"data row9 col5\" >0.910000</td>\n",
       "                        <td id=\"T_6a2aad46_f2e3_11ea_a5de_acde48001122row9_col6\" class=\"data row9 col6\" >0.520000</td>\n",
       "                        <td id=\"T_6a2aad46_f2e3_11ea_a5de_acde48001122row9_col7\" class=\"data row9 col7\" >0.100000</td>\n",
       "                        <td id=\"T_6a2aad46_f2e3_11ea_a5de_acde48001122row9_col8\" class=\"data row9 col8\" >0.950000</td>\n",
       "                        <td id=\"T_6a2aad46_f2e3_11ea_a5de_acde48001122row9_col9\" class=\"data row9 col9\" >1.000000</td>\n",
       "            </tr>\n",
       "    </tbody></table>"
      ],
      "text/plain": [
       "<pandas.io.formats.style.Styler at 0x7ff8c532a790>"
      ]
     },
     "execution_count": 1954,
     "metadata": {},
     "output_type": "execute_result"
    }
   ],
   "source": [
    "#Calculate the correlation coefficients\n",
    "corr =df.corr()\n",
    "corr.round(2).style.background_gradient(cmap='coolwarm')"
   ]
  },
  {
   "cell_type": "markdown",
   "metadata": {},
   "source": [
    "* From the heatmap above we can see that 'euribor3m' and 'emp.var.rate' are highly correlated so we drop one of them.\n",
    "* For every 'cons.price.idx' there is a unique  'cons.conf.idx'. So it is safe to drop one of these columns (analysis below).\n",
    "* For every 'nr.employed' there is a unique 'emp.var.rate'. So it is safe to drop one of these columns (analysis below).\n",
    "* We also drop the 'duration' variable (look at the data section above)."
   ]
  },
  {
   "cell_type": "code",
   "execution_count": 1955,
   "metadata": {},
   "outputs": [
    {
     "data": {
      "text/plain": [
       "93.994    7762\n",
       "93.918    6681\n",
       "92.893    5793\n",
       "93.444    5173\n",
       "94.465    4374\n",
       "93.200    3615\n",
       "93.075    2457\n",
       "92.201     770\n",
       "92.963     715\n",
       "92.431     446\n",
       "92.649     357\n",
       "94.215     311\n",
       "94.199     303\n",
       "92.843     282\n",
       "92.379     267\n",
       "93.369     264\n",
       "94.027     233\n",
       "94.055     229\n",
       "93.876     212\n",
       "94.601     204\n",
       "92.469     177\n",
       "93.749     174\n",
       "92.713     172\n",
       "94.767     128\n",
       "93.798      67\n",
       "92.756      10\n",
       "Name: cons.price.idx, dtype: int64"
      ]
     },
     "execution_count": 1955,
     "metadata": {},
     "output_type": "execute_result"
    }
   ],
   "source": [
    "df['cons.price.idx' ].value_counts()"
   ]
  },
  {
   "cell_type": "code",
   "execution_count": 1956,
   "metadata": {},
   "outputs": [
    {
     "data": {
      "text/plain": [
       "-36.4    7762\n",
       "-42.7    6681\n",
       "-46.2    5793\n",
       "-36.1    5173\n",
       "-41.8    4374\n",
       "-42.0    3615\n",
       "-47.1    2457\n",
       "-31.4     770\n",
       "-40.8     715\n",
       "-26.9     446\n",
       "-30.1     357\n",
       "-40.3     311\n",
       "-37.5     303\n",
       "-50.0     282\n",
       "-29.8     267\n",
       "-34.8     264\n",
       "-38.3     233\n",
       "-39.8     229\n",
       "-40.0     212\n",
       "-49.5     204\n",
       "-33.6     177\n",
       "-34.6     174\n",
       "-33.0     172\n",
       "-50.8     128\n",
       "-40.4      67\n",
       "-45.9      10\n",
       "Name: cons.conf.idx, dtype: int64"
      ]
     },
     "execution_count": 1956,
     "metadata": {},
     "output_type": "execute_result"
    }
   ],
   "source": [
    "df['cons.conf.idx'].value_counts()"
   ]
  },
  {
   "cell_type": "code",
   "execution_count": 1957,
   "metadata": {},
   "outputs": [
    {
     "data": {
      "text/plain": [
       " 1.4    16228\n",
       "-1.8     9182\n",
       " 1.1     7762\n",
       "-0.1     3682\n",
       "-2.9     1662\n",
       "-3.4     1070\n",
       "-1.7      773\n",
       "-1.1      635\n",
       "-3.0      172\n",
       "-0.2       10\n",
       "Name: emp.var.rate, dtype: int64"
      ]
     },
     "execution_count": 1957,
     "metadata": {},
     "output_type": "execute_result"
    }
   ],
   "source": [
    "df['emp.var.rate'].value_counts()"
   ]
  },
  {
   "cell_type": "code",
   "execution_count": 1958,
   "metadata": {},
   "outputs": [
    {
     "data": {
      "text/plain": [
       "5228.1    16228\n",
       "5099.1     8532\n",
       "5191.0     7762\n",
       "5195.8     3682\n",
       "5076.2     1662\n",
       "5017.5     1070\n",
       "4991.6      773\n",
       "5008.7      650\n",
       "4963.6      635\n",
       "5023.5      172\n",
       "5176.3       10\n",
       "Name: nr.employed, dtype: int64"
      ]
     },
     "execution_count": 1958,
     "metadata": {},
     "output_type": "execute_result"
    }
   ],
   "source": [
    "df['nr.employed'].value_counts()"
   ]
  },
  {
   "cell_type": "code",
   "execution_count": 1959,
   "metadata": {},
   "outputs": [
    {
     "data": {
      "text/html": [
       "<style  type=\"text/css\" >\n",
       "    #T_6a371dc4_f2e3_11ea_a5de_acde48001122row0_col0 {\n",
       "            background-color:  #b40426;\n",
       "            color:  #f1f1f1;\n",
       "        }    #T_6a371dc4_f2e3_11ea_a5de_acde48001122row0_col1 {\n",
       "            background-color:  #506bda;\n",
       "            color:  #000000;\n",
       "        }    #T_6a371dc4_f2e3_11ea_a5de_acde48001122row0_col2 {\n",
       "            background-color:  #7da0f9;\n",
       "            color:  #000000;\n",
       "        }    #T_6a371dc4_f2e3_11ea_a5de_acde48001122row0_col3 {\n",
       "            background-color:  #a2c1ff;\n",
       "            color:  #000000;\n",
       "        }    #T_6a371dc4_f2e3_11ea_a5de_acde48001122row0_col4 {\n",
       "            background-color:  #9dbdff;\n",
       "            color:  #000000;\n",
       "        }    #T_6a371dc4_f2e3_11ea_a5de_acde48001122row0_col5 {\n",
       "            background-color:  #6f92f3;\n",
       "            color:  #000000;\n",
       "        }    #T_6a371dc4_f2e3_11ea_a5de_acde48001122row1_col0 {\n",
       "            background-color:  #3b4cc0;\n",
       "            color:  #f1f1f1;\n",
       "        }    #T_6a371dc4_f2e3_11ea_a5de_acde48001122row1_col1 {\n",
       "            background-color:  #b40426;\n",
       "            color:  #f1f1f1;\n",
       "        }    #T_6a371dc4_f2e3_11ea_a5de_acde48001122row1_col2 {\n",
       "            background-color:  #6b8df0;\n",
       "            color:  #000000;\n",
       "        }    #T_6a371dc4_f2e3_11ea_a5de_acde48001122row1_col3 {\n",
       "            background-color:  #89acfd;\n",
       "            color:  #000000;\n",
       "        }    #T_6a371dc4_f2e3_11ea_a5de_acde48001122row1_col4 {\n",
       "            background-color:  #c0d4f5;\n",
       "            color:  #000000;\n",
       "        }    #T_6a371dc4_f2e3_11ea_a5de_acde48001122row1_col5 {\n",
       "            background-color:  #96b7ff;\n",
       "            color:  #000000;\n",
       "        }    #T_6a371dc4_f2e3_11ea_a5de_acde48001122row2_col0 {\n",
       "            background-color:  #4055c8;\n",
       "            color:  #f1f1f1;\n",
       "        }    #T_6a371dc4_f2e3_11ea_a5de_acde48001122row2_col1 {\n",
       "            background-color:  #455cce;\n",
       "            color:  #f1f1f1;\n",
       "        }    #T_6a371dc4_f2e3_11ea_a5de_acde48001122row2_col2 {\n",
       "            background-color:  #b40426;\n",
       "            color:  #f1f1f1;\n",
       "        }    #T_6a371dc4_f2e3_11ea_a5de_acde48001122row2_col3 {\n",
       "            background-color:  #f7bca1;\n",
       "            color:  #000000;\n",
       "        }    #T_6a371dc4_f2e3_11ea_a5de_acde48001122row2_col4 {\n",
       "            background-color:  #6485ec;\n",
       "            color:  #000000;\n",
       "        }    #T_6a371dc4_f2e3_11ea_a5de_acde48001122row2_col5 {\n",
       "            background-color:  #6282ea;\n",
       "            color:  #000000;\n",
       "        }    #T_6a371dc4_f2e3_11ea_a5de_acde48001122row3_col0 {\n",
       "            background-color:  #4055c8;\n",
       "            color:  #f1f1f1;\n",
       "        }    #T_6a371dc4_f2e3_11ea_a5de_acde48001122row3_col1 {\n",
       "            background-color:  #3b4cc0;\n",
       "            color:  #f1f1f1;\n",
       "        }    #T_6a371dc4_f2e3_11ea_a5de_acde48001122row3_col2 {\n",
       "            background-color:  #f2cab5;\n",
       "            color:  #000000;\n",
       "        }    #T_6a371dc4_f2e3_11ea_a5de_acde48001122row3_col3 {\n",
       "            background-color:  #b40426;\n",
       "            color:  #f1f1f1;\n",
       "        }    #T_6a371dc4_f2e3_11ea_a5de_acde48001122row3_col4 {\n",
       "            background-color:  #3b4cc0;\n",
       "            color:  #f1f1f1;\n",
       "        }    #T_6a371dc4_f2e3_11ea_a5de_acde48001122row3_col5 {\n",
       "            background-color:  #3b4cc0;\n",
       "            color:  #f1f1f1;\n",
       "        }    #T_6a371dc4_f2e3_11ea_a5de_acde48001122row4_col0 {\n",
       "            background-color:  #3b4cc0;\n",
       "            color:  #f1f1f1;\n",
       "        }    #T_6a371dc4_f2e3_11ea_a5de_acde48001122row4_col1 {\n",
       "            background-color:  #80a3fa;\n",
       "            color:  #000000;\n",
       "        }    #T_6a371dc4_f2e3_11ea_a5de_acde48001122row4_col2 {\n",
       "            background-color:  #3b4cc0;\n",
       "            color:  #f1f1f1;\n",
       "        }    #T_6a371dc4_f2e3_11ea_a5de_acde48001122row4_col3 {\n",
       "            background-color:  #3b4cc0;\n",
       "            color:  #f1f1f1;\n",
       "        }    #T_6a371dc4_f2e3_11ea_a5de_acde48001122row4_col4 {\n",
       "            background-color:  #b40426;\n",
       "            color:  #f1f1f1;\n",
       "        }    #T_6a371dc4_f2e3_11ea_a5de_acde48001122row4_col5 {\n",
       "            background-color:  #ea7b60;\n",
       "            color:  #000000;\n",
       "        }    #T_6a371dc4_f2e3_11ea_a5de_acde48001122row5_col0 {\n",
       "            background-color:  #3b4cc0;\n",
       "            color:  #f1f1f1;\n",
       "        }    #T_6a371dc4_f2e3_11ea_a5de_acde48001122row5_col1 {\n",
       "            background-color:  #799cf8;\n",
       "            color:  #000000;\n",
       "        }    #T_6a371dc4_f2e3_11ea_a5de_acde48001122row5_col2 {\n",
       "            background-color:  #688aef;\n",
       "            color:  #000000;\n",
       "        }    #T_6a371dc4_f2e3_11ea_a5de_acde48001122row5_col3 {\n",
       "            background-color:  #6b8df0;\n",
       "            color:  #000000;\n",
       "        }    #T_6a371dc4_f2e3_11ea_a5de_acde48001122row5_col4 {\n",
       "            background-color:  #e46e56;\n",
       "            color:  #000000;\n",
       "        }    #T_6a371dc4_f2e3_11ea_a5de_acde48001122row5_col5 {\n",
       "            background-color:  #b40426;\n",
       "            color:  #f1f1f1;\n",
       "        }</style><table id=\"T_6a371dc4_f2e3_11ea_a5de_acde48001122\" ><thead>    <tr>        <th class=\"blank level0\" ></th>        <th class=\"col_heading level0 col0\" >age</th>        <th class=\"col_heading level0 col1\" >campaign</th>        <th class=\"col_heading level0 col2\" >pdays</th>        <th class=\"col_heading level0 col3\" >previous</th>        <th class=\"col_heading level0 col4\" >emp.var.rate</th>        <th class=\"col_heading level0 col5\" >cons.price.idx</th>    </tr></thead><tbody>\n",
       "                <tr>\n",
       "                        <th id=\"T_6a371dc4_f2e3_11ea_a5de_acde48001122level0_row0\" class=\"row_heading level0 row0\" >age</th>\n",
       "                        <td id=\"T_6a371dc4_f2e3_11ea_a5de_acde48001122row0_col0\" class=\"data row0 col0\" >1.000000</td>\n",
       "                        <td id=\"T_6a371dc4_f2e3_11ea_a5de_acde48001122row0_col1\" class=\"data row0 col1\" >0.000000</td>\n",
       "                        <td id=\"T_6a371dc4_f2e3_11ea_a5de_acde48001122row0_col2\" class=\"data row0 col2\" >0.020000</td>\n",
       "                        <td id=\"T_6a371dc4_f2e3_11ea_a5de_acde48001122row0_col3\" class=\"data row0 col3\" >0.020000</td>\n",
       "                        <td id=\"T_6a371dc4_f2e3_11ea_a5de_acde48001122row0_col4\" class=\"data row0 col4\" >-0.000000</td>\n",
       "                        <td id=\"T_6a371dc4_f2e3_11ea_a5de_acde48001122row0_col5\" class=\"data row0 col5\" >0.000000</td>\n",
       "            </tr>\n",
       "            <tr>\n",
       "                        <th id=\"T_6a371dc4_f2e3_11ea_a5de_acde48001122level0_row1\" class=\"row_heading level0 row1\" >campaign</th>\n",
       "                        <td id=\"T_6a371dc4_f2e3_11ea_a5de_acde48001122row1_col0\" class=\"data row1 col0\" >0.000000</td>\n",
       "                        <td id=\"T_6a371dc4_f2e3_11ea_a5de_acde48001122row1_col1\" class=\"data row1 col1\" >1.000000</td>\n",
       "                        <td id=\"T_6a371dc4_f2e3_11ea_a5de_acde48001122row1_col2\" class=\"data row1 col2\" >-0.040000</td>\n",
       "                        <td id=\"T_6a371dc4_f2e3_11ea_a5de_acde48001122row1_col3\" class=\"data row1 col3\" >-0.080000</td>\n",
       "                        <td id=\"T_6a371dc4_f2e3_11ea_a5de_acde48001122row1_col4\" class=\"data row1 col4\" >0.150000</td>\n",
       "                        <td id=\"T_6a371dc4_f2e3_11ea_a5de_acde48001122row1_col5\" class=\"data row1 col5\" >0.130000</td>\n",
       "            </tr>\n",
       "            <tr>\n",
       "                        <th id=\"T_6a371dc4_f2e3_11ea_a5de_acde48001122level0_row2\" class=\"row_heading level0 row2\" >pdays</th>\n",
       "                        <td id=\"T_6a371dc4_f2e3_11ea_a5de_acde48001122row2_col0\" class=\"data row2 col0\" >0.020000</td>\n",
       "                        <td id=\"T_6a371dc4_f2e3_11ea_a5de_acde48001122row2_col1\" class=\"data row2 col1\" >-0.040000</td>\n",
       "                        <td id=\"T_6a371dc4_f2e3_11ea_a5de_acde48001122row2_col2\" class=\"data row2 col2\" >1.000000</td>\n",
       "                        <td id=\"T_6a371dc4_f2e3_11ea_a5de_acde48001122row2_col3\" class=\"data row2 col3\" >0.510000</td>\n",
       "                        <td id=\"T_6a371dc4_f2e3_11ea_a5de_acde48001122row2_col4\" class=\"data row2 col4\" >-0.230000</td>\n",
       "                        <td id=\"T_6a371dc4_f2e3_11ea_a5de_acde48001122row2_col5\" class=\"data row2 col5\" >-0.050000</td>\n",
       "            </tr>\n",
       "            <tr>\n",
       "                        <th id=\"T_6a371dc4_f2e3_11ea_a5de_acde48001122level0_row3\" class=\"row_heading level0 row3\" >previous</th>\n",
       "                        <td id=\"T_6a371dc4_f2e3_11ea_a5de_acde48001122row3_col0\" class=\"data row3 col0\" >0.020000</td>\n",
       "                        <td id=\"T_6a371dc4_f2e3_11ea_a5de_acde48001122row3_col1\" class=\"data row3 col1\" >-0.080000</td>\n",
       "                        <td id=\"T_6a371dc4_f2e3_11ea_a5de_acde48001122row3_col2\" class=\"data row3 col2\" >0.510000</td>\n",
       "                        <td id=\"T_6a371dc4_f2e3_11ea_a5de_acde48001122row3_col3\" class=\"data row3 col3\" >1.000000</td>\n",
       "                        <td id=\"T_6a371dc4_f2e3_11ea_a5de_acde48001122row3_col4\" class=\"data row3 col4\" >-0.420000</td>\n",
       "                        <td id=\"T_6a371dc4_f2e3_11ea_a5de_acde48001122row3_col5\" class=\"data row3 col5\" >-0.200000</td>\n",
       "            </tr>\n",
       "            <tr>\n",
       "                        <th id=\"T_6a371dc4_f2e3_11ea_a5de_acde48001122level0_row4\" class=\"row_heading level0 row4\" >emp.var.rate</th>\n",
       "                        <td id=\"T_6a371dc4_f2e3_11ea_a5de_acde48001122row4_col0\" class=\"data row4 col0\" >-0.000000</td>\n",
       "                        <td id=\"T_6a371dc4_f2e3_11ea_a5de_acde48001122row4_col1\" class=\"data row4 col1\" >0.150000</td>\n",
       "                        <td id=\"T_6a371dc4_f2e3_11ea_a5de_acde48001122row4_col2\" class=\"data row4 col2\" >-0.230000</td>\n",
       "                        <td id=\"T_6a371dc4_f2e3_11ea_a5de_acde48001122row4_col3\" class=\"data row4 col3\" >-0.420000</td>\n",
       "                        <td id=\"T_6a371dc4_f2e3_11ea_a5de_acde48001122row4_col4\" class=\"data row4 col4\" >1.000000</td>\n",
       "                        <td id=\"T_6a371dc4_f2e3_11ea_a5de_acde48001122row4_col5\" class=\"data row4 col5\" >0.780000</td>\n",
       "            </tr>\n",
       "            <tr>\n",
       "                        <th id=\"T_6a371dc4_f2e3_11ea_a5de_acde48001122level0_row5\" class=\"row_heading level0 row5\" >cons.price.idx</th>\n",
       "                        <td id=\"T_6a371dc4_f2e3_11ea_a5de_acde48001122row5_col0\" class=\"data row5 col0\" >0.000000</td>\n",
       "                        <td id=\"T_6a371dc4_f2e3_11ea_a5de_acde48001122row5_col1\" class=\"data row5 col1\" >0.130000</td>\n",
       "                        <td id=\"T_6a371dc4_f2e3_11ea_a5de_acde48001122row5_col2\" class=\"data row5 col2\" >-0.050000</td>\n",
       "                        <td id=\"T_6a371dc4_f2e3_11ea_a5de_acde48001122row5_col3\" class=\"data row5 col3\" >-0.200000</td>\n",
       "                        <td id=\"T_6a371dc4_f2e3_11ea_a5de_acde48001122row5_col4\" class=\"data row5 col4\" >0.780000</td>\n",
       "                        <td id=\"T_6a371dc4_f2e3_11ea_a5de_acde48001122row5_col5\" class=\"data row5 col5\" >1.000000</td>\n",
       "            </tr>\n",
       "    </tbody></table>"
      ],
      "text/plain": [
       "<pandas.io.formats.style.Styler at 0x7ff8dbd9da90>"
      ]
     },
     "execution_count": 1959,
     "metadata": {},
     "output_type": "execute_result"
    }
   ],
   "source": [
    "df.drop(['duration','euribor3m','cons.conf.idx', 'nr.employed'], axis=1, inplace=True)\n",
    "corr =df.corr()\n",
    "\n",
    "corr.round(2).style.background_gradient(cmap='coolwarm')"
   ]
  },
  {
   "cell_type": "code",
   "execution_count": 1960,
   "metadata": {},
   "outputs": [],
   "source": [
    "#sns.pairplot(df)"
   ]
  },
  {
   "cell_type": "code",
   "execution_count": 1961,
   "metadata": {},
   "outputs": [],
   "source": [
    "#df1=df.set_index('month', 'y').groupby('month').mean()\n",
    "#df1=df.set_index('month').groupby('month').count()\n",
    "#df1\n",
    "#df[df['y']=='yes']"
   ]
  },
  {
   "cell_type": "code",
   "execution_count": 1962,
   "metadata": {},
   "outputs": [],
   "source": [
    "#sns.pairplot(df1)"
   ]
  },
  {
   "cell_type": "code",
   "execution_count": 1963,
   "metadata": {},
   "outputs": [],
   "source": [
    "#plt.figure()\n",
    "#sns.countplot(x='y', data=df, palette='RdBu')\n",
    "#plt.xticks([0,1], ['No', 'Yes'])\n",
    "#plt.show()\n"
   ]
  },
  {
   "cell_type": "markdown",
   "metadata": {},
   "source": [
    "### Outcome by year"
   ]
  },
  {
   "cell_type": "markdown",
   "metadata": {},
   "source": [
    "The first chart below is the countplot of the outcome for each year and the second chart shows the proportion of positive outcome for each year. "
   ]
  },
  {
   "cell_type": "code",
   "execution_count": 1964,
   "metadata": {},
   "outputs": [
    {
     "data": {
      "image/png": "[encoded data removed]",
      "text/plain": [
       "<Figure size 576x396 with 1 Axes>"
      ]
     },
     "metadata": {},
     "output_type": "display_data"
    }
   ],
   "source": [
    "plt.figure()\n",
    "sns_plot=sns.countplot(x='y', hue='year', data=df)\n",
    "plt.xticks([0,1], ['No', 'Yes'])\n",
    "plt.xlabel(\"Outcome\")\n",
    "plt.show()\n",
    "fig = sns_plot.get_figure()\n",
    "fig.savefig('/Users/atousachaharsoughshirazi/Capstone_two/figures/targetcountplotbyyear.png') "
   ]
  },
  {
   "cell_type": "markdown",
   "metadata": {},
   "source": [
    "We can see that the number of 'yes' outcomes did not change much from 2008 to 2010. But the number of 'no' outcomes significantly decreased and in year 2010 there are almost the same number of yes/no outcomes."
   ]
  },
  {
   "cell_type": "code",
   "execution_count": 1965,
   "metadata": {},
   "outputs": [
    {
     "data": {
      "text/plain": [
       "year  y  \n",
       "2008  no     26343\n",
       "      yes     1339\n",
       "2009  no      9209\n",
       "      yes     2228\n",
       "2010  yes     1072\n",
       "      no       985\n",
       "Name: y, dtype: int64"
      ]
     },
     "execution_count": 1965,
     "metadata": {},
     "output_type": "execute_result"
    }
   ],
   "source": [
    "dfy=df[['year','y']]\n",
    "dfyy=dfy.set_index('year').groupby(by=['year'])\n",
    "dfyy['y'].value_counts()"
   ]
  },
  {
   "cell_type": "code",
   "execution_count": 1966,
   "metadata": {},
   "outputs": [
    {
     "data": {
      "image/png": "[encoded data removed]",
      "text/plain": [
       "<Figure size 576x396 with 1 Axes>"
      ]
     },
     "metadata": {},
     "output_type": "display_data"
    }
   ],
   "source": [
    "dfy=dfy.replace({'y':{'yes':1 ,'no': 0 }})\n",
    "sns_plot=sns.barplot(x='year', y='y',data=dfy)\n",
    "sns_plot.set(ylabel='proportion of positive outcome')\n",
    "plt.show()\n",
    "fig = sns_plot.get_figure()\n",
    "fig.savefig('/Users/atousachaharsoughshirazi/Capstone_two/figures/targetbarplotbyyear.png') \n",
    "# palette=sns.color_palette(\"coolwarm\", 7)\n",
    "#palette='RdBu'"
   ]
  },
  {
   "cell_type": "markdown",
   "metadata": {},
   "source": [
    "### Outcome by month and year"
   ]
  },
  {
   "cell_type": "markdown",
   "metadata": {},
   "source": [
    "Some months are missing for example year 2008 does not have any contacts for months of Jan-Apr and Sep. Year 2009 has contacts for March-December months, and year 2010 has March-November."
   ]
  },
  {
   "cell_type": "code",
   "execution_count": 1967,
   "metadata": {},
   "outputs": [],
   "source": [
    "dfn=df[['year','month','y']]\n",
    "dfnn=dfn.set_index('year','month').groupby(by=['year','month'])\n",
    "#dfnn['y'].value_counts()"
   ]
  },
  {
   "cell_type": "code",
   "execution_count": 1968,
   "metadata": {},
   "outputs": [
    {
     "data": {
      "image/png": "[encoded data removed]",
      "text/plain": [
       "<Figure size 576x396 with 1 Axes>"
      ]
     },
     "metadata": {},
     "output_type": "display_data"
    }
   ],
   "source": [
    "dfn=dfn.replace({'y':{'yes':1 ,'no': 0 }})\n",
    "\n",
    "sns_plot=sns.barplot(x='year', y='y', hue='month',data=dfn)\n",
    "sns_plot.set(ylabel='proportion of positive outcome')\n",
    "plt.show()\n",
    "fig = sns_plot.get_figure()\n",
    "fig.savefig('/Users/atousachaharsoughshirazi/Capstone_two/figures/targetbarplotbyyearandmonth.png') "
   ]
  },
  {
   "cell_type": "markdown",
   "metadata": {},
   "source": [
    "From the chart above we can see that in year 2008 the proportion of positive outcomes in October (the purple bar) was much higher than other months. In year 2009, May and April have the lowest proportion of positive outcomes and in 2010 all proportions for different months get closer to each other. This shows that the trend has changed significantly from 2008 to 2010. This data is during the US economic crisis and the crisis could have affected the marketing scheme and outcome trend dramatically. "
   ]
  },
  {
   "cell_type": "code",
   "execution_count": 1969,
   "metadata": {},
   "outputs": [],
   "source": [
    "#dfnn=dfn.set_index('month','year').groupby(by=['month', 'year'])\n",
    "#dfnn['y'].value_counts()\n",
    "\n",
    "#df1=df[['month','y']] \n",
    "#df2=df1.groupby('month')\n",
    "#df2['y'].value_counts()\n",
    "\n",
    "#df2=df1.replace({'y':{'yes':1 ,'no': 0 }})\n",
    "#sns_plot=sns.barplot(x='month', y='y', data=df2)\n",
    "#sns_plot.set(ylabel='percentage of positive outcome')\n",
    "#plt.show()\n",
    "\n",
    "#pd.to_numeric(df2.y)\n",
    "#df3=pd.DataFrame(df2.groupby('month', sort=False).sum())\n",
    "# df3.reindex()\n",
    "#df3\n",
    "# #plt.bar(x='month', height='y', hue='month', data=df3)\n",
    "# #sns.swarmplot(x='month', y='y', data=df3)\n",
    "\n",
    "#df1['month'].value_counts()"
   ]
  },
  {
   "cell_type": "code",
   "execution_count": 1970,
   "metadata": {},
   "outputs": [],
   "source": [
    "# for i in df.columns.values:\n",
    "#     dfi=df[[i ,'y']]\n",
    "#     dfi2=dfi.replace({'y':{'yes':1 ,'no': 0 }})\n",
    "#     pd.to_numeric(dfi2.y)\n",
    "#     df3=pd.DataFrame(dfi2.set_index(i).groupby(i).sum().sort_values(by=['y'], ascending=False))\n",
    "#     plt.bar(i,'y', data=df3)\n",
    "#     plt.show()\n",
    "#     #print(dfi2.set_index(i).groupby(i).sum().sort_values(by=['y'], ascending=False))\n",
    "    \n",
    "    \n"
   ]
  },
  {
   "cell_type": "code",
   "execution_count": 1971,
   "metadata": {},
   "outputs": [],
   "source": [
    "# for i in df.columns.values:\n",
    "#     dfi=df[[i ,'y']]\n",
    "#     dfi2=dfi.replace({'y':{'yes':1 ,'no': 0 }})\n",
    "#     sns.barplot(x=i, y='y', data=df2)\n",
    "#     plt.show()\n",
    "\n"
   ]
  },
  {
   "cell_type": "markdown",
   "metadata": {},
   "source": [
    "### Outcome by job"
   ]
  },
  {
   "cell_type": "code",
   "execution_count": 1972,
   "metadata": {},
   "outputs": [
    {
     "data": {
      "image/png": "[encoded data removed]",
      "text/plain": [
       "<Figure size 576x396 with 1 Axes>"
      ]
     },
     "metadata": {},
     "output_type": "display_data"
    }
   ],
   "source": [
    "df1=df[['job','y']]\n",
    "df2=df1.replace({'y':{'yes':1 ,'no': 0 }})\n",
    "\n",
    "sns_plot=sns.barplot(x='job', y='y', data=df2)\n",
    "sns_plot.set_xticklabels(sns_plot.get_xticklabels(), rotation=40, ha=\"right\")\n",
    "sns_plot.set(ylabel='proportion of positive outcome')\n",
    "plt.tight_layout()\n",
    "plt.show()\n",
    "fig = sns_plot.get_figure()\n",
    "fig.savefig('/Users/atousachaharsoughshirazi/Capstone_two/figures/jobbarplotbyyear.png') "
   ]
  },
  {
   "cell_type": "markdown",
   "metadata": {},
   "source": [
    "In the chart above we can see that students and retires have significantly higher proportion of positive outcomes."
   ]
  },
  {
   "cell_type": "markdown",
   "metadata": {},
   "source": [
    "### Outcome by education"
   ]
  },
  {
   "cell_type": "code",
   "execution_count": 1973,
   "metadata": {},
   "outputs": [
    {
     "data": {
      "image/png": "[encoded data removed]",
      "text/plain": [
       "<Figure size 576x396 with 1 Axes>"
      ]
     },
     "metadata": {},
     "output_type": "display_data"
    }
   ],
   "source": [
    "df1=df[['education','y']]\n",
    "df2=df1.replace({'y':{'yes':1 ,'no': 0 }})\n",
    "\n",
    "sns_plot=sns.barplot(x='education', y='y', data=df2)\n",
    "sns_plot.set_xticklabels(sns_plot.get_xticklabels(), rotation=40, ha=\"right\")\n",
    "sns_plot.set(ylabel='percentage of positive outcome')\n",
    "plt.tight_layout()\n",
    "plt.show()\n",
    "fig = sns_plot.get_figure()\n",
    "fig.savefig('/Users/atousachaharsoughshirazi/Capstone_two/figures/educationbarplotbyyear.png') \n",
    "#, palette=sns.color_palette(\"coolwarm\", 7)"
   ]
  },
  {
   "cell_type": "markdown",
   "metadata": {},
   "source": [
    "### Outcome by housing"
   ]
  },
  {
   "cell_type": "code",
   "execution_count": 1974,
   "metadata": {},
   "outputs": [
    {
     "data": {
      "image/png": "[encoded data removed]",
      "text/plain": [
       "<Figure size 576x396 with 1 Axes>"
      ]
     },
     "metadata": {},
     "output_type": "display_data"
    }
   ],
   "source": [
    "df1=df[['housing','y']]\n",
    "df2=df1.replace({'y':{'yes':1 ,'no': 0 }})\n",
    "\n",
    "sns_plot=sns.barplot(x='housing', y='y', data=df2)\n",
    "sns_plot.set(ylabel='percentage of positive outcome')\n",
    "plt.show()\n",
    "# fig = sns_plot.get_figure()\n",
    "# fig.savefig('/Users/atousachaharsoughshirazi/Capstone_two/figures/housingbarplot.png')"
   ]
  },
  {
   "cell_type": "code",
   "execution_count": 1975,
   "metadata": {},
   "outputs": [
    {
     "data": {
      "text/html": [
       "<div>\n",
       "<style scoped>\n",
       "    .dataframe tbody tr th:only-of-type {\n",
       "        vertical-align: middle;\n",
       "    }\n",
       "\n",
       "    .dataframe tbody tr th {\n",
       "        vertical-align: top;\n",
       "    }\n",
       "\n",
       "    .dataframe thead th {\n",
       "        text-align: right;\n",
       "    }\n",
       "</style>\n",
       "<table border=\"1\" class=\"dataframe\">\n",
       "  <thead>\n",
       "    <tr style=\"text-align: right;\">\n",
       "      <th></th>\n",
       "      <th>y</th>\n",
       "    </tr>\n",
       "    <tr>\n",
       "      <th>housing</th>\n",
       "      <th></th>\n",
       "    </tr>\n",
       "  </thead>\n",
       "  <tbody>\n",
       "    <tr>\n",
       "      <th>no</th>\n",
       "      <td>2025</td>\n",
       "    </tr>\n",
       "    <tr>\n",
       "      <th>yes</th>\n",
       "      <td>2507</td>\n",
       "    </tr>\n",
       "    <tr>\n",
       "      <th>unknown</th>\n",
       "      <td>107</td>\n",
       "    </tr>\n",
       "  </tbody>\n",
       "</table>\n",
       "</div>"
      ],
      "text/plain": [
       "            y\n",
       "housing      \n",
       "no       2025\n",
       "yes      2507\n",
       "unknown   107"
      ]
     },
     "execution_count": 1975,
     "metadata": {},
     "output_type": "execute_result"
    }
   ],
   "source": [
    "pd.to_numeric(df2.y)\n",
    "df3=pd.DataFrame(df2.groupby('housing', sort=False).sum())\n",
    "df3"
   ]
  },
  {
   "cell_type": "markdown",
   "metadata": {},
   "source": [
    "From 4639 total positive outcomes, 2507(or 54.04%) clients had a housing loan, 2025(43.65%) didn't have a housing loan and for 107 (2.3%) housing was unknown."
   ]
  },
  {
   "cell_type": "code",
   "execution_count": 1976,
   "metadata": {},
   "outputs": [
    {
     "data": {
      "text/plain": [
       "yes        21571\n",
       "no         18615\n",
       "unknown      990\n",
       "Name: housing, dtype: int64"
      ]
     },
     "execution_count": 1976,
     "metadata": {},
     "output_type": "execute_result"
    }
   ],
   "source": [
    "df2.housing.value_counts()"
   ]
  },
  {
   "cell_type": "markdown",
   "metadata": {},
   "source": [
    "From 21571 clients that had housing, 2507 of them subscribed. So the proportion of positive outcomes for clients with housing is 0.1162(or percentage of 11.62%). The proportion of positive outcome for clients with no housing is 0.1088 and with unknown housing is 0.108."
   ]
  },
  {
   "cell_type": "code",
   "execution_count": 1977,
   "metadata": {},
   "outputs": [
    {
     "data": {
      "text/plain": [
       "Power_divergenceResult(statistic=0.00043126110124334005, pvalue=0.9997843926959746)"
      ]
     },
     "execution_count": 1977,
     "metadata": {},
     "output_type": "execute_result"
    }
   ],
   "source": [
    "chisquare(f_obs=[0.1088,0.1162,0.108], f_exp=[0.1126, 0.1126, 0.1126])"
   ]
  },
  {
   "cell_type": "code",
   "execution_count": 1978,
   "metadata": {},
   "outputs": [],
   "source": [
    "# df1=df[['loan','y']]\n",
    "# df2=df1.replace({'y':{'yes':1 ,'no': 0 }})\n",
    "\n",
    "# sns_plot=sns.barplot(x='loan', y='y', data=df2)\n",
    "# sns_plot.set(ylabel='percentage of positive outcome')\n",
    "# plt.show()\n",
    "# fig = sns_plot.get_figure()\n",
    "# fig.savefig('/Users/atousachaharsoughshirazi/Capstone_two/figures/loanbarplot.png')"
   ]
  },
  {
   "cell_type": "markdown",
   "metadata": {},
   "source": [
    "### Outcome by marital status"
   ]
  },
  {
   "cell_type": "code",
   "execution_count": 1979,
   "metadata": {},
   "outputs": [
    {
     "data": {
      "image/png": "[encoded data removed]",
      "text/plain": [
       "<Figure size 576x396 with 1 Axes>"
      ]
     },
     "metadata": {},
     "output_type": "display_data"
    }
   ],
   "source": [
    "df1=df[['marital','y']]\n",
    "df2=df1.replace({'y':{'yes':1 ,'no': 0 }})\n",
    "\n",
    "sns_plot=sns.barplot(x='marital', y='y', data=df2)\n",
    "sns_plot.set(ylabel='portion of positive outcome')\n",
    "\n",
    "plt.show()"
   ]
  },
  {
   "cell_type": "code",
   "execution_count": 1980,
   "metadata": {},
   "outputs": [
    {
     "data": {
      "text/html": [
       "<div>\n",
       "<style scoped>\n",
       "    .dataframe tbody tr th:only-of-type {\n",
       "        vertical-align: middle;\n",
       "    }\n",
       "\n",
       "    .dataframe tbody tr th {\n",
       "        vertical-align: top;\n",
       "    }\n",
       "\n",
       "    .dataframe thead th {\n",
       "        text-align: right;\n",
       "    }\n",
       "</style>\n",
       "<table border=\"1\" class=\"dataframe\">\n",
       "  <thead>\n",
       "    <tr style=\"text-align: right;\">\n",
       "      <th></th>\n",
       "      <th>y</th>\n",
       "    </tr>\n",
       "    <tr>\n",
       "      <th>marital</th>\n",
       "      <th></th>\n",
       "    </tr>\n",
       "  </thead>\n",
       "  <tbody>\n",
       "    <tr>\n",
       "      <th>married</th>\n",
       "      <td>2531</td>\n",
       "    </tr>\n",
       "    <tr>\n",
       "      <th>single</th>\n",
       "      <td>1620</td>\n",
       "    </tr>\n",
       "    <tr>\n",
       "      <th>divorced</th>\n",
       "      <td>476</td>\n",
       "    </tr>\n",
       "    <tr>\n",
       "      <th>unknown</th>\n",
       "      <td>12</td>\n",
       "    </tr>\n",
       "  </tbody>\n",
       "</table>\n",
       "</div>"
      ],
      "text/plain": [
       "             y\n",
       "marital       \n",
       "married   2531\n",
       "single    1620\n",
       "divorced   476\n",
       "unknown     12"
      ]
     },
     "execution_count": 1980,
     "metadata": {},
     "output_type": "execute_result"
    }
   ],
   "source": [
    "pd.to_numeric(df2.y)\n",
    "df3=pd.DataFrame(df2.groupby('marital', sort=False).sum())\n",
    "df3"
   ]
  },
  {
   "cell_type": "code",
   "execution_count": 1981,
   "metadata": {},
   "outputs": [
    {
     "data": {
      "text/plain": [
       "married     24921\n",
       "single      11564\n",
       "divorced     4611\n",
       "unknown        80\n",
       "Name: marital, dtype: int64"
      ]
     },
     "execution_count": 1981,
     "metadata": {},
     "output_type": "execute_result"
    }
   ],
   "source": [
    "df2.marital.value_counts()"
   ]
  },
  {
   "cell_type": "code",
   "execution_count": 1982,
   "metadata": {},
   "outputs": [
    {
     "data": {
      "text/plain": [
       "0    36537\n",
       "1     4639\n",
       "Name: y, dtype: int64"
      ]
     },
     "execution_count": 1982,
     "metadata": {},
     "output_type": "execute_result"
    }
   ],
   "source": [
    "df2.y.value_counts()"
   ]
  },
  {
   "cell_type": "code",
   "execution_count": 1983,
   "metadata": {},
   "outputs": [
    {
     "data": {
      "text/plain": [
       "Power_divergenceResult(statistic=0.020995453850083605, pvalue=0.9991959688292661)"
      ]
     },
     "execution_count": 1983,
     "metadata": {},
     "output_type": "execute_result"
    }
   ],
   "source": [
    "chisquare(f_obs=[2531/24921, 1620/11564, 476/4611, 12/80], f_exp=[0.1126, 0.1126, 0.1126, 0.1126])"
   ]
  },
  {
   "cell_type": "code",
   "execution_count": 1984,
   "metadata": {},
   "outputs": [
    {
     "data": {
      "image/png": "[encoded data removed]",
      "text/plain": [
       "<Figure size 576x396 with 1 Axes>"
      ]
     },
     "metadata": {},
     "output_type": "display_data"
    }
   ],
   "source": [
    "df1=df[['day_of_week','y']]\n",
    "df2=df1.replace({'y':{'yes':1 ,'no': 0 }})\n",
    "\n",
    "sns_plot=sns.barplot(x='day_of_week', y='y', data=df2)\n",
    "sns_plot.set(ylabel='percentage of positive outcome')\n",
    "plt.show()"
   ]
  },
  {
   "cell_type": "code",
   "execution_count": 1985,
   "metadata": {},
   "outputs": [],
   "source": [
    "# df1=df[['previous','y']]\n",
    "# df2=df1.replace({'y':{'yes':1 ,'no': 0 }})\n",
    "\n",
    "# sns_plot=sns.barplot(x='previous', y='y', data=df2)\n",
    "# sns_plot.set(ylabel='percentage of positive outcome')\n",
    "# plt.show()"
   ]
  },
  {
   "cell_type": "code",
   "execution_count": 1986,
   "metadata": {},
   "outputs": [
    {
     "data": {
      "image/png": "[encoded data removed]",
      "text/plain": [
       "<Figure size 576x396 with 1 Axes>"
      ]
     },
     "metadata": {},
     "output_type": "display_data"
    }
   ],
   "source": [
    "df1=df[['default','y']]\n",
    "df2=df1.replace({'y':{'yes':1 ,'no': 0 }})\n",
    "\n",
    "sns_plot=sns.barplot(x='default', y='y', data=df2)\n",
    "sns_plot.set(ylabel='percentage of positive outcome')\n",
    "plt.show()"
   ]
  },
  {
   "cell_type": "markdown",
   "metadata": {},
   "source": [
    "# Modeling"
   ]
  },
  {
   "cell_type": "code",
   "execution_count": 1987,
   "metadata": {},
   "outputs": [
    {
     "data": {
      "text/plain": [
       "'              precision    recall  f1-score   support\\n\\n           0       0.95      0.83      0.89     10929\\n           1       0.34      0.66      0.45      1424\\n\\n    accuracy                           0.81     12353\\n   macro avg       0.64      0.75      0.67     12353\\nweighted avg       0.88      0.81      0.84     12353\\n'"
      ]
     },
     "execution_count": 1987,
     "metadata": {},
     "output_type": "execute_result"
    }
   ],
   "source": [
    "#df.drop(['duration'], axis=1, inplace=True)\n",
    "#df.head()\n",
    "\n",
    "#df=df[df['year']=='2010']\n",
    "df.drop(['pdays','year'], axis=1, inplace=True)\n",
    "df=pd.get_dummies(df, drop_first=True)\n",
    "\n",
    "#df.dtypes\n",
    "y=df['y_yes']\n",
    "X=df.drop(['y_yes'], axis=1)\n",
    "scaler = preprocessing.StandardScaler().fit(X)\n",
    "X_scaled=scaler.transform(X) \n",
    "# # # Create training and test sets\n",
    "X_train, X_test, y_train, y_test = train_test_split(X_scaled, y, test_size = 0.3, random_state=42)\n",
    "\n",
    "# # # Create the classifier: logreg\n",
    "logreg = LogisticRegression(class_weight='balanced')\n",
    "\n",
    "# # # Fit the classifier to the training data\n",
    "logreg.fit(X_train, y_train)\n",
    "\n",
    "# # # Predict the labels of the test set: y_pred\n",
    "y_pred = logreg.predict(X_test)\n",
    "\n",
    "# # # Compute and print the confusion matrix and classification report\n",
    "confusion_matrix(y_test, y_pred)\n",
    "classification_report(y_test, y_pred)\n",
    "\n"
   ]
  },
  {
   "cell_type": "code",
   "execution_count": 1988,
   "metadata": {},
   "outputs": [
    {
     "name": "stdout",
     "output_type": "stream",
     "text": [
      "                            OLS Regression Results                            \n",
      "==============================================================================\n",
      "Dep. Variable:                  y_yes   R-squared:                       0.001\n",
      "Model:                            OLS   Adj. R-squared:                  0.001\n",
      "Method:                 Least Squares   F-statistic:                     38.04\n",
      "Date:                Wed, 09 Sep 2020   Prob (F-statistic):           7.00e-10\n",
      "Time:                        14:28:40   Log-Likelihood:                -10995.\n",
      "No. Observations:               41176   AIC:                         2.199e+04\n",
      "Df Residuals:                   41174   BIC:                         2.201e+04\n",
      "Df Model:                           1                                         \n",
      "Covariance Type:            nonrobust                                         \n",
      "==============================================================================\n",
      "                 coef    std err          t      P>|t|      [0.025      0.975]\n",
      "------------------------------------------------------------------------------\n",
      "Intercept      0.0758      0.006     12.257      0.000       0.064       0.088\n",
      "age            0.0009      0.000      6.167      0.000       0.001       0.001\n",
      "==============================================================================\n",
      "Omnibus:                    18889.995   Durbin-Watson:                   1.533\n",
      "Prob(Omnibus):                  0.000   Jarque-Bera (JB):            68547.936\n",
      "Skew:                           2.447   Prob(JB):                         0.00\n",
      "Kurtosis:                       6.999   Cond. No.                         164.\n",
      "==============================================================================\n",
      "\n",
      "Warnings:\n",
      "[1] Standard Errors assume that the covariance matrix of the errors is correctly specified.\n"
     ]
    },
    {
     "data": {
      "text/plain": [
       "0        0.127390\n",
       "1        0.128311\n",
       "2        0.109875\n",
       "3        0.112641\n",
       "4        0.127390\n",
       "           ...   \n",
       "41171    0.143060\n",
       "41172    0.118172\n",
       "41173    0.127390\n",
       "41174    0.116328\n",
       "41175    0.143982\n",
       "Length: 41176, dtype: float64"
      ]
     },
     "execution_count": 1988,
     "metadata": {},
     "output_type": "execute_result"
    },
    {
     "data": {
      "image/png": "[encoded data removed]",
      "text/plain": [
       "<Figure size 576x396 with 1 Axes>"
      ]
     },
     "metadata": {},
     "output_type": "display_data"
    }
   ],
   "source": [
    "m = ols('y_yes ~ age',df).fit()\n",
    "print(m.summary())\n",
    "plt.scatter(df.y_yes, m.fittedvalues)\n",
    "m.fittedvalues"
   ]
  },
  {
   "cell_type": "code",
   "execution_count": null,
   "metadata": {},
   "outputs": [],
   "source": []
  }
 ],
 "metadata": {
  "anaconda-cloud": {},
  "kernelspec": {
   "display_name": "Python 3",
   "language": "python",
   "name": "python3"
  },
  "language_info": {
   "codemirror_mode": {
    "name": "ipython",
    "version": 3
   },
   "file_extension": ".py",
   "mimetype": "text/x-python",
   "name": "python",
   "nbconvert_exporter": "python",
   "pygments_lexer": "ipython3",
   "version": "3.7.6"
  }
 },
 "nbformat": 4,
 "nbformat_minor": 1
}
